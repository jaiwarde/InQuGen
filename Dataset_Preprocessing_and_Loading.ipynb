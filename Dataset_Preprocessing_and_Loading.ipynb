{
  "nbformat": 4,
  "nbformat_minor": 0,
  "metadata": {
    "colab": {
      "name": "Dataset Preprocessing and Loading.ipynb",
      "provenance": [],
      "collapsed_sections": []
    },
    "kernelspec": {
      "name": "python3",
      "display_name": "Python 3"
    },
    "language_info": {
      "name": "python"
    }
  },
  "cells": [
    {
      "cell_type": "markdown",
      "metadata": {
        "id": "i7awNPUi2s8s"
      },
      "source": [
        "# Importing Libraries and Dataset"
      ]
    },
    {
      "cell_type": "markdown",
      "metadata": {
        "id": "uB6MSLxd24e0"
      },
      "source": [
        "Importing the libraries"
      ]
    },
    {
      "cell_type": "code",
      "metadata": {
        "id": "6oiSiyeWnpoQ"
      },
      "source": [
        "import pandas as pd\n",
        "import numpy as np\n",
        "import os\n",
        "from sklearn.model_selection import train_test_split"
      ],
      "execution_count": null,
      "outputs": []
    },
    {
      "cell_type": "markdown",
      "metadata": {
        "id": "zp32WfhK29AX"
      },
      "source": [
        "Importing the covid qa dataset along with context/article mapped"
      ]
    },
    {
      "cell_type": "code",
      "metadata": {
        "colab": {
          "base_uri": "https://localhost:8080/"
        },
        "id": "v56ErVlRnfCx",
        "outputId": "e37f74fa-c092-4988-fad7-0c6f974077ae"
      },
      "source": [
        "!pip install datasets\n",
        "from datasets import load_dataset\n",
        "dataset = load_dataset('covid_qa_deepset')"
      ],
      "execution_count": null,
      "outputs": [
        {
          "output_type": "stream",
          "text": [
            "Requirement already satisfied: datasets in /usr/local/lib/python3.7/dist-packages (1.9.0)\n",
            "Requirement already satisfied: requests>=2.19.0 in /usr/local/lib/python3.7/dist-packages (from datasets) (2.23.0)\n",
            "Requirement already satisfied: numpy>=1.17 in /usr/local/lib/python3.7/dist-packages (from datasets) (1.19.5)\n",
            "Requirement already satisfied: huggingface-hub<0.1.0 in /usr/local/lib/python3.7/dist-packages (from datasets) (0.0.13)\n",
            "Requirement already satisfied: pandas in /usr/local/lib/python3.7/dist-packages (from datasets) (1.1.5)\n",
            "Requirement already satisfied: multiprocess in /usr/local/lib/python3.7/dist-packages (from datasets) (0.70.12.2)\n",
            "Requirement already satisfied: pyarrow!=4.0.0,>=1.0.0 in /usr/local/lib/python3.7/dist-packages (from datasets) (3.0.0)\n",
            "Requirement already satisfied: packaging in /usr/local/lib/python3.7/dist-packages (from datasets) (20.9)\n",
            "Requirement already satisfied: dill in /usr/local/lib/python3.7/dist-packages (from datasets) (0.3.4)\n",
            "Requirement already satisfied: xxhash in /usr/local/lib/python3.7/dist-packages (from datasets) (2.0.2)\n",
            "Requirement already satisfied: importlib-metadata; python_version < \"3.8\" in /usr/local/lib/python3.7/dist-packages (from datasets) (4.6.0)\n",
            "Requirement already satisfied: tqdm>=4.27 in /usr/local/lib/python3.7/dist-packages (from datasets) (4.41.1)\n",
            "Requirement already satisfied: fsspec>=2021.05.0 in /usr/local/lib/python3.7/dist-packages (from datasets) (2021.6.1)\n",
            "Requirement already satisfied: idna<3,>=2.5 in /usr/local/lib/python3.7/dist-packages (from requests>=2.19.0->datasets) (2.10)\n",
            "Requirement already satisfied: certifi>=2017.4.17 in /usr/local/lib/python3.7/dist-packages (from requests>=2.19.0->datasets) (2021.5.30)\n",
            "Requirement already satisfied: chardet<4,>=3.0.2 in /usr/local/lib/python3.7/dist-packages (from requests>=2.19.0->datasets) (3.0.4)\n",
            "Requirement already satisfied: urllib3!=1.25.0,!=1.25.1,<1.26,>=1.21.1 in /usr/local/lib/python3.7/dist-packages (from requests>=2.19.0->datasets) (1.24.3)\n",
            "Requirement already satisfied: filelock in /usr/local/lib/python3.7/dist-packages (from huggingface-hub<0.1.0->datasets) (3.0.12)\n",
            "Requirement already satisfied: typing-extensions in /usr/local/lib/python3.7/dist-packages (from huggingface-hub<0.1.0->datasets) (3.7.4.3)\n",
            "Requirement already satisfied: pytz>=2017.2 in /usr/local/lib/python3.7/dist-packages (from pandas->datasets) (2018.9)\n",
            "Requirement already satisfied: python-dateutil>=2.7.3 in /usr/local/lib/python3.7/dist-packages (from pandas->datasets) (2.8.1)\n",
            "Requirement already satisfied: pyparsing>=2.0.2 in /usr/local/lib/python3.7/dist-packages (from packaging->datasets) (2.4.7)\n",
            "Requirement already satisfied: zipp>=0.5 in /usr/local/lib/python3.7/dist-packages (from importlib-metadata; python_version < \"3.8\"->datasets) (3.4.1)\n",
            "Requirement already satisfied: six>=1.5 in /usr/local/lib/python3.7/dist-packages (from python-dateutil>=2.7.3->pandas->datasets) (1.15.0)\n"
          ],
          "name": "stdout"
        },
        {
          "output_type": "stream",
          "text": [
            "Reusing dataset covid_qa_deepset (/root/.cache/huggingface/datasets/covid_qa_deepset/covid_qa_deepset/1.0.0/fb886523842e312176f92ec8e01e77a08fa15a694f5741af6fc42796ee9c8c46)\n"
          ],
          "name": "stderr"
        }
      ]
    },
    {
      "cell_type": "markdown",
      "metadata": {
        "id": "aTwCeq_e3QNk"
      },
      "source": [
        "# Data Preprocessing"
      ]
    },
    {
      "cell_type": "markdown",
      "metadata": {
        "id": "XlCno1BP3JD8"
      },
      "source": [
        "Converting the dictionary object to the dataframe"
      ]
    },
    {
      "cell_type": "code",
      "metadata": {
        "id": "RV7IO8PSnujO"
      },
      "source": [
        "data = pd.DataFrame.from_dict(dataset)"
      ],
      "execution_count": null,
      "outputs": []
    },
    {
      "cell_type": "code",
      "metadata": {
        "colab": {
          "base_uri": "https://localhost:8080/"
        },
        "id": "a90eFWZzbzeY",
        "outputId": "53186a0e-90fc-4065-d3f1-389093192682"
      },
      "source": [
        "data.train[0]"
      ],
      "execution_count": null,
      "outputs": [
        {
          "output_type": "execute_result",
          "data": {
            "text/plain": [
              "{'answers': {'answer_start': [370],\n",
              "  'text': ['Mother-to-child transmission (MTCT) is the main cause of HIV-1 infection in children worldwide.']},\n",
              " 'context': \"Functional Genetic Variants in DC-SIGNR Are Associated with Mother-to-Child Transmission of HIV-1\\n\\nhttps://www.ncbi.nlm.nih.gov/pmc/articles/PMC2752805/\\n\\nBoily-Larouche, Geneviève; Iscache, Anne-Laure; Zijenah, Lynn S.; Humphrey, Jean H.; Mouland, Andrew J.; Ward, Brian J.; Roger, Michel\\n2009-10-07\\nDOI:10.1371/journal.pone.0007211\\nLicense:cc-by\\n\\nAbstract: BACKGROUND: Mother-to-child transmission (MTCT) is the main cause of HIV-1 infection in children worldwide. Given that the C-type lectin receptor, dendritic cell-specific ICAM-grabbing non-integrin-related (DC-SIGNR, also known as CD209L or liver/lymph node–specific ICAM-grabbing non-integrin (L-SIGN)), can interact with pathogens including HIV-1 and is expressed at the maternal-fetal interface, we hypothesized that it could influence MTCT of HIV-1. METHODS AND FINDINGS: To investigate the potential role of DC-SIGNR in MTCT of HIV-1, we carried out a genetic association study of DC-SIGNR in a well-characterized cohort of 197 HIV-infected mothers and their infants recruited in Harare, Zimbabwe. Infants harbouring two copies of DC-SIGNR H1 and/or H3 haplotypes (H1-H1, H1-H3, H3-H3) had a 3.6-fold increased risk of in utero (IU) (P = 0.013) HIV-1 infection and a 5.7-fold increased risk of intrapartum (IP) (P = 0.025) HIV-1 infection after adjusting for a number of maternal factors. The implicated H1 and H3 haplotypes share two single nucleotide polymorphisms (SNPs) in promoter region (p-198A) and intron 2 (int2-180A) that were associated with increased risk of both IU (P = 0.045 and P = 0.003, respectively) and IP (P = 0.025, for int2-180A) HIV-1 infection. The promoter variant reduced transcriptional activity in vitro. In homozygous H1 infants bearing both the p-198A and int2-180A mutations, we observed a 4-fold decrease in the level of placental DC-SIGNR transcripts, disproportionately affecting the expression of membrane-bound isoforms compared to infant noncarriers (P = 0.011). CONCLUSION: These results suggest that DC-SIGNR plays a crucial role in MTCT of HIV-1 and that impaired placental DC-SIGNR expression increases risk of transmission.\\n\\nText: Without specific interventions, the rate of HIV-1 mother-tochild transmission (MTCT) is approximately 15-45% [1] . UNAIDS estimates that last year alone, more than 400,000 children were infected worldwide, mostly through MTCT and 90% of them lived in sub-Saharan Africa. In the most heavilyaffected countries, such as Zimbabwe, HIV-1 is responsible for one third of all deaths among children under the age of five. MTCT of HIV-1 can occur during pregnancy (in utero, IU), delivery (intrapartum, IP) or breastfeeding (postpartum, PP). High maternal viral load, low CD4 cells count, vaginal delivery, low gestational age have all been identified as independent factors associated with MTCT of HIV-1 [1] . Although antiretrovirals can reduce MTCT to 2%, limited access to timely diagnostics and drugs in many developing world countries limits the potential impact of this strategy. A better understanding of the mechanisms acting at the maternal-fetal interface is crucial for the design of alternative interventions to antiretroviral therapy for transmission prevention.\\n\\nDendritic cell-specific ICAM-grabbing non-integrin-related (DC-SIGNR, also known as CD209L or liver/lymph node-specific ICAM-grabbing non-integrin (L-SIGN)) can interact with a plethora of pathogens including HIV-1 and is expressed in placental capillary endothelial cells [2] . DC-SIGNR is organized in three distinct domains, an N-terminal cytoplasmic tail, a repeat region containing seven repeat of 23 amino acids and a C-terminal domain implicated in pathogen binding. Alternative splicing of DC-SIGNR gene leads to the production of a highly diversify isoforms repertoire which includes membrane-bound and soluble isoforms [3] . It has been proposed that interaction between DC-SIGNR and HIV-1 might enhance viral transfer to other susceptible cell types [2] but DC-SIGNR can also internalize and mediate proteasome-dependant degradation of viruses [4] that may differently affect the outcome of infection.\\n\\nGiven the presence of DC-SIGNR at the maternal-fetal interface and its interaction with HIV-1, we hypothesized that it could influence MTCT of HIV-1. To investigate the potential role of DC-SIGNR in MTCT of HIV-1, we carried out a genetic association study of DC-SIGNR in a well-characterized cohort of HIV-infected mothers and their infants recruited in Zimbabwe, and identified specific DC-SIGNR variants associated with increased risks of HIV transmission. We further characterized the functional impact of these genetic variants on DC-SIGNR expression and show that they affect both the level and type of DC-SIGNR transcripts produced in the placenta.\\n\\nSamples consisted of stored DNA extracts obtained from 197 mother-child pairs co-enrolled immediately postpartum in the ZVITAMBO Vitamin A supplementation trial (Harare, Zimbabwe) and followed at 6 weeks, and 3-monthly intervals up to 24 months. The ZVITAMBO project was a randomized placebocontrolled clinical trial that enrolled 14,110 mother-child pairs, between November 1997 and January 2000, with the main objective of investigating the impact of immediate postpartum vitamin A supplementation on MTCT of HIV-1. The samples used in the present study were from mother-child pairs randomly assigned to the placebo group of the ZVITAMBO project. Antiretroviral prophylaxis for HIV-1-positive antenatal women was not available in the Harare public-sector during ZVITAMBO patient recruitment. The samples were consecutively drawn from two groups: 97 HIV-1-positive mother/HIV-1-positive child pairs and 100 HIV-1-positive mother/HIV-negative child pairs. Mother's serological status was determined by ELISA and confirmed by Western Blot. Infants were considered to be infected if they were HIV-1 seropositive at 18 months or older and had two or more positive HIV-1-DNA polymerase chain reaction (PCR) results at earlier ages. 100 infants were considered to be uninfected as they were ELISA negative at 18 months or older and had two DNA PCR negative results from samples collected at a younger age. Of the 97 HIV-1-infected infants, 57 were infected IU, 11 were infected IP, and 17 were infected PP as determined by PCR analyses of blood samples collected at birth, 6 weeks, 3 and 6 months of age and according to the following definitions adapted from Bryson and colleagues [5] . Briefly, infants who were DNA PCR positive at birth were infected IU. Infants with negative PCR results from sample obtained at birth but who become positive by 6 weeks of age were infected IP. Infants with negative PCR results at birth and 6 weeks of age but who subsequently became DNA PCR positive were considered to be infected during the PP period. In the analysis comparing the 3 different modes of MTCT, 12 HIV-1-infected infants were excluded because the PCR results were not available at 6 weeks of age. Full methods for recruitment, baseline characteristics collection, laboratory procedures have been described elsewhere [6] .\\n\\nThe nucleotide sequence variation of the entire promoter, coding and part of 39-UTR regions of DC-SIGNR gene in the study population was determined previously [7] . Haplotype reconstruction was performed using Bayesian statistical method implemented in PHASE [8] , version 2.1.1, using single nucleotide polymorphism (SNP) with a minimum allele frequency (MAF) of 2%. We applied the algorithm five times, using different randomly generated seeds, and consistent results were obtained across runs ( Figure 1 ). Fifteen haplotype-tagged SNPs (htSNPs) were identified by the HaploBlockFinder software [9] with a MAF $5%. These htSNPs were genotyped in the 197 infants by direct PCR sequencing analysis as we have described previously [7] . The DC-SIGNR exon 4 repeat region genotype was determined by PCR amplification followed by migration in 1.5% agarose gels [10] . DNA sequences in the promoter region were analysed with the TESS interface (http//:www.cbil.upenn.edu/tess) for putative transcription factors binding sites using the TRANSFAC database.\\n\\nLuciferase reporter assays using pGL2-Basic vector were performed in order to investigate the functional effect of mutations on DC-SIGNR promoter activity. Genomic DNA from subjects homozygous for the promoter variants and WT was amplified from nucleotide position 2715 to 21 and cloned between the BglII and HindIII multiple cloning sites in the pGL2-Basic vector which harbours a reporter firefly luciferase gene downstream (Invitrogen Canada inc, Burlington, Canada). All recombinants clones were verified by DNA sequencing. The firefly luciferase test reporter vector was co-transfected at a ratio of 10:1 with the constitutive expressor of Renilla luciferase, phRL-CMV (Promega, Madison, WI, USA). We cultured HeLa cells in 6 wells plates (2610 5 cells) and transfected them the following day using lipofectamine (Invitrogen) according to the manufacturer. Cells were lysed and luciferase assays were performed using 20 mg of protein extract according to the manufacturer (Promega) at 44 h post-transfection. Firefly luciferase activity was normalized to Renilla luciferase activity. 0 mg, 0,5 mg or 1 mg CMV-Tat vector was transfected with LTR-Luc as a positive control in these experiments. We carried out lucierase assays in triplicate in three independent experiments. Results are expressed as mean6 standard error of the mean (S.E.M).\\n\\nFirst-term placental tissues were obtained from abortions following voluntary interruption of pregnancy at CHUM Hôpital Saint-Luc (Montreal, Canada). Tissues from 3 H1 (associated with MTCT of HIV-1) and 3 H15 (wild-type) homozygous haplotypes were used to analyse possible differences in isoform expression. Total placental RNAs were extracted by MasterPure DNA and RNA Extraction Kit (Epicentre Biotechnologies, Madison, WI, USA) according to the manufacturer. Fragments corresponding to the DC-SIGNR coding region were reversed transcribed (RT) and then amplified by nested PCR with the following primers; RT primers RR, first PCR RF and RR and second PCR RcF and RcR according to Liu and colleagues [11] . 1 mg of total RNA was reverse transcribed with Expand RT (Roche Applied Science, Indianapolis, IN, USA) according to the manufacturer and were PCR-amplified with DNA Platinum Taq Polymerase (Invitrogen). Major PCR products from the second PCR reaction were gel extracted with the Qiagen Gel Extraction Kit (Qiagen Canada inc, Mississauga, ON, Canada) and cloned using the TOPO TA Cloning Kit for sequencing (Invitrogen). For each placenta, 15 different clones were randomly selected and amplified with M13 primers and sequenced with ABI PRISM 3100 capillary automated sequencer (Applied Biosystems, Foster City, CA, USA). Sequences were analysed and aligned with GeneBank reference sequence NM_014257 using Lasergene software (DNA Stars, Madison, WI, USA).\\n\\nQuantitative expression of DC-SIGNR isoforms 1,5 mg of placental RNA was reverse transcribed using 2.5 mM of Oligo dT 20 and Expand RT in 20 ml volume according to the manufacturer (Roche Applied Science). 15 ng of total cDNA in a final volume of 20 ml was used to perform quantitative real-time PCR using Universal Express SYBR GreenER qPCR Supermix (Invitrogen) on a Rotor Gene Realtime Rotary Analyser (Corbett Life Science, Sydney, Australia). Samples from 2 subjects in each group were used because RNA quality of others was not suitable for a qRT-PCR analysis. Amplification of all DC-SIGNR isoforms was performed using an exon 5 specific primer pair (Table S1 ). Membrane-bound isoforms were amplified using primers specific for exon 3, corresponding to the common trans-membrane domain of DC-SIGNR. Primers were targeted to the exon-exon junction and RNA extracts were treated with DNase (Fermantas International inc, Burlington, ON, Canada) to avoid amplification of contaminant DNA. Standard curves (50-500 000 copies per reaction) were generated using serial dilution of a full-length DC-SIGNR or commercial GAPDH (Invitrogen) plasmid DNA. All qPCR reactions had efficiencies ranging from 99% to 100%, even in the presence of 20 ng of non-specific nucleic acids, and therefore could be compared. The copy number of unknown samples was estimated by placing the measured PCR cycle number (crossing threshold) on the standard curve. To correct for differences in both RNA quality and quantity between samples, the expression levels of transcripts were normalised to the reference GAPDH gene transcripts. GAPDH primer sequences were kindly provided by A. Mes-Masson at the CHUM. The results are presented as target gene copy number per 10 5 copies of GAPDH. The ratio of membrane-bound isoforms was calculated as E3/E5. Soluble isoforms were calculated by subtracting membrane-bound from total isoforms. We carried out qPCR assays in triplicate in three independent experiments. Results are expressed as mean6S.E.M.\\n\\nStatistical analysis was performed using the GraphPad PRISM 5.0 for Windows (GraphPad Software inc, San Diego, CA, USA). Differences in baseline characteristics and genotypic frequencies of haplotypes or htSNPs were compared between groups using the x 2 analysis or Fisher's exact test. Logistic regression analysis was used to estimate odds ratios (OR) for each genotype and baseline risk factors. Multiple logistic regression was used to define independent predictors identified as significant in the crude analysis. ORs and 95% confidence interval were calculated with the exact method. Comparisons of continuous variables between groups were assessed with the unpaired two-tailed Student's t test when variables were normally distributed and with the Mann-Whitney U test when otherwise. Differences were considered significant at P,0.05.\\n\\nWritten informed consent was obtained from all mothers who participated in the study and the ZVITAMBO trial and the investigation reported in this paper were approved by The \\n\\nWe carried out an association study of DC-SIGNR polymorphism in 197 infants born to untreated HIV-1-infected mothers recruited in Harare, Zimbabwe. Among them, 97 infants were HIV-1-infected and 100 infants remained uninfected. Of the 97 HIV-1-infected infants, 57 were infected IU, 11 were infected IP, and 17 were infected PP. Timing of infection was not determined for 12 HIV-1-infected infants. Baseline characteristics of mothers and infants are presented in Table 1 . Maternal age and CD4 cell count, child sex, mode of delivery, duration of membrane rupture and gestational age were similar among all groups. However, maternal viral load .29 000 copies/ml was associated with increased risk in both IU and PP with odds ratios (OR) of 3.64 (95% CI = 1.82-7.31, P = 0.0002) and 4.45 (95% CI = 1.50-13.2, P = 0.0045) for HIV-1 transmission, respectively.\\n\\nFifteen haplotype-tagged SNPs (htSNPs) corresponding to the 15 major DC-SIGNR haplotypes ( Figure 1 ) described among Zimbabweans [7] were genotyped in our study samples (Tables S2  and S3 ). H1 (31%) and H3 (11%) were the most frequent haplotypes observed (Figure 1 ). Being homozygous for the H1 haplotype was associated with increased risk of both IU (OR: 4.42, P = 0.022) and PP (OR: 7.31, P = 0.016) HIV-1 transmission ( Table 2) . Infants harbouring two copy combinations of H1 and/ or H3 haplotypes (H1-H1, H1-H3 or H3-H3) had increased risk of IU (OR: 3.42, P = 0.007) and IP (OR: 5.71, P = 0.025) but not PP (P = 0.098) HIV-1 infection compared to infant noncarriers ( Table 2 ). The latter associations remained significant after adjustment was made for the maternal viral load for both IU (OR: 3.57, 95% CI = 1.30-9.82, P = 0.013) and IP (OR: 5.71, 95% CI = 1.40-23.3, P = 0.025) HIV-1 transmission. The H1 and H3 haplotypes share a cluster of mutations (p-198A, int2-391C, int2-180A, ex4RPT, int5+7C) ( Figure 1 ). Of these, the p-198A and int2-180A variants were significantly associated with MTCT of HIV-1 (Table S2 ). In the unadjusted regression analysis, homozygous infants for the p-198A and int2-180A variants had increased risk of IU (OR: 2.07 P = 0.045, OR: 3.78, P = 0.003, respectively) and IP (OR: 2.47, P = 0.17, O.R: 5.71, P = 0.025, respectively) HIV-1 infection compared to heterozygote infants or noncarriers (Table 3) . When adjustment was made for maternal factors, only the association with the int2-180A variant remained significant for IU (OR: 3.83, 95% CI = 1.42-10.4, P = 0.008) and IP (O.R: 5.71, 95% CI = 1.40-23.3, P = 0.025) HIV-1 transmission. Thus, infants homozygous for DC-SIGNR variant int2-180A contained in H1 and H3 haplotypes were 4-fold to 6-fold more likely to be infected by HIV-1 during pregnancy or at delivery, respectively.\\n\\nAlternative splicing of the DC-SIGNR gene in the placenta produces both membrane-bound and soluble isoform repertoires [3] . The relative proportion of membrane bound and soluble DC-SIGNR could plausibly influence the susceptibility to HIV-1 infection [11] . We therefore hypothesized that the DC-SIGNR mutations associated with MTCT of HIV-1 would have an impact on both the level of DC-SIGNR expression and in the isoform repertoire produced. We investigated DC-SIGNR transcript expression in first-term placentas obtained after elective abortion.\\n\\nWe cloned DC-SIGNR from placental tissues by RT-PCR from 3 homozygous H1 samples containing both the DC-SIGNR p-198AA and int2-180AA variants associated with HIV-1 transmission and 3 homozygous wild-type (WT) (p-198CC, int2-180GG) samples. Fifteen clones per sample were randomly selected for sequencing. As expected, we found an extensive repertoire of DC-SIGNR transcripts in all samples with 9 to 16 different isoforms per individual. A total of 65 distinct transcripts were identified ( Figure S1 ), of which 3 were full-length transcripts. 64 of the sequenced clones contained a total of 69 amino acid substitutions with 3 new C termini and 2 premature stop codons. However, the diversity was mostly attributable to the entire deletion of exon 2 or exon 3 or to variations in the length of the neck region (exon 4) of DC-SIGNR. The deletion of exon 3 eliminates the trans-membrane domain of the protein and leads to the expression of soluble DC-SIGNR isoforms [3] . Interestingly, the abundance of membrane-bound isoforms in placental tissues of the H1 homozygotes appears to be lower than that observed in samples from WT individuals ( Figure S1 ). The deletion of exon 3 was confirmed by sequencing and we hypothesize that the skipping of exon 3, could be due to the presence of the int2-180A mutation observed in infants with the H1 haplotype. In fact, this intron mutation is located 180 bp downstream from exon 3 and potentially modifies splicing events (Figure 2A ). We confirmed that the variation in transcript proportions seen between the two groups was also reflected at the level of mRNA expression in the placenta. To quantify membrane-bound vs soluble isoforms in placental samples from homozygous H1 and WT infants, we amplified the exon 5 (E5) sequence present in all DC-SIGNR isoforms (total transcripts). We then amplified exon 3 (E3) which is deleted in the soluble forms and then calculated the E3:E5 ratio. We found that placental tissues from homozygous H1 infants express a significantly lower proportion of membrane-bound DC-SIGNR (18%) compared to that in WT individuals (36%) (P = 0.004) ( Figure 2B ) suggesting that exon 3 skipping happens more frequently in presence of the DC-SIGNR int2-180A variant associated with MTCT of HIV-1.\\n\\nThe DC-SIGNR int2-180A variant is always transmitted with the promoter mutation p-198A (Figure 1 ). In the unadjusted regression analysis, the p-198A variant was significantly associated with IU but not with IP and PP HIV-1 transmission (Table 3) . Computational transcription factor binding site analysis predicts Table 1 . Baseline characteristics of mother and infants risk factors for intrauterine (IU), intrapartum (IP) and postpartum (PP) mother-to-child HIV-1 transmission. Figure 3A ). The luciferase activity of the p-198A variant construct was significantly lower than that of the WT p-198C promoter construct (p-198C/A ratio = 2, P = 0.006) ( Figure 3B ) suggesting that DC-SIGNR p-198A affects promoter activity. The other promoter mutants (p-577C and p-323A) observed in the Zimbabwean population did not affect DC-SIGNR transcription in this assay ( Figure S2 ). To determine the net impact of the DC-SIGNR p-198A mutation on DC-SIGNR expression in the placenta, we quantitated the absolute number of total and membrane-bound DC-SIGNR transcripts in the H1 homozygote and wild-type placental samples as described earlier. The total number of DC-SIGNR transcripts was determined to be 6856213 (DC-SIGNR copies6S.E.M per 10 5 GAPDH copies) in the placental samples from homozygous H1 infants and was 4-fold lower compared to that found in placentas from WT individuals (27816638, P = 0.011) ( Figure 3C ). As suggested earlier, the int2-180A mutation might induce exon 3 skipping leading to a lower production of membrane-bound DC-SIGNR. Although, the decrease in the total number of DC-SIGNR transcripts in H1 homozygous placental samples containing both the p-198AA and int2-180AA variants affected the proportion of membrane-bound and soluble isoforms, the effect of these mutations was more pronounced on the membrane-bound isoforms with an 8-fold decrease (H1 = 117636.2 vs WT = 9906220.6, P = 0.003) compared to a 3-fold decrease in total soluble isoforms (H1 = 5686181.9 vs WT = 19256495.3, P = 0.03) ( Figure 3C ). Therefore, DC-SIGNR p-198A and int2-180A mutations associated with MTCT of HIV-1 significantly decreased the level of total placental DC-SIGNR transcripts, disproportionately affecting the membrane-bound isoform production. Table 3 . Associations between infant DC-SIGNR promoter p-198 and intron 2 (int2)-180 variants and intrauterine (IU), intrapartum (IP) and postpartum (PP) mother-to-child HIV-1 transmission. \\n\\nOur genetic results, supported by expression assay in placenta, suggest the involvement of DC-SIGNR in MTCT of HIV-1. Homozygosity for the haplotype H1 was associated with IU transmission in the unadjusted regression analysis. However, the association disappeared after adjustment was made for the maternal factors presumably because of the small number of H1 homozygote infants analysed in each groups. H1 and H3 were the most frequent haplotypes observed in the study population and they share a cluster of mutations (Figure 1 ). Grouping haplotypes H1 and H3 increased the power of the study and permitted the identification of specific DC-SIGNR mutations associated with MTCT of HIV-1. Indeed, two mutations shared by haplotypes H1 and H3 were associated with vertical transmission of HIV-1. The int2-180A was associated with a 4-fold increased risk of IU and 6fold increased risk of IP after adjustment for the maternal factors. Although the p-198A variant was associated with IU transmission, the association disappeared after adjustment was made for the maternal viral load. Nevertheless, we showed that this mutation reduces DC-SIGNR transcriptional activity in vitro and produces lower level of DC-SIGNR transcripts in placental tissues in combination with the int2-180A variant. Since int2-180A is always transmitted with p-198A on the MTCT associated combined haplotypes H1/H3, whereas p-198A is carried on other nonassociated haplotypes (Figure 1) , we can speculate that the p-198A mutation alone may have a minor effect in vivo whereas in combination with the int2-180A variant, they both act to reduce the level of placental DC-SIGNR expression resulting in an increased risk of MTCT of HIV-1.\\n\\nThe majority of IU transmission occurs during the last trimester of pregnancy (reviewed in [12] ). Full-term placenta samples were not available for the current study and the expression assays were performed on first-term placental tissues. A previous study looking at DC-SIGNR placental isoforms repertoire in full-term placenta samples demonstrated similar diversity of DC-SIGNR transcripts as in the first-term placental tissues studied herein [3] . However, since levels of DC-SIGNR expression have never been compared between the different terms of pregnancy, it is not known whether DC-SIGNR expression varies during the course of pregnancy. Nevertheless, it is reasonable to assume that the inter-individual differences in both DC-SIGNR isoform repertoire and transcript levels observed between the H1 and WT homozygous infants would be reflected throughout the pregnancy. To date, most studies have focused on the potential role of DC-SIGNR in trans infection of HIV-1 in vitro [2, 10] . However, the multiple mechanisms involved in trans infection and redundancy among C-type lectin functions make it difficult to determine the actual participation of DC-SIGNR in this mode of infection in vivo [13, 14] . The strong correlation we observed between MTCT of HIV-1 and DC-SIGNR genetic variants producing low levels of DC-SIGNR in the placenta suggested that mechanisms other than DC-SIGNR-mediated trans infection might operate during vertical transmission of HIV-1. For example, DC-SIGNR has also been shown to function as a HIV-1 antigen-capturing receptor [15] . Chan and colleagues recently demonstrated that DC-SIGNR transfected CHO cells diminish SARS-CoV titers by enhanced capture and degradation of the virus in a proteasome-dependent manner [4] . Since endothelial cells express MHC-I and II, degraded viral antigens could then be presented to immune cells to elicit an adaptive immune response [16, 17] . The HIV-1 coreceptor CCR5, but not CD4, is co-expressed with DC-SIGNR on placental and blood-brain barrier (BBB) endothelial cells [18, 19] . HIV-1 gp120 binding to CCR5 receptor on endothelial cells compromises BBB integrity and enhances monocytes adhesion and transmigration across the BBB [20, 21] . It is thus possible that reduced expression of DC-SIGNR, particularly the membranebound isoforms, on placental capillary endothelial cells might favour HIV-1 binding to CCR5 receptor, instead of DC-SIGNR receptor, facilitating the migration of maternal HIV-1-infected cells across the placental barrier resulting in IU transmission of HIV-1.\\n\\nThe int2-180A variant contained in the H1 and H3 haplotypes was associated with IP transmission suggesting that DC-SIGNR also affect transmission of HIV-1 during delivery. Little is known about the mechanisms underlying transmission of HIV-1 during delivery. Passage through the birth canal could potentially expose infants through a mucosal portal entry (presumably ophthalmic, skin, or gastrointestinal), whereas placental insult during delivery (physical or inflammatory) may enhance transplacental passage of maternal HIV-1-infected cells into foetal circulation [22, 23] . Such process called microtransfusion has been proposed in regards to the results obtain in a Malawian cohort. Kweik and colleagues found a significant association between levels of maternal DNA in umbilical cord blood and IP transmission of HIV-1 suggesting that passage of maternal infected cells through the placenta is likely to occur during delivery [22] . Thus, in a similar fashion as suggested earlier for IU transmission, the relatively lower level of DC-SIGNR in the placenta of homozygous infants harbouring the int2-180A variant could promote HIV-1 binding to CCR5 receptor on endothelial cells affecting the placental barrier integrity and facilitating the passage of maternal infected cells in foetal circulation during delivery.\\n\\nBeside DC-SIGNR, other HIV-1 receptors are known to influence MTCT of HIV-1 (reviewed in [24] ). Genetic variants in CCR5 have been shown to influence vertical transmission of HIV-1. CCR5 promoter variants resulting in higher expression of the receptor were associated with increased risk of MTCT of HIV-1 among sub-Saharan Africans [25, 26] . The 32-pb deletion polymorphism in CCR5 has be shown to protect from vertical transmission of HIV-1 [27] , but this variant is virtually absent among African populations [28] . High copy numbers of CCL3L1, a potent HIV-1 suppressive ligand for CCR5, are associated with higher chemokine production and lower risk of MTCT of HIV-1 among South African infants [29, 30] . Mannose-binding lectin (MBL) is an innate immune receptor synthesised in the liver and secreted in the bloodstream in response to inflammation signal. MBL promotes pathogen elimination by opsonization and phagocytosis, and reduced expression of MBL resulting from polymorphism in coding and non-coding regions has been associated with an increased risk of MTCT of HIV-1 [31, 32] .\\n\\nIn this study, we demonstrate for the first time, the potential functional impact of DC-SIGNR mutations on its expression in the placenta and in vertical transmission of HIV-1. We believe that the presence of DC-SIGNR at the placental endothelial cell surface may protect infants from HIV-1 infection by capturing virus and promoting its degradation/presentation. However, in placenta containing low levels of DC-SIGNR, HIV-1 would preferentially binds CCR5 on endothelial cells resulting in a loss of placental barrier integrity and enhanced passage of maternal HIV-1-infected cells in foetal circulation leading to MTCT of HIV-1. This mechanism may also apply to other vertically-transmitted pathogens known to interact with DC-SIGNR such as HIV-2, hepatitis C and dengue viruses and warrant further investigation. \\n\\nAssociations between child DC-SIGNR exon 4 repeated region genotypes and mother-to-child HIV-1 transmission.CI, Confidence interval; N, number; NA; not applicable; OR, odds ratio a P-value as determined by the Chi-square test. b Comparison between genotype and all others. Found at: doi:10.1371/journal.pone.0007211.s003 (0.05 MB DOC) Figure S1 DC-SIGNR transcripts repertoire in placenta. Major RT-PCR products from RNA extract from 3 homozygous H1 and 3 homozygous WT placenta samples were purified, cloned and sequenced. Sequenced were analysed according to NCBI reference sequence NM_014257. CT; cytoplasmic tail, TM; trans-membrane domain; WT; wild-type Found at: doi:10.1371/journal.pone.0007211.s004 (0.11 MB DOC) Figure S2 Effect of DC-SIGNR promoter variant on transcriptional activity in luciferase reporter assay in vitro in transfected HeLa cells. Relative luciferase expression from pGL2-Basic, parental vector without promoter. Expression DC-SIGNR promoter constructs, spanning p-577C variant or p-323A variant were calculated relatively to this value. Data are presented in mean values6S.E.M of three independent experiments performed in triplicate. One-way ANOVA test followed by the Dunnett test for multiple comparison was used to compare the relative luciferase expression of the p-557C and p-323A variant reporters against the wild-type (WT) construct (not significant). 0 mg, 0,5 mg or 1 mg CMV-Tat vector was transfected with LTR-Luc as a positive control in these experiments.\",\n",
              " 'document_id': 630,\n",
              " 'id': 262,\n",
              " 'is_impossible': False,\n",
              " 'question': 'What is the main cause of HIV-1 infection in children?'}"
            ]
          },
          "metadata": {
            "tags": []
          },
          "execution_count": 31
        }
      ]
    },
    {
      "cell_type": "markdown",
      "metadata": {
        "id": "O8cEfKWB3ca9"
      },
      "source": [
        "Extracting the feature from the dictionary file object present as single column"
      ]
    },
    {
      "cell_type": "code",
      "metadata": {
        "id": "NDOO3z5xoUx_"
      },
      "source": [
        "ans = []\n",
        "ques = []\n",
        "context = []\n",
        "id = []\n",
        "document_id = []\n",
        "for i in range(data.train.size):\n",
        "  ans.append(data.train[i]['answers']['text'])\n",
        "  context.append(data.train[i]['context'])\n",
        "  id.append(data.train[i]['id'])\n",
        "  document_id.append(data.train[i]['document_id'])\n",
        "  ques.append(data.train[i]['question'])"
      ],
      "execution_count": null,
      "outputs": []
    },
    {
      "cell_type": "markdown",
      "metadata": {
        "id": "IZ9kxDIw3jBM"
      },
      "source": [
        "Creating the final dataframe with the set of columns"
      ]
    },
    {
      "cell_type": "code",
      "metadata": {
        "id": "oDToy1Xhph5X"
      },
      "source": [
        "df = pd.DataFrame()\n",
        "df['id'] = id\n",
        "df['document_id'] = document_id\n",
        "df['context'] = context\n",
        "df['question'] = ques\n",
        "df['answer'] = ans"
      ],
      "execution_count": null,
      "outputs": []
    },
    {
      "cell_type": "markdown",
      "metadata": {
        "id": "0-Sn_Znl31Ay"
      },
      "source": [
        "Converting the answer from list to string datatype\n"
      ]
    },
    {
      "cell_type": "code",
      "metadata": {
        "id": "gPl4CIpjp2wd"
      },
      "source": [
        "ans = []\n",
        "for i in range(df.answer.size):\n",
        "   ans.append(' '.join([str(elem) for elem in df['answer'][i]]))\n",
        "df.drop('answer',axis=1)\n",
        "df['answer'] = ans"
      ],
      "execution_count": null,
      "outputs": []
    },
    {
      "cell_type": "markdown",
      "metadata": {
        "id": "IsSSlF633yFN"
      },
      "source": [
        "Checking the unique set of documents"
      ]
    },
    {
      "cell_type": "code",
      "metadata": {
        "colab": {
          "base_uri": "https://localhost:8080/"
        },
        "id": "QzIZpFaMvXYd",
        "outputId": "3c69c9fd-f512-47a8-806f-48d406d7cc91"
      },
      "source": [
        "df.document_id.unique()"
      ],
      "execution_count": null,
      "outputs": [
        {
          "output_type": "execute_result",
          "data": {
            "text/plain": [
              "array([ 630,  650, 1546, 1545, 1552, 1553, 1557, 1565,  641, 1547,  187,\n",
              "       1582, 1571, 1585, 1575, 2585, 1556, 1569, 1551, 1594, 1570, 1567,\n",
              "       1563, 1549, 1564, 1560, 1561, 1562, 1573, 1591, 1579, 1583, 1588,\n",
              "       1589, 1554, 1568, 1566, 1548, 1574, 1581, 1593, 1550, 1572, 1576,\n",
              "       1590, 1578, 1580, 1584, 1586, 1587, 1592, 1597, 1598, 1600, 1603,\n",
              "       1606, 1596, 1604, 1599, 1601, 1602, 1605, 1607, 1608, 1632, 1631,\n",
              "       1628, 2439, 2432, 1620, 2437, 1625, 1627, 2440, 1633, 1634, 2466,\n",
              "       2458, 1621, 1629, 1623, 2459, 1663, 1660, 1645, 2461, 2463, 1652,\n",
              "       1656, 2450, 1676, 1661, 1662, 1674, 1666, 1667, 1679, 1671, 2486,\n",
              "       1664, 1730, 1665, 1595, 1684, 1719, 1686, 1687, 1690, 1689, 1688,\n",
              "       1691, 1698,  185,  186, 1741, 2527,  188, 2522, 1714, 2519, 1618,\n",
              "       1722, 2592, 2551, 2555, 2554, 1740, 2526, 2504, 2565, 2683, 2675,\n",
              "       2653, 2652, 2642, 2669, 2628, 2684, 2620, 2634, 2674, 2651, 1559,\n",
              "       2668, 2643,  776, 1713])"
            ]
          },
          "metadata": {
            "tags": []
          },
          "execution_count": 38
        }
      ]
    },
    {
      "cell_type": "code",
      "metadata": {
        "colab": {
          "base_uri": "https://localhost:8080/",
          "height": 287
        },
        "id": "XJ_FBd9WrriR",
        "outputId": "f73abbad-ce0f-403e-dc86-671cce694a18"
      },
      "source": [
        "df[df.document_id == 1713]"
      ],
      "execution_count": null,
      "outputs": [
        {
          "output_type": "execute_result",
          "data": {
            "text/html": [
              "<div>\n",
              "<style scoped>\n",
              "    .dataframe tbody tr th:only-of-type {\n",
              "        vertical-align: middle;\n",
              "    }\n",
              "\n",
              "    .dataframe tbody tr th {\n",
              "        vertical-align: top;\n",
              "    }\n",
              "\n",
              "    .dataframe thead th {\n",
              "        text-align: right;\n",
              "    }\n",
              "</style>\n",
              "<table border=\"1\" class=\"dataframe\">\n",
              "  <thead>\n",
              "    <tr style=\"text-align: right;\">\n",
              "      <th></th>\n",
              "      <th>id</th>\n",
              "      <th>document_id</th>\n",
              "      <th>context</th>\n",
              "      <th>question</th>\n",
              "      <th>answer</th>\n",
              "    </tr>\n",
              "  </thead>\n",
              "  <tbody>\n",
              "    <tr>\n",
              "      <th>2014</th>\n",
              "      <td>5315</td>\n",
              "      <td>1713</td>\n",
              "      <td>Ebola Virus Maintenance: If Not (Only) Bats, W...</td>\n",
              "      <td>What is the structure of the Ebolavirus?</td>\n",
              "      <td>single-strand RNA filoviruses</td>\n",
              "    </tr>\n",
              "    <tr>\n",
              "      <th>2015</th>\n",
              "      <td>5316</td>\n",
              "      <td>1713</td>\n",
              "      <td>Ebola Virus Maintenance: If Not (Only) Bats, W...</td>\n",
              "      <td>When was the West African Ebolavirus outbreak?</td>\n",
              "      <td>2013-2016</td>\n",
              "    </tr>\n",
              "    <tr>\n",
              "      <th>2016</th>\n",
              "      <td>5317</td>\n",
              "      <td>1713</td>\n",
              "      <td>Ebola Virus Maintenance: If Not (Only) Bats, W...</td>\n",
              "      <td>What animals are considered to be maintenance ...</td>\n",
              "      <td>African bats</td>\n",
              "    </tr>\n",
              "    <tr>\n",
              "      <th>2017</th>\n",
              "      <td>5318</td>\n",
              "      <td>1713</td>\n",
              "      <td>Ebola Virus Maintenance: If Not (Only) Bats, W...</td>\n",
              "      <td>What do circles indicate in Figure 1?</td>\n",
              "      <td>a maintenance function play by the host(s)</td>\n",
              "    </tr>\n",
              "    <tr>\n",
              "      <th>2018</th>\n",
              "      <td>5319</td>\n",
              "      <td>1713</td>\n",
              "      <td>Ebola Virus Maintenance: If Not (Only) Bats, W...</td>\n",
              "      <td>What do arrows indicate in Figure 1?</td>\n",
              "      <td>infectious transmission pathways between hosts</td>\n",
              "    </tr>\n",
              "  </tbody>\n",
              "</table>\n",
              "</div>"
            ],
            "text/plain": [
              "        id  ...                                          answer\n",
              "2014  5315  ...                   single-strand RNA filoviruses\n",
              "2015  5316  ...                                       2013-2016\n",
              "2016  5317  ...                                    African bats\n",
              "2017  5318  ...      a maintenance function play by the host(s)\n",
              "2018  5319  ...  infectious transmission pathways between hosts\n",
              "\n",
              "[5 rows x 5 columns]"
            ]
          },
          "metadata": {
            "tags": []
          },
          "execution_count": 39
        }
      ]
    },
    {
      "cell_type": "markdown",
      "metadata": {
        "id": "NixW2Q0T3qI5"
      },
      "source": [
        "Concatenating  the answer and context to feed as single input text to the T5 transformer model\n"
      ]
    },
    {
      "cell_type": "code",
      "metadata": {
        "id": "6qv6vbDszphm"
      },
      "source": [
        "df['text'] = '<answer> ' + df['answer'].astype(str) + ' <context> ' + df['context'].astype(str)"
      ],
      "execution_count": null,
      "outputs": []
    },
    {
      "cell_type": "code",
      "metadata": {
        "colab": {
          "base_uri": "https://localhost:8080/",
          "height": 287
        },
        "id": "8cLsA-ZBXT-O",
        "outputId": "0dc6d5e4-5177-4ad7-ecd4-49019e921507"
      },
      "source": [
        "df.head()"
      ],
      "execution_count": null,
      "outputs": [
        {
          "output_type": "execute_result",
          "data": {
            "text/html": [
              "<div>\n",
              "<style scoped>\n",
              "    .dataframe tbody tr th:only-of-type {\n",
              "        vertical-align: middle;\n",
              "    }\n",
              "\n",
              "    .dataframe tbody tr th {\n",
              "        vertical-align: top;\n",
              "    }\n",
              "\n",
              "    .dataframe thead th {\n",
              "        text-align: right;\n",
              "    }\n",
              "</style>\n",
              "<table border=\"1\" class=\"dataframe\">\n",
              "  <thead>\n",
              "    <tr style=\"text-align: right;\">\n",
              "      <th></th>\n",
              "      <th>id</th>\n",
              "      <th>document_id</th>\n",
              "      <th>context</th>\n",
              "      <th>question</th>\n",
              "      <th>answer</th>\n",
              "      <th>text</th>\n",
              "    </tr>\n",
              "  </thead>\n",
              "  <tbody>\n",
              "    <tr>\n",
              "      <th>0</th>\n",
              "      <td>262</td>\n",
              "      <td>630</td>\n",
              "      <td>Functional Genetic Variants in DC-SIGNR Are As...</td>\n",
              "      <td>What is the main cause of HIV-1 infection in c...</td>\n",
              "      <td>Mother-to-child transmission (MTCT) is the mai...</td>\n",
              "      <td>&lt;answer&gt; Mother-to-child transmission (MTCT) i...</td>\n",
              "    </tr>\n",
              "    <tr>\n",
              "      <th>1</th>\n",
              "      <td>276</td>\n",
              "      <td>630</td>\n",
              "      <td>Functional Genetic Variants in DC-SIGNR Are As...</td>\n",
              "      <td>What plays the crucial role in the Mother to C...</td>\n",
              "      <td>DC-SIGNR plays a crucial role in MTCT of HIV-1...</td>\n",
              "      <td>&lt;answer&gt; DC-SIGNR plays a crucial role in MTCT...</td>\n",
              "    </tr>\n",
              "    <tr>\n",
              "      <th>2</th>\n",
              "      <td>278</td>\n",
              "      <td>630</td>\n",
              "      <td>Functional Genetic Variants in DC-SIGNR Are As...</td>\n",
              "      <td>How many children were infected by HIV-1 in 20...</td>\n",
              "      <td>more than 400,000 children were infected world...</td>\n",
              "      <td>&lt;answer&gt; more than 400,000 children were infec...</td>\n",
              "    </tr>\n",
              "    <tr>\n",
              "      <th>3</th>\n",
              "      <td>316</td>\n",
              "      <td>630</td>\n",
              "      <td>Functional Genetic Variants in DC-SIGNR Are As...</td>\n",
              "      <td>What is the role of C-C Motif Chemokine Ligand...</td>\n",
              "      <td>High copy numbers of CCL3L1, a potent HIV-1 su...</td>\n",
              "      <td>&lt;answer&gt; High copy numbers of CCL3L1, a potent...</td>\n",
              "    </tr>\n",
              "    <tr>\n",
              "      <th>4</th>\n",
              "      <td>305</td>\n",
              "      <td>630</td>\n",
              "      <td>Functional Genetic Variants in DC-SIGNR Are As...</td>\n",
              "      <td>What is DC-GENR and where is  it expressed?</td>\n",
              "      <td>Dendritic cell-specific ICAM-grabbing non-inte...</td>\n",
              "      <td>&lt;answer&gt; Dendritic cell-specific ICAM-grabbing...</td>\n",
              "    </tr>\n",
              "  </tbody>\n",
              "</table>\n",
              "</div>"
            ],
            "text/plain": [
              "    id  ...                                               text\n",
              "0  262  ...  <answer> Mother-to-child transmission (MTCT) i...\n",
              "1  276  ...  <answer> DC-SIGNR plays a crucial role in MTCT...\n",
              "2  278  ...  <answer> more than 400,000 children were infec...\n",
              "3  316  ...  <answer> High copy numbers of CCL3L1, a potent...\n",
              "4  305  ...  <answer> Dendritic cell-specific ICAM-grabbing...\n",
              "\n",
              "[5 rows x 6 columns]"
            ]
          },
          "metadata": {
            "tags": []
          },
          "execution_count": 41
        }
      ]
    },
    {
      "cell_type": "markdown",
      "metadata": {
        "id": "EUD1XIOY37nd"
      },
      "source": [
        "# Storing the data on google drive"
      ]
    },
    {
      "cell_type": "markdown",
      "metadata": {
        "id": "jEMhY8W24HWC"
      },
      "source": [
        "Mount the google drive"
      ]
    },
    {
      "cell_type": "code",
      "metadata": {
        "colab": {
          "base_uri": "https://localhost:8080/"
        },
        "id": "_gdCdeleY2Dm",
        "outputId": "2f98196e-e35d-4de2-8192-3046c4e82f4a"
      },
      "source": [
        "from google.colab import drive\n",
        "drive.mount('/content/gdrive')"
      ],
      "execution_count": null,
      "outputs": [
        {
          "output_type": "stream",
          "text": [
            "Mounted at /content/gdrive\n"
          ],
          "name": "stdout"
        }
      ]
    },
    {
      "cell_type": "markdown",
      "metadata": {
        "id": "XnrvrL3Z4M8z"
      },
      "source": [
        "Choose a Google Drive directory to store the data.\n"
      ]
    },
    {
      "cell_type": "code",
      "metadata": {
        "id": "Ef0cYSBNY1CJ"
      },
      "source": [
        "download_path = os.path.expanduser('/content/gdrive/MyDrive/QG_dataset')\n",
        "try:\n",
        "  os.makedirs(download_path)\n",
        "except: pass"
      ],
      "execution_count": null,
      "outputs": []
    },
    {
      "cell_type": "markdown",
      "metadata": {
        "id": "61obNH4L4QEG"
      },
      "source": [
        "Saving the whole data to the dataset directory\n"
      ]
    },
    {
      "cell_type": "code",
      "metadata": {
        "id": "MmoRDG45Yd0c"
      },
      "source": [
        "df.to_csv(os.path.join(download_path, 'Dataset.csv'))"
      ],
      "execution_count": null,
      "outputs": []
    },
    {
      "cell_type": "markdown",
      "metadata": {
        "id": "7cxoJqiw4SZv"
      },
      "source": [
        "Splitting the data for the t5 transformer for question generation task\n"
      ]
    },
    {
      "cell_type": "code",
      "metadata": {
        "id": "wEOnPk8zYLS4"
      },
      "source": [
        "train_df, val_df = train_test_split(df[['question','text']], test_size=0.15)\n",
        "\n",
        "train_df.to_csv(os.path.join(download_path, 'qg_train.csv'))\n",
        "val_df.to_csv(os.path.join(download_path, 'qg_valid.csv'))"
      ],
      "execution_count": null,
      "outputs": []
    },
    {
      "cell_type": "markdown",
      "metadata": {
        "id": "d4_QVcX84Vmw"
      },
      "source": [
        "Splitting the data for the BERT transformer for question evaluation task\n"
      ]
    },
    {
      "cell_type": "code",
      "metadata": {
        "id": "z-UDvdSsdfmx"
      },
      "source": [
        "train_df, val_df = train_test_split(df[['question','answer']], test_size=0.15)\n",
        "\n",
        "train_df.to_csv(os.path.join(download_path, 'qa_eval_train.csv'))\n",
        "val_df.to_csv(os.path.join(download_path, 'qa_eval_valid.csv'))"
      ],
      "execution_count": null,
      "outputs": []
    }
  ]
}