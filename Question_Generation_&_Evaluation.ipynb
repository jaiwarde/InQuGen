{
  "nbformat": 4,
  "nbformat_minor": 0,
  "metadata": {
    "accelerator": "GPU",
    "colab": {
      "name": "Question Generation & Evaluation.ipynb",
      "provenance": [],
      "collapsed_sections": [
        "VuKccNZ1fse4",
        "AmrYmjWvfiM5",
        "YmK3EF_HfKex"
      ]
    },
    "kernelspec": {
      "display_name": "Python 3",
      "name": "python3"
    },
    "language_info": {
      "name": "python"
    },
    "widgets": {
      "application/vnd.jupyter.widget-state+json": {
        "f233deb2dd7d42d491e3bd2086ca21bb": {
          "model_module": "@jupyter-widgets/controls",
          "model_name": "HBoxModel",
          "model_module_version": "1.5.0",
          "state": {
            "_view_name": "HBoxView",
            "_dom_classes": [],
            "_model_name": "HBoxModel",
            "_view_module": "@jupyter-widgets/controls",
            "_model_module_version": "1.5.0",
            "_view_count": null,
            "_view_module_version": "1.5.0",
            "box_style": "",
            "layout": "IPY_MODEL_242e698c3b714669be7e00e9834bacba",
            "_model_module": "@jupyter-widgets/controls",
            "children": [
              "IPY_MODEL_5b51b84b99a04bdaac2f6abb74122f80",
              "IPY_MODEL_35d226c5f75041ad9aeb4b6a2197fdd7"
            ]
          }
        },
        "242e698c3b714669be7e00e9834bacba": {
          "model_module": "@jupyter-widgets/base",
          "model_name": "LayoutModel",
          "model_module_version": "1.2.0",
          "state": {
            "_view_name": "LayoutView",
            "grid_template_rows": null,
            "right": null,
            "justify_content": null,
            "_view_module": "@jupyter-widgets/base",
            "overflow": null,
            "_model_module_version": "1.2.0",
            "_view_count": null,
            "flex_flow": null,
            "width": null,
            "min_width": null,
            "border": null,
            "align_items": null,
            "bottom": null,
            "_model_module": "@jupyter-widgets/base",
            "top": null,
            "grid_column": null,
            "overflow_y": null,
            "overflow_x": null,
            "grid_auto_flow": null,
            "grid_area": null,
            "grid_template_columns": null,
            "flex": null,
            "_model_name": "LayoutModel",
            "justify_items": null,
            "grid_row": null,
            "max_height": null,
            "align_content": null,
            "visibility": null,
            "align_self": null,
            "height": null,
            "min_height": null,
            "padding": null,
            "grid_auto_rows": null,
            "grid_gap": null,
            "max_width": null,
            "order": null,
            "_view_module_version": "1.2.0",
            "grid_template_areas": null,
            "object_position": null,
            "object_fit": null,
            "grid_auto_columns": null,
            "margin": null,
            "display": null,
            "left": null
          }
        },
        "5b51b84b99a04bdaac2f6abb74122f80": {
          "model_module": "@jupyter-widgets/controls",
          "model_name": "FloatProgressModel",
          "model_module_version": "1.5.0",
          "state": {
            "_view_name": "ProgressView",
            "style": "IPY_MODEL_e8a100a10dd44fb49bbeebdf2b569511",
            "_dom_classes": [],
            "description": "Downloading: 100%",
            "_model_name": "FloatProgressModel",
            "bar_style": "success",
            "max": 25,
            "_view_module": "@jupyter-widgets/controls",
            "_model_module_version": "1.5.0",
            "value": 25,
            "_view_count": null,
            "_view_module_version": "1.5.0",
            "orientation": "horizontal",
            "min": 0,
            "description_tooltip": null,
            "_model_module": "@jupyter-widgets/controls",
            "layout": "IPY_MODEL_3d7f9a30d19b4dea88e8e247ba59b7a3"
          }
        },
        "35d226c5f75041ad9aeb4b6a2197fdd7": {
          "model_module": "@jupyter-widgets/controls",
          "model_name": "HTMLModel",
          "model_module_version": "1.5.0",
          "state": {
            "_view_name": "HTMLView",
            "style": "IPY_MODEL_75bb36d482604180bdc6e688707452dd",
            "_dom_classes": [],
            "description": "",
            "_model_name": "HTMLModel",
            "placeholder": "​",
            "_view_module": "@jupyter-widgets/controls",
            "_model_module_version": "1.5.0",
            "value": " 25.0/25.0 [00:00&lt;00:00, 43.0B/s]",
            "_view_count": null,
            "_view_module_version": "1.5.0",
            "description_tooltip": null,
            "_model_module": "@jupyter-widgets/controls",
            "layout": "IPY_MODEL_5397b0ff5fff4fd0904f1289b2852850"
          }
        },
        "e8a100a10dd44fb49bbeebdf2b569511": {
          "model_module": "@jupyter-widgets/controls",
          "model_name": "ProgressStyleModel",
          "model_module_version": "1.5.0",
          "state": {
            "_view_name": "StyleView",
            "_model_name": "ProgressStyleModel",
            "description_width": "initial",
            "_view_module": "@jupyter-widgets/base",
            "_model_module_version": "1.5.0",
            "_view_count": null,
            "_view_module_version": "1.2.0",
            "bar_color": null,
            "_model_module": "@jupyter-widgets/controls"
          }
        },
        "3d7f9a30d19b4dea88e8e247ba59b7a3": {
          "model_module": "@jupyter-widgets/base",
          "model_name": "LayoutModel",
          "model_module_version": "1.2.0",
          "state": {
            "_view_name": "LayoutView",
            "grid_template_rows": null,
            "right": null,
            "justify_content": null,
            "_view_module": "@jupyter-widgets/base",
            "overflow": null,
            "_model_module_version": "1.2.0",
            "_view_count": null,
            "flex_flow": null,
            "width": null,
            "min_width": null,
            "border": null,
            "align_items": null,
            "bottom": null,
            "_model_module": "@jupyter-widgets/base",
            "top": null,
            "grid_column": null,
            "overflow_y": null,
            "overflow_x": null,
            "grid_auto_flow": null,
            "grid_area": null,
            "grid_template_columns": null,
            "flex": null,
            "_model_name": "LayoutModel",
            "justify_items": null,
            "grid_row": null,
            "max_height": null,
            "align_content": null,
            "visibility": null,
            "align_self": null,
            "height": null,
            "min_height": null,
            "padding": null,
            "grid_auto_rows": null,
            "grid_gap": null,
            "max_width": null,
            "order": null,
            "_view_module_version": "1.2.0",
            "grid_template_areas": null,
            "object_position": null,
            "object_fit": null,
            "grid_auto_columns": null,
            "margin": null,
            "display": null,
            "left": null
          }
        },
        "75bb36d482604180bdc6e688707452dd": {
          "model_module": "@jupyter-widgets/controls",
          "model_name": "DescriptionStyleModel",
          "model_module_version": "1.5.0",
          "state": {
            "_view_name": "StyleView",
            "_model_name": "DescriptionStyleModel",
            "description_width": "",
            "_view_module": "@jupyter-widgets/base",
            "_model_module_version": "1.5.0",
            "_view_count": null,
            "_view_module_version": "1.2.0",
            "_model_module": "@jupyter-widgets/controls"
          }
        },
        "5397b0ff5fff4fd0904f1289b2852850": {
          "model_module": "@jupyter-widgets/base",
          "model_name": "LayoutModel",
          "model_module_version": "1.2.0",
          "state": {
            "_view_name": "LayoutView",
            "grid_template_rows": null,
            "right": null,
            "justify_content": null,
            "_view_module": "@jupyter-widgets/base",
            "overflow": null,
            "_model_module_version": "1.2.0",
            "_view_count": null,
            "flex_flow": null,
            "width": null,
            "min_width": null,
            "border": null,
            "align_items": null,
            "bottom": null,
            "_model_module": "@jupyter-widgets/base",
            "top": null,
            "grid_column": null,
            "overflow_y": null,
            "overflow_x": null,
            "grid_auto_flow": null,
            "grid_area": null,
            "grid_template_columns": null,
            "flex": null,
            "_model_name": "LayoutModel",
            "justify_items": null,
            "grid_row": null,
            "max_height": null,
            "align_content": null,
            "visibility": null,
            "align_self": null,
            "height": null,
            "min_height": null,
            "padding": null,
            "grid_auto_rows": null,
            "grid_gap": null,
            "max_width": null,
            "order": null,
            "_view_module_version": "1.2.0",
            "grid_template_areas": null,
            "object_position": null,
            "object_fit": null,
            "grid_auto_columns": null,
            "margin": null,
            "display": null,
            "left": null
          }
        },
        "acbe1b0f027e4316a30c59082c1f2568": {
          "model_module": "@jupyter-widgets/controls",
          "model_name": "HBoxModel",
          "model_module_version": "1.5.0",
          "state": {
            "_view_name": "HBoxView",
            "_dom_classes": [],
            "_model_name": "HBoxModel",
            "_view_module": "@jupyter-widgets/controls",
            "_model_module_version": "1.5.0",
            "_view_count": null,
            "_view_module_version": "1.5.0",
            "box_style": "",
            "layout": "IPY_MODEL_89e66fbebd394e5fb58d5d3f82872333",
            "_model_module": "@jupyter-widgets/controls",
            "children": [
              "IPY_MODEL_3381f66234f84e4781c69eb0d3938930",
              "IPY_MODEL_8e7fef6433144eda843a7b98a8a42ee3"
            ]
          }
        },
        "89e66fbebd394e5fb58d5d3f82872333": {
          "model_module": "@jupyter-widgets/base",
          "model_name": "LayoutModel",
          "model_module_version": "1.2.0",
          "state": {
            "_view_name": "LayoutView",
            "grid_template_rows": null,
            "right": null,
            "justify_content": null,
            "_view_module": "@jupyter-widgets/base",
            "overflow": null,
            "_model_module_version": "1.2.0",
            "_view_count": null,
            "flex_flow": null,
            "width": null,
            "min_width": null,
            "border": null,
            "align_items": null,
            "bottom": null,
            "_model_module": "@jupyter-widgets/base",
            "top": null,
            "grid_column": null,
            "overflow_y": null,
            "overflow_x": null,
            "grid_auto_flow": null,
            "grid_area": null,
            "grid_template_columns": null,
            "flex": null,
            "_model_name": "LayoutModel",
            "justify_items": null,
            "grid_row": null,
            "max_height": null,
            "align_content": null,
            "visibility": null,
            "align_self": null,
            "height": null,
            "min_height": null,
            "padding": null,
            "grid_auto_rows": null,
            "grid_gap": null,
            "max_width": null,
            "order": null,
            "_view_module_version": "1.2.0",
            "grid_template_areas": null,
            "object_position": null,
            "object_fit": null,
            "grid_auto_columns": null,
            "margin": null,
            "display": null,
            "left": null
          }
        },
        "3381f66234f84e4781c69eb0d3938930": {
          "model_module": "@jupyter-widgets/controls",
          "model_name": "FloatProgressModel",
          "model_module_version": "1.5.0",
          "state": {
            "_view_name": "ProgressView",
            "style": "IPY_MODEL_4b223c720460447890eab858c41eca4e",
            "_dom_classes": [],
            "description": "Downloading: 100%",
            "_model_name": "FloatProgressModel",
            "bar_style": "success",
            "max": 1208,
            "_view_module": "@jupyter-widgets/controls",
            "_model_module_version": "1.5.0",
            "value": 1208,
            "_view_count": null,
            "_view_module_version": "1.5.0",
            "orientation": "horizontal",
            "min": 0,
            "description_tooltip": null,
            "_model_module": "@jupyter-widgets/controls",
            "layout": "IPY_MODEL_bbb5262d1d004197a13cd06b84fb844f"
          }
        },
        "8e7fef6433144eda843a7b98a8a42ee3": {
          "model_module": "@jupyter-widgets/controls",
          "model_name": "HTMLModel",
          "model_module_version": "1.5.0",
          "state": {
            "_view_name": "HTMLView",
            "style": "IPY_MODEL_32972b5257a341f28d585d44fb7a32b6",
            "_dom_classes": [],
            "description": "",
            "_model_name": "HTMLModel",
            "placeholder": "​",
            "_view_module": "@jupyter-widgets/controls",
            "_model_module_version": "1.5.0",
            "value": " 1.21k/1.21k [00:23&lt;00:00, 51.0B/s]",
            "_view_count": null,
            "_view_module_version": "1.5.0",
            "description_tooltip": null,
            "_model_module": "@jupyter-widgets/controls",
            "layout": "IPY_MODEL_77ce712483ae4851b814751ad7172112"
          }
        },
        "4b223c720460447890eab858c41eca4e": {
          "model_module": "@jupyter-widgets/controls",
          "model_name": "ProgressStyleModel",
          "model_module_version": "1.5.0",
          "state": {
            "_view_name": "StyleView",
            "_model_name": "ProgressStyleModel",
            "description_width": "initial",
            "_view_module": "@jupyter-widgets/base",
            "_model_module_version": "1.5.0",
            "_view_count": null,
            "_view_module_version": "1.2.0",
            "bar_color": null,
            "_model_module": "@jupyter-widgets/controls"
          }
        },
        "bbb5262d1d004197a13cd06b84fb844f": {
          "model_module": "@jupyter-widgets/base",
          "model_name": "LayoutModel",
          "model_module_version": "1.2.0",
          "state": {
            "_view_name": "LayoutView",
            "grid_template_rows": null,
            "right": null,
            "justify_content": null,
            "_view_module": "@jupyter-widgets/base",
            "overflow": null,
            "_model_module_version": "1.2.0",
            "_view_count": null,
            "flex_flow": null,
            "width": null,
            "min_width": null,
            "border": null,
            "align_items": null,
            "bottom": null,
            "_model_module": "@jupyter-widgets/base",
            "top": null,
            "grid_column": null,
            "overflow_y": null,
            "overflow_x": null,
            "grid_auto_flow": null,
            "grid_area": null,
            "grid_template_columns": null,
            "flex": null,
            "_model_name": "LayoutModel",
            "justify_items": null,
            "grid_row": null,
            "max_height": null,
            "align_content": null,
            "visibility": null,
            "align_self": null,
            "height": null,
            "min_height": null,
            "padding": null,
            "grid_auto_rows": null,
            "grid_gap": null,
            "max_width": null,
            "order": null,
            "_view_module_version": "1.2.0",
            "grid_template_areas": null,
            "object_position": null,
            "object_fit": null,
            "grid_auto_columns": null,
            "margin": null,
            "display": null,
            "left": null
          }
        },
        "32972b5257a341f28d585d44fb7a32b6": {
          "model_module": "@jupyter-widgets/controls",
          "model_name": "DescriptionStyleModel",
          "model_module_version": "1.5.0",
          "state": {
            "_view_name": "StyleView",
            "_model_name": "DescriptionStyleModel",
            "description_width": "",
            "_view_module": "@jupyter-widgets/base",
            "_model_module_version": "1.5.0",
            "_view_count": null,
            "_view_module_version": "1.2.0",
            "_model_module": "@jupyter-widgets/controls"
          }
        },
        "77ce712483ae4851b814751ad7172112": {
          "model_module": "@jupyter-widgets/base",
          "model_name": "LayoutModel",
          "model_module_version": "1.2.0",
          "state": {
            "_view_name": "LayoutView",
            "grid_template_rows": null,
            "right": null,
            "justify_content": null,
            "_view_module": "@jupyter-widgets/base",
            "overflow": null,
            "_model_module_version": "1.2.0",
            "_view_count": null,
            "flex_flow": null,
            "width": null,
            "min_width": null,
            "border": null,
            "align_items": null,
            "bottom": null,
            "_model_module": "@jupyter-widgets/base",
            "top": null,
            "grid_column": null,
            "overflow_y": null,
            "overflow_x": null,
            "grid_auto_flow": null,
            "grid_area": null,
            "grid_template_columns": null,
            "flex": null,
            "_model_name": "LayoutModel",
            "justify_items": null,
            "grid_row": null,
            "max_height": null,
            "align_content": null,
            "visibility": null,
            "align_self": null,
            "height": null,
            "min_height": null,
            "padding": null,
            "grid_auto_rows": null,
            "grid_gap": null,
            "max_width": null,
            "order": null,
            "_view_module_version": "1.2.0",
            "grid_template_areas": null,
            "object_position": null,
            "object_fit": null,
            "grid_auto_columns": null,
            "margin": null,
            "display": null,
            "left": null
          }
        },
        "b35cea4c5f7b473fa667b64ed727a4b0": {
          "model_module": "@jupyter-widgets/controls",
          "model_name": "HBoxModel",
          "model_module_version": "1.5.0",
          "state": {
            "_view_name": "HBoxView",
            "_dom_classes": [],
            "_model_name": "HBoxModel",
            "_view_module": "@jupyter-widgets/controls",
            "_model_module_version": "1.5.0",
            "_view_count": null,
            "_view_module_version": "1.5.0",
            "box_style": "",
            "layout": "IPY_MODEL_ce3a5653ce3f45cc849db2138f0484bf",
            "_model_module": "@jupyter-widgets/controls",
            "children": [
              "IPY_MODEL_73fa3d0035e944f89a4b7c92d317e34f",
              "IPY_MODEL_36d2901d6db042bea54ea2562a195ed9"
            ]
          }
        },
        "ce3a5653ce3f45cc849db2138f0484bf": {
          "model_module": "@jupyter-widgets/base",
          "model_name": "LayoutModel",
          "model_module_version": "1.2.0",
          "state": {
            "_view_name": "LayoutView",
            "grid_template_rows": null,
            "right": null,
            "justify_content": null,
            "_view_module": "@jupyter-widgets/base",
            "overflow": null,
            "_model_module_version": "1.2.0",
            "_view_count": null,
            "flex_flow": null,
            "width": null,
            "min_width": null,
            "border": null,
            "align_items": null,
            "bottom": null,
            "_model_module": "@jupyter-widgets/base",
            "top": null,
            "grid_column": null,
            "overflow_y": null,
            "overflow_x": null,
            "grid_auto_flow": null,
            "grid_area": null,
            "grid_template_columns": null,
            "flex": null,
            "_model_name": "LayoutModel",
            "justify_items": null,
            "grid_row": null,
            "max_height": null,
            "align_content": null,
            "visibility": null,
            "align_self": null,
            "height": null,
            "min_height": null,
            "padding": null,
            "grid_auto_rows": null,
            "grid_gap": null,
            "max_width": null,
            "order": null,
            "_view_module_version": "1.2.0",
            "grid_template_areas": null,
            "object_position": null,
            "object_fit": null,
            "grid_auto_columns": null,
            "margin": null,
            "display": null,
            "left": null
          }
        },
        "73fa3d0035e944f89a4b7c92d317e34f": {
          "model_module": "@jupyter-widgets/controls",
          "model_name": "FloatProgressModel",
          "model_module_version": "1.5.0",
          "state": {
            "_view_name": "ProgressView",
            "style": "IPY_MODEL_6cc2d837142445bd8ef72f2201bd1403",
            "_dom_classes": [],
            "description": "Downloading: 100%",
            "_model_name": "FloatProgressModel",
            "bar_style": "success",
            "max": 791656,
            "_view_module": "@jupyter-widgets/controls",
            "_model_module_version": "1.5.0",
            "value": 791656,
            "_view_count": null,
            "_view_module_version": "1.5.0",
            "orientation": "horizontal",
            "min": 0,
            "description_tooltip": null,
            "_model_module": "@jupyter-widgets/controls",
            "layout": "IPY_MODEL_7f326f300180403da860fbaf44faf6ea"
          }
        },
        "36d2901d6db042bea54ea2562a195ed9": {
          "model_module": "@jupyter-widgets/controls",
          "model_name": "HTMLModel",
          "model_module_version": "1.5.0",
          "state": {
            "_view_name": "HTMLView",
            "style": "IPY_MODEL_21097ef218694819ba0c9db4e09f2559",
            "_dom_classes": [],
            "description": "",
            "_model_name": "HTMLModel",
            "placeholder": "​",
            "_view_module": "@jupyter-widgets/controls",
            "_model_module_version": "1.5.0",
            "value": " 792k/792k [00:00&lt;00:00, 1.47MB/s]",
            "_view_count": null,
            "_view_module_version": "1.5.0",
            "description_tooltip": null,
            "_model_module": "@jupyter-widgets/controls",
            "layout": "IPY_MODEL_a4246491234b4344a6ed923be222b890"
          }
        },
        "6cc2d837142445bd8ef72f2201bd1403": {
          "model_module": "@jupyter-widgets/controls",
          "model_name": "ProgressStyleModel",
          "model_module_version": "1.5.0",
          "state": {
            "_view_name": "StyleView",
            "_model_name": "ProgressStyleModel",
            "description_width": "initial",
            "_view_module": "@jupyter-widgets/base",
            "_model_module_version": "1.5.0",
            "_view_count": null,
            "_view_module_version": "1.2.0",
            "bar_color": null,
            "_model_module": "@jupyter-widgets/controls"
          }
        },
        "7f326f300180403da860fbaf44faf6ea": {
          "model_module": "@jupyter-widgets/base",
          "model_name": "LayoutModel",
          "model_module_version": "1.2.0",
          "state": {
            "_view_name": "LayoutView",
            "grid_template_rows": null,
            "right": null,
            "justify_content": null,
            "_view_module": "@jupyter-widgets/base",
            "overflow": null,
            "_model_module_version": "1.2.0",
            "_view_count": null,
            "flex_flow": null,
            "width": null,
            "min_width": null,
            "border": null,
            "align_items": null,
            "bottom": null,
            "_model_module": "@jupyter-widgets/base",
            "top": null,
            "grid_column": null,
            "overflow_y": null,
            "overflow_x": null,
            "grid_auto_flow": null,
            "grid_area": null,
            "grid_template_columns": null,
            "flex": null,
            "_model_name": "LayoutModel",
            "justify_items": null,
            "grid_row": null,
            "max_height": null,
            "align_content": null,
            "visibility": null,
            "align_self": null,
            "height": null,
            "min_height": null,
            "padding": null,
            "grid_auto_rows": null,
            "grid_gap": null,
            "max_width": null,
            "order": null,
            "_view_module_version": "1.2.0",
            "grid_template_areas": null,
            "object_position": null,
            "object_fit": null,
            "grid_auto_columns": null,
            "margin": null,
            "display": null,
            "left": null
          }
        },
        "21097ef218694819ba0c9db4e09f2559": {
          "model_module": "@jupyter-widgets/controls",
          "model_name": "DescriptionStyleModel",
          "model_module_version": "1.5.0",
          "state": {
            "_view_name": "StyleView",
            "_model_name": "DescriptionStyleModel",
            "description_width": "",
            "_view_module": "@jupyter-widgets/base",
            "_model_module_version": "1.5.0",
            "_view_count": null,
            "_view_module_version": "1.2.0",
            "_model_module": "@jupyter-widgets/controls"
          }
        },
        "a4246491234b4344a6ed923be222b890": {
          "model_module": "@jupyter-widgets/base",
          "model_name": "LayoutModel",
          "model_module_version": "1.2.0",
          "state": {
            "_view_name": "LayoutView",
            "grid_template_rows": null,
            "right": null,
            "justify_content": null,
            "_view_module": "@jupyter-widgets/base",
            "overflow": null,
            "_model_module_version": "1.2.0",
            "_view_count": null,
            "flex_flow": null,
            "width": null,
            "min_width": null,
            "border": null,
            "align_items": null,
            "bottom": null,
            "_model_module": "@jupyter-widgets/base",
            "top": null,
            "grid_column": null,
            "overflow_y": null,
            "overflow_x": null,
            "grid_auto_flow": null,
            "grid_area": null,
            "grid_template_columns": null,
            "flex": null,
            "_model_name": "LayoutModel",
            "justify_items": null,
            "grid_row": null,
            "max_height": null,
            "align_content": null,
            "visibility": null,
            "align_self": null,
            "height": null,
            "min_height": null,
            "padding": null,
            "grid_auto_rows": null,
            "grid_gap": null,
            "max_width": null,
            "order": null,
            "_view_module_version": "1.2.0",
            "grid_template_areas": null,
            "object_position": null,
            "object_fit": null,
            "grid_auto_columns": null,
            "margin": null,
            "display": null,
            "left": null
          }
        },
        "c2a30b3baece478782bec0126a073c46": {
          "model_module": "@jupyter-widgets/controls",
          "model_name": "HBoxModel",
          "model_module_version": "1.5.0",
          "state": {
            "_view_name": "HBoxView",
            "_dom_classes": [],
            "_model_name": "HBoxModel",
            "_view_module": "@jupyter-widgets/controls",
            "_model_module_version": "1.5.0",
            "_view_count": null,
            "_view_module_version": "1.5.0",
            "box_style": "",
            "layout": "IPY_MODEL_76e11415af3d48d3947708cca36e363a",
            "_model_module": "@jupyter-widgets/controls",
            "children": [
              "IPY_MODEL_a6f1e68c51454236b35f5beb13e21ed7",
              "IPY_MODEL_73b580aaf52041b7b6a5b7beadc9c14a"
            ]
          }
        },
        "76e11415af3d48d3947708cca36e363a": {
          "model_module": "@jupyter-widgets/base",
          "model_name": "LayoutModel",
          "model_module_version": "1.2.0",
          "state": {
            "_view_name": "LayoutView",
            "grid_template_rows": null,
            "right": null,
            "justify_content": null,
            "_view_module": "@jupyter-widgets/base",
            "overflow": null,
            "_model_module_version": "1.2.0",
            "_view_count": null,
            "flex_flow": null,
            "width": null,
            "min_width": null,
            "border": null,
            "align_items": null,
            "bottom": null,
            "_model_module": "@jupyter-widgets/base",
            "top": null,
            "grid_column": null,
            "overflow_y": null,
            "overflow_x": null,
            "grid_auto_flow": null,
            "grid_area": null,
            "grid_template_columns": null,
            "flex": null,
            "_model_name": "LayoutModel",
            "justify_items": null,
            "grid_row": null,
            "max_height": null,
            "align_content": null,
            "visibility": null,
            "align_self": null,
            "height": null,
            "min_height": null,
            "padding": null,
            "grid_auto_rows": null,
            "grid_gap": null,
            "max_width": null,
            "order": null,
            "_view_module_version": "1.2.0",
            "grid_template_areas": null,
            "object_position": null,
            "object_fit": null,
            "grid_auto_columns": null,
            "margin": null,
            "display": null,
            "left": null
          }
        },
        "a6f1e68c51454236b35f5beb13e21ed7": {
          "model_module": "@jupyter-widgets/controls",
          "model_name": "FloatProgressModel",
          "model_module_version": "1.5.0",
          "state": {
            "_view_name": "ProgressView",
            "style": "IPY_MODEL_e5c1fc344a91488093305251fd4083ca",
            "_dom_classes": [],
            "description": "Downloading: 100%",
            "_model_name": "FloatProgressModel",
            "bar_style": "success",
            "max": 39,
            "_view_module": "@jupyter-widgets/controls",
            "_model_module_version": "1.5.0",
            "value": 39,
            "_view_count": null,
            "_view_module_version": "1.5.0",
            "orientation": "horizontal",
            "min": 0,
            "description_tooltip": null,
            "_model_module": "@jupyter-widgets/controls",
            "layout": "IPY_MODEL_21f304061173499c8e9f14f1a0d4dfdb"
          }
        },
        "73b580aaf52041b7b6a5b7beadc9c14a": {
          "model_module": "@jupyter-widgets/controls",
          "model_name": "HTMLModel",
          "model_module_version": "1.5.0",
          "state": {
            "_view_name": "HTMLView",
            "style": "IPY_MODEL_713362985c8748b1b9b0c9714562b71e",
            "_dom_classes": [],
            "description": "",
            "_model_name": "HTMLModel",
            "placeholder": "​",
            "_view_module": "@jupyter-widgets/controls",
            "_model_module_version": "1.5.0",
            "value": " 39.0/39.0 [00:02&lt;00:00, 16.2B/s]",
            "_view_count": null,
            "_view_module_version": "1.5.0",
            "description_tooltip": null,
            "_model_module": "@jupyter-widgets/controls",
            "layout": "IPY_MODEL_e1683db887a440cbab1b61a1a6d490d2"
          }
        },
        "e5c1fc344a91488093305251fd4083ca": {
          "model_module": "@jupyter-widgets/controls",
          "model_name": "ProgressStyleModel",
          "model_module_version": "1.5.0",
          "state": {
            "_view_name": "StyleView",
            "_model_name": "ProgressStyleModel",
            "description_width": "initial",
            "_view_module": "@jupyter-widgets/base",
            "_model_module_version": "1.5.0",
            "_view_count": null,
            "_view_module_version": "1.2.0",
            "bar_color": null,
            "_model_module": "@jupyter-widgets/controls"
          }
        },
        "21f304061173499c8e9f14f1a0d4dfdb": {
          "model_module": "@jupyter-widgets/base",
          "model_name": "LayoutModel",
          "model_module_version": "1.2.0",
          "state": {
            "_view_name": "LayoutView",
            "grid_template_rows": null,
            "right": null,
            "justify_content": null,
            "_view_module": "@jupyter-widgets/base",
            "overflow": null,
            "_model_module_version": "1.2.0",
            "_view_count": null,
            "flex_flow": null,
            "width": null,
            "min_width": null,
            "border": null,
            "align_items": null,
            "bottom": null,
            "_model_module": "@jupyter-widgets/base",
            "top": null,
            "grid_column": null,
            "overflow_y": null,
            "overflow_x": null,
            "grid_auto_flow": null,
            "grid_area": null,
            "grid_template_columns": null,
            "flex": null,
            "_model_name": "LayoutModel",
            "justify_items": null,
            "grid_row": null,
            "max_height": null,
            "align_content": null,
            "visibility": null,
            "align_self": null,
            "height": null,
            "min_height": null,
            "padding": null,
            "grid_auto_rows": null,
            "grid_gap": null,
            "max_width": null,
            "order": null,
            "_view_module_version": "1.2.0",
            "grid_template_areas": null,
            "object_position": null,
            "object_fit": null,
            "grid_auto_columns": null,
            "margin": null,
            "display": null,
            "left": null
          }
        },
        "713362985c8748b1b9b0c9714562b71e": {
          "model_module": "@jupyter-widgets/controls",
          "model_name": "DescriptionStyleModel",
          "model_module_version": "1.5.0",
          "state": {
            "_view_name": "StyleView",
            "_model_name": "DescriptionStyleModel",
            "description_width": "",
            "_view_module": "@jupyter-widgets/base",
            "_model_module_version": "1.5.0",
            "_view_count": null,
            "_view_module_version": "1.2.0",
            "_model_module": "@jupyter-widgets/controls"
          }
        },
        "e1683db887a440cbab1b61a1a6d490d2": {
          "model_module": "@jupyter-widgets/base",
          "model_name": "LayoutModel",
          "model_module_version": "1.2.0",
          "state": {
            "_view_name": "LayoutView",
            "grid_template_rows": null,
            "right": null,
            "justify_content": null,
            "_view_module": "@jupyter-widgets/base",
            "overflow": null,
            "_model_module_version": "1.2.0",
            "_view_count": null,
            "flex_flow": null,
            "width": null,
            "min_width": null,
            "border": null,
            "align_items": null,
            "bottom": null,
            "_model_module": "@jupyter-widgets/base",
            "top": null,
            "grid_column": null,
            "overflow_y": null,
            "overflow_x": null,
            "grid_auto_flow": null,
            "grid_area": null,
            "grid_template_columns": null,
            "flex": null,
            "_model_name": "LayoutModel",
            "justify_items": null,
            "grid_row": null,
            "max_height": null,
            "align_content": null,
            "visibility": null,
            "align_self": null,
            "height": null,
            "min_height": null,
            "padding": null,
            "grid_auto_rows": null,
            "grid_gap": null,
            "max_width": null,
            "order": null,
            "_view_module_version": "1.2.0",
            "grid_template_areas": null,
            "object_position": null,
            "object_fit": null,
            "grid_auto_columns": null,
            "margin": null,
            "display": null,
            "left": null
          }
        },
        "0c34fcf7c16b4f32a58d1ee999ac7fb6": {
          "model_module": "@jupyter-widgets/controls",
          "model_name": "HBoxModel",
          "model_module_version": "1.5.0",
          "state": {
            "_view_name": "HBoxView",
            "_dom_classes": [],
            "_model_name": "HBoxModel",
            "_view_module": "@jupyter-widgets/controls",
            "_model_module_version": "1.5.0",
            "_view_count": null,
            "_view_module_version": "1.5.0",
            "box_style": "",
            "layout": "IPY_MODEL_080cc67b3d254ac2919b6d142390b6e7",
            "_model_module": "@jupyter-widgets/controls",
            "children": [
              "IPY_MODEL_28548ce34b004f0ab8e422b04a0086f7",
              "IPY_MODEL_03c37b574ad24aaa94c29be50410350e"
            ]
          }
        },
        "080cc67b3d254ac2919b6d142390b6e7": {
          "model_module": "@jupyter-widgets/base",
          "model_name": "LayoutModel",
          "model_module_version": "1.2.0",
          "state": {
            "_view_name": "LayoutView",
            "grid_template_rows": null,
            "right": null,
            "justify_content": null,
            "_view_module": "@jupyter-widgets/base",
            "overflow": null,
            "_model_module_version": "1.2.0",
            "_view_count": null,
            "flex_flow": null,
            "width": null,
            "min_width": null,
            "border": null,
            "align_items": null,
            "bottom": null,
            "_model_module": "@jupyter-widgets/base",
            "top": null,
            "grid_column": null,
            "overflow_y": null,
            "overflow_x": null,
            "grid_auto_flow": null,
            "grid_area": null,
            "grid_template_columns": null,
            "flex": null,
            "_model_name": "LayoutModel",
            "justify_items": null,
            "grid_row": null,
            "max_height": null,
            "align_content": null,
            "visibility": null,
            "align_self": null,
            "height": null,
            "min_height": null,
            "padding": null,
            "grid_auto_rows": null,
            "grid_gap": null,
            "max_width": null,
            "order": null,
            "_view_module_version": "1.2.0",
            "grid_template_areas": null,
            "object_position": null,
            "object_fit": null,
            "grid_auto_columns": null,
            "margin": null,
            "display": null,
            "left": null
          }
        },
        "28548ce34b004f0ab8e422b04a0086f7": {
          "model_module": "@jupyter-widgets/controls",
          "model_name": "FloatProgressModel",
          "model_module_version": "1.5.0",
          "state": {
            "_view_name": "ProgressView",
            "style": "IPY_MODEL_570f02738fdf4f2cb09f9a9539d3beae",
            "_dom_classes": [],
            "description": "Downloading: 100%",
            "_model_name": "FloatProgressModel",
            "bar_style": "success",
            "max": 121,
            "_view_module": "@jupyter-widgets/controls",
            "_model_module_version": "1.5.0",
            "value": 121,
            "_view_count": null,
            "_view_module_version": "1.5.0",
            "orientation": "horizontal",
            "min": 0,
            "description_tooltip": null,
            "_model_module": "@jupyter-widgets/controls",
            "layout": "IPY_MODEL_14ec6d5fe76145aeac31da210a287503"
          }
        },
        "03c37b574ad24aaa94c29be50410350e": {
          "model_module": "@jupyter-widgets/controls",
          "model_name": "HTMLModel",
          "model_module_version": "1.5.0",
          "state": {
            "_view_name": "HTMLView",
            "style": "IPY_MODEL_f2a62bc6df884e48914b75260b5626e8",
            "_dom_classes": [],
            "description": "",
            "_model_name": "HTMLModel",
            "placeholder": "​",
            "_view_module": "@jupyter-widgets/controls",
            "_model_module_version": "1.5.0",
            "value": " 121/121 [00:01&lt;00:00, 66.0B/s]",
            "_view_count": null,
            "_view_module_version": "1.5.0",
            "description_tooltip": null,
            "_model_module": "@jupyter-widgets/controls",
            "layout": "IPY_MODEL_60207700b5a7442c98d7a56e435738f4"
          }
        },
        "570f02738fdf4f2cb09f9a9539d3beae": {
          "model_module": "@jupyter-widgets/controls",
          "model_name": "ProgressStyleModel",
          "model_module_version": "1.5.0",
          "state": {
            "_view_name": "StyleView",
            "_model_name": "ProgressStyleModel",
            "description_width": "initial",
            "_view_module": "@jupyter-widgets/base",
            "_model_module_version": "1.5.0",
            "_view_count": null,
            "_view_module_version": "1.2.0",
            "bar_color": null,
            "_model_module": "@jupyter-widgets/controls"
          }
        },
        "14ec6d5fe76145aeac31da210a287503": {
          "model_module": "@jupyter-widgets/base",
          "model_name": "LayoutModel",
          "model_module_version": "1.2.0",
          "state": {
            "_view_name": "LayoutView",
            "grid_template_rows": null,
            "right": null,
            "justify_content": null,
            "_view_module": "@jupyter-widgets/base",
            "overflow": null,
            "_model_module_version": "1.2.0",
            "_view_count": null,
            "flex_flow": null,
            "width": null,
            "min_width": null,
            "border": null,
            "align_items": null,
            "bottom": null,
            "_model_module": "@jupyter-widgets/base",
            "top": null,
            "grid_column": null,
            "overflow_y": null,
            "overflow_x": null,
            "grid_auto_flow": null,
            "grid_area": null,
            "grid_template_columns": null,
            "flex": null,
            "_model_name": "LayoutModel",
            "justify_items": null,
            "grid_row": null,
            "max_height": null,
            "align_content": null,
            "visibility": null,
            "align_self": null,
            "height": null,
            "min_height": null,
            "padding": null,
            "grid_auto_rows": null,
            "grid_gap": null,
            "max_width": null,
            "order": null,
            "_view_module_version": "1.2.0",
            "grid_template_areas": null,
            "object_position": null,
            "object_fit": null,
            "grid_auto_columns": null,
            "margin": null,
            "display": null,
            "left": null
          }
        },
        "f2a62bc6df884e48914b75260b5626e8": {
          "model_module": "@jupyter-widgets/controls",
          "model_name": "DescriptionStyleModel",
          "model_module_version": "1.5.0",
          "state": {
            "_view_name": "StyleView",
            "_model_name": "DescriptionStyleModel",
            "description_width": "",
            "_view_module": "@jupyter-widgets/base",
            "_model_module_version": "1.5.0",
            "_view_count": null,
            "_view_module_version": "1.2.0",
            "_model_module": "@jupyter-widgets/controls"
          }
        },
        "60207700b5a7442c98d7a56e435738f4": {
          "model_module": "@jupyter-widgets/base",
          "model_name": "LayoutModel",
          "model_module_version": "1.2.0",
          "state": {
            "_view_name": "LayoutView",
            "grid_template_rows": null,
            "right": null,
            "justify_content": null,
            "_view_module": "@jupyter-widgets/base",
            "overflow": null,
            "_model_module_version": "1.2.0",
            "_view_count": null,
            "flex_flow": null,
            "width": null,
            "min_width": null,
            "border": null,
            "align_items": null,
            "bottom": null,
            "_model_module": "@jupyter-widgets/base",
            "top": null,
            "grid_column": null,
            "overflow_y": null,
            "overflow_x": null,
            "grid_auto_flow": null,
            "grid_area": null,
            "grid_template_columns": null,
            "flex": null,
            "_model_name": "LayoutModel",
            "justify_items": null,
            "grid_row": null,
            "max_height": null,
            "align_content": null,
            "visibility": null,
            "align_self": null,
            "height": null,
            "min_height": null,
            "padding": null,
            "grid_auto_rows": null,
            "grid_gap": null,
            "max_width": null,
            "order": null,
            "_view_module_version": "1.2.0",
            "grid_template_areas": null,
            "object_position": null,
            "object_fit": null,
            "grid_auto_columns": null,
            "margin": null,
            "display": null,
            "left": null
          }
        },
        "c00014415cac405998c6d869572aea0e": {
          "model_module": "@jupyter-widgets/controls",
          "model_name": "HBoxModel",
          "model_module_version": "1.5.0",
          "state": {
            "_view_name": "HBoxView",
            "_dom_classes": [],
            "_model_name": "HBoxModel",
            "_view_module": "@jupyter-widgets/controls",
            "_model_module_version": "1.5.0",
            "_view_count": null,
            "_view_module_version": "1.5.0",
            "box_style": "",
            "layout": "IPY_MODEL_8b1bd82c0b264cbaa055b9a78d35ebfe",
            "_model_module": "@jupyter-widgets/controls",
            "children": [
              "IPY_MODEL_5072c546b24f4af79c375e618b07aace",
              "IPY_MODEL_ae8033b0c9c5495584ce0dea7316406d"
            ]
          }
        },
        "8b1bd82c0b264cbaa055b9a78d35ebfe": {
          "model_module": "@jupyter-widgets/base",
          "model_name": "LayoutModel",
          "model_module_version": "1.2.0",
          "state": {
            "_view_name": "LayoutView",
            "grid_template_rows": null,
            "right": null,
            "justify_content": null,
            "_view_module": "@jupyter-widgets/base",
            "overflow": null,
            "_model_module_version": "1.2.0",
            "_view_count": null,
            "flex_flow": null,
            "width": null,
            "min_width": null,
            "border": null,
            "align_items": null,
            "bottom": null,
            "_model_module": "@jupyter-widgets/base",
            "top": null,
            "grid_column": null,
            "overflow_y": null,
            "overflow_x": null,
            "grid_auto_flow": null,
            "grid_area": null,
            "grid_template_columns": null,
            "flex": null,
            "_model_name": "LayoutModel",
            "justify_items": null,
            "grid_row": null,
            "max_height": null,
            "align_content": null,
            "visibility": null,
            "align_self": null,
            "height": null,
            "min_height": null,
            "padding": null,
            "grid_auto_rows": null,
            "grid_gap": null,
            "max_width": null,
            "order": null,
            "_view_module_version": "1.2.0",
            "grid_template_areas": null,
            "object_position": null,
            "object_fit": null,
            "grid_auto_columns": null,
            "margin": null,
            "display": null,
            "left": null
          }
        },
        "5072c546b24f4af79c375e618b07aace": {
          "model_module": "@jupyter-widgets/controls",
          "model_name": "FloatProgressModel",
          "model_module_version": "1.5.0",
          "state": {
            "_view_name": "ProgressView",
            "style": "IPY_MODEL_b1d52e0028eb4f4e896514324e8c46cc",
            "_dom_classes": [],
            "description": "Downloading: 100%",
            "_model_name": "FloatProgressModel",
            "bar_style": "success",
            "max": 891612736,
            "_view_module": "@jupyter-widgets/controls",
            "_model_module_version": "1.5.0",
            "value": 891612736,
            "_view_count": null,
            "_view_module_version": "1.5.0",
            "orientation": "horizontal",
            "min": 0,
            "description_tooltip": null,
            "_model_module": "@jupyter-widgets/controls",
            "layout": "IPY_MODEL_3fbc9744aacc47169e0fe752c50ef974"
          }
        },
        "ae8033b0c9c5495584ce0dea7316406d": {
          "model_module": "@jupyter-widgets/controls",
          "model_name": "HTMLModel",
          "model_module_version": "1.5.0",
          "state": {
            "_view_name": "HTMLView",
            "style": "IPY_MODEL_c2c11fe10ac94aa38033c54e7956e6f7",
            "_dom_classes": [],
            "description": "",
            "_model_name": "HTMLModel",
            "placeholder": "​",
            "_view_module": "@jupyter-widgets/controls",
            "_model_module_version": "1.5.0",
            "value": " 892M/892M [00:19&lt;00:00, 45.3MB/s]",
            "_view_count": null,
            "_view_module_version": "1.5.0",
            "description_tooltip": null,
            "_model_module": "@jupyter-widgets/controls",
            "layout": "IPY_MODEL_e99c57985edd4dccb180f43ab5ed6455"
          }
        },
        "b1d52e0028eb4f4e896514324e8c46cc": {
          "model_module": "@jupyter-widgets/controls",
          "model_name": "ProgressStyleModel",
          "model_module_version": "1.5.0",
          "state": {
            "_view_name": "StyleView",
            "_model_name": "ProgressStyleModel",
            "description_width": "initial",
            "_view_module": "@jupyter-widgets/base",
            "_model_module_version": "1.5.0",
            "_view_count": null,
            "_view_module_version": "1.2.0",
            "bar_color": null,
            "_model_module": "@jupyter-widgets/controls"
          }
        },
        "3fbc9744aacc47169e0fe752c50ef974": {
          "model_module": "@jupyter-widgets/base",
          "model_name": "LayoutModel",
          "model_module_version": "1.2.0",
          "state": {
            "_view_name": "LayoutView",
            "grid_template_rows": null,
            "right": null,
            "justify_content": null,
            "_view_module": "@jupyter-widgets/base",
            "overflow": null,
            "_model_module_version": "1.2.0",
            "_view_count": null,
            "flex_flow": null,
            "width": null,
            "min_width": null,
            "border": null,
            "align_items": null,
            "bottom": null,
            "_model_module": "@jupyter-widgets/base",
            "top": null,
            "grid_column": null,
            "overflow_y": null,
            "overflow_x": null,
            "grid_auto_flow": null,
            "grid_area": null,
            "grid_template_columns": null,
            "flex": null,
            "_model_name": "LayoutModel",
            "justify_items": null,
            "grid_row": null,
            "max_height": null,
            "align_content": null,
            "visibility": null,
            "align_self": null,
            "height": null,
            "min_height": null,
            "padding": null,
            "grid_auto_rows": null,
            "grid_gap": null,
            "max_width": null,
            "order": null,
            "_view_module_version": "1.2.0",
            "grid_template_areas": null,
            "object_position": null,
            "object_fit": null,
            "grid_auto_columns": null,
            "margin": null,
            "display": null,
            "left": null
          }
        },
        "c2c11fe10ac94aa38033c54e7956e6f7": {
          "model_module": "@jupyter-widgets/controls",
          "model_name": "DescriptionStyleModel",
          "model_module_version": "1.5.0",
          "state": {
            "_view_name": "StyleView",
            "_model_name": "DescriptionStyleModel",
            "description_width": "",
            "_view_module": "@jupyter-widgets/base",
            "_model_module_version": "1.5.0",
            "_view_count": null,
            "_view_module_version": "1.2.0",
            "_model_module": "@jupyter-widgets/controls"
          }
        },
        "e99c57985edd4dccb180f43ab5ed6455": {
          "model_module": "@jupyter-widgets/base",
          "model_name": "LayoutModel",
          "model_module_version": "1.2.0",
          "state": {
            "_view_name": "LayoutView",
            "grid_template_rows": null,
            "right": null,
            "justify_content": null,
            "_view_module": "@jupyter-widgets/base",
            "overflow": null,
            "_model_module_version": "1.2.0",
            "_view_count": null,
            "flex_flow": null,
            "width": null,
            "min_width": null,
            "border": null,
            "align_items": null,
            "bottom": null,
            "_model_module": "@jupyter-widgets/base",
            "top": null,
            "grid_column": null,
            "overflow_y": null,
            "overflow_x": null,
            "grid_auto_flow": null,
            "grid_area": null,
            "grid_template_columns": null,
            "flex": null,
            "_model_name": "LayoutModel",
            "justify_items": null,
            "grid_row": null,
            "max_height": null,
            "align_content": null,
            "visibility": null,
            "align_self": null,
            "height": null,
            "min_height": null,
            "padding": null,
            "grid_auto_rows": null,
            "grid_gap": null,
            "max_width": null,
            "order": null,
            "_view_module_version": "1.2.0",
            "grid_template_areas": null,
            "object_position": null,
            "object_fit": null,
            "grid_auto_columns": null,
            "margin": null,
            "display": null,
            "left": null
          }
        },
        "d22864e97c97461c81aac04b7c89df04": {
          "model_module": "@jupyter-widgets/controls",
          "model_name": "HBoxModel",
          "model_module_version": "1.5.0",
          "state": {
            "_view_name": "HBoxView",
            "_dom_classes": [],
            "_model_name": "HBoxModel",
            "_view_module": "@jupyter-widgets/controls",
            "_model_module_version": "1.5.0",
            "_view_count": null,
            "_view_module_version": "1.5.0",
            "box_style": "",
            "layout": "IPY_MODEL_0e30df6ef08d458d9a0f51d0df3acca7",
            "_model_module": "@jupyter-widgets/controls",
            "children": [
              "IPY_MODEL_97531109caf24ab48aced8b363dcf9c1",
              "IPY_MODEL_bad71abcd56745d2bf0facb54680b4d3"
            ]
          }
        },
        "0e30df6ef08d458d9a0f51d0df3acca7": {
          "model_module": "@jupyter-widgets/base",
          "model_name": "LayoutModel",
          "model_module_version": "1.2.0",
          "state": {
            "_view_name": "LayoutView",
            "grid_template_rows": null,
            "right": null,
            "justify_content": null,
            "_view_module": "@jupyter-widgets/base",
            "overflow": null,
            "_model_module_version": "1.2.0",
            "_view_count": null,
            "flex_flow": null,
            "width": null,
            "min_width": null,
            "border": null,
            "align_items": null,
            "bottom": null,
            "_model_module": "@jupyter-widgets/base",
            "top": null,
            "grid_column": null,
            "overflow_y": null,
            "overflow_x": null,
            "grid_auto_flow": null,
            "grid_area": null,
            "grid_template_columns": null,
            "flex": null,
            "_model_name": "LayoutModel",
            "justify_items": null,
            "grid_row": null,
            "max_height": null,
            "align_content": null,
            "visibility": null,
            "align_self": null,
            "height": null,
            "min_height": null,
            "padding": null,
            "grid_auto_rows": null,
            "grid_gap": null,
            "max_width": null,
            "order": null,
            "_view_module_version": "1.2.0",
            "grid_template_areas": null,
            "object_position": null,
            "object_fit": null,
            "grid_auto_columns": null,
            "margin": null,
            "display": null,
            "left": null
          }
        },
        "97531109caf24ab48aced8b363dcf9c1": {
          "model_module": "@jupyter-widgets/controls",
          "model_name": "FloatProgressModel",
          "model_module_version": "1.5.0",
          "state": {
            "_view_name": "ProgressView",
            "style": "IPY_MODEL_ac7cb149f50f4dbe900f8eee16c69d0d",
            "_dom_classes": [],
            "description": "Downloading: 100%",
            "_model_name": "FloatProgressModel",
            "bar_style": "success",
            "max": 49,
            "_view_module": "@jupyter-widgets/controls",
            "_model_module_version": "1.5.0",
            "value": 49,
            "_view_count": null,
            "_view_module_version": "1.5.0",
            "orientation": "horizontal",
            "min": 0,
            "description_tooltip": null,
            "_model_module": "@jupyter-widgets/controls",
            "layout": "IPY_MODEL_3fb4456cfb464206be4c35f51a62eb47"
          }
        },
        "bad71abcd56745d2bf0facb54680b4d3": {
          "model_module": "@jupyter-widgets/controls",
          "model_name": "HTMLModel",
          "model_module_version": "1.5.0",
          "state": {
            "_view_name": "HTMLView",
            "style": "IPY_MODEL_1a81428aaf3d497c8a7cba81f42ec158",
            "_dom_classes": [],
            "description": "",
            "_model_name": "HTMLModel",
            "placeholder": "​",
            "_view_module": "@jupyter-widgets/controls",
            "_model_module_version": "1.5.0",
            "value": " 49.0/49.0 [00:00&lt;00:00, 60.4B/s]",
            "_view_count": null,
            "_view_module_version": "1.5.0",
            "description_tooltip": null,
            "_model_module": "@jupyter-widgets/controls",
            "layout": "IPY_MODEL_5ae29450eeaf4e488285bd74724f8233"
          }
        },
        "ac7cb149f50f4dbe900f8eee16c69d0d": {
          "model_module": "@jupyter-widgets/controls",
          "model_name": "ProgressStyleModel",
          "model_module_version": "1.5.0",
          "state": {
            "_view_name": "StyleView",
            "_model_name": "ProgressStyleModel",
            "description_width": "initial",
            "_view_module": "@jupyter-widgets/base",
            "_model_module_version": "1.5.0",
            "_view_count": null,
            "_view_module_version": "1.2.0",
            "bar_color": null,
            "_model_module": "@jupyter-widgets/controls"
          }
        },
        "3fb4456cfb464206be4c35f51a62eb47": {
          "model_module": "@jupyter-widgets/base",
          "model_name": "LayoutModel",
          "model_module_version": "1.2.0",
          "state": {
            "_view_name": "LayoutView",
            "grid_template_rows": null,
            "right": null,
            "justify_content": null,
            "_view_module": "@jupyter-widgets/base",
            "overflow": null,
            "_model_module_version": "1.2.0",
            "_view_count": null,
            "flex_flow": null,
            "width": null,
            "min_width": null,
            "border": null,
            "align_items": null,
            "bottom": null,
            "_model_module": "@jupyter-widgets/base",
            "top": null,
            "grid_column": null,
            "overflow_y": null,
            "overflow_x": null,
            "grid_auto_flow": null,
            "grid_area": null,
            "grid_template_columns": null,
            "flex": null,
            "_model_name": "LayoutModel",
            "justify_items": null,
            "grid_row": null,
            "max_height": null,
            "align_content": null,
            "visibility": null,
            "align_self": null,
            "height": null,
            "min_height": null,
            "padding": null,
            "grid_auto_rows": null,
            "grid_gap": null,
            "max_width": null,
            "order": null,
            "_view_module_version": "1.2.0",
            "grid_template_areas": null,
            "object_position": null,
            "object_fit": null,
            "grid_auto_columns": null,
            "margin": null,
            "display": null,
            "left": null
          }
        },
        "1a81428aaf3d497c8a7cba81f42ec158": {
          "model_module": "@jupyter-widgets/controls",
          "model_name": "DescriptionStyleModel",
          "model_module_version": "1.5.0",
          "state": {
            "_view_name": "StyleView",
            "_model_name": "DescriptionStyleModel",
            "description_width": "",
            "_view_module": "@jupyter-widgets/base",
            "_model_module_version": "1.5.0",
            "_view_count": null,
            "_view_module_version": "1.2.0",
            "_model_module": "@jupyter-widgets/controls"
          }
        },
        "5ae29450eeaf4e488285bd74724f8233": {
          "model_module": "@jupyter-widgets/base",
          "model_name": "LayoutModel",
          "model_module_version": "1.2.0",
          "state": {
            "_view_name": "LayoutView",
            "grid_template_rows": null,
            "right": null,
            "justify_content": null,
            "_view_module": "@jupyter-widgets/base",
            "overflow": null,
            "_model_module_version": "1.2.0",
            "_view_count": null,
            "flex_flow": null,
            "width": null,
            "min_width": null,
            "border": null,
            "align_items": null,
            "bottom": null,
            "_model_module": "@jupyter-widgets/base",
            "top": null,
            "grid_column": null,
            "overflow_y": null,
            "overflow_x": null,
            "grid_auto_flow": null,
            "grid_area": null,
            "grid_template_columns": null,
            "flex": null,
            "_model_name": "LayoutModel",
            "justify_items": null,
            "grid_row": null,
            "max_height": null,
            "align_content": null,
            "visibility": null,
            "align_self": null,
            "height": null,
            "min_height": null,
            "padding": null,
            "grid_auto_rows": null,
            "grid_gap": null,
            "max_width": null,
            "order": null,
            "_view_module_version": "1.2.0",
            "grid_template_areas": null,
            "object_position": null,
            "object_fit": null,
            "grid_auto_columns": null,
            "margin": null,
            "display": null,
            "left": null
          }
        },
        "93632c1d1c654e68b0e0fc0fa8e944c3": {
          "model_module": "@jupyter-widgets/controls",
          "model_name": "HBoxModel",
          "model_module_version": "1.5.0",
          "state": {
            "_view_name": "HBoxView",
            "_dom_classes": [],
            "_model_name": "HBoxModel",
            "_view_module": "@jupyter-widgets/controls",
            "_model_module_version": "1.5.0",
            "_view_count": null,
            "_view_module_version": "1.5.0",
            "box_style": "",
            "layout": "IPY_MODEL_4b0a8ac7b4104d81b67217015db2b8ea",
            "_model_module": "@jupyter-widgets/controls",
            "children": [
              "IPY_MODEL_9ce11001abfe4a4dad18637cd07f32fa",
              "IPY_MODEL_920cb52de6fb4e2e8c92841e2c6fe7f0"
            ]
          }
        },
        "4b0a8ac7b4104d81b67217015db2b8ea": {
          "model_module": "@jupyter-widgets/base",
          "model_name": "LayoutModel",
          "model_module_version": "1.2.0",
          "state": {
            "_view_name": "LayoutView",
            "grid_template_rows": null,
            "right": null,
            "justify_content": null,
            "_view_module": "@jupyter-widgets/base",
            "overflow": null,
            "_model_module_version": "1.2.0",
            "_view_count": null,
            "flex_flow": null,
            "width": null,
            "min_width": null,
            "border": null,
            "align_items": null,
            "bottom": null,
            "_model_module": "@jupyter-widgets/base",
            "top": null,
            "grid_column": null,
            "overflow_y": null,
            "overflow_x": null,
            "grid_auto_flow": null,
            "grid_area": null,
            "grid_template_columns": null,
            "flex": null,
            "_model_name": "LayoutModel",
            "justify_items": null,
            "grid_row": null,
            "max_height": null,
            "align_content": null,
            "visibility": null,
            "align_self": null,
            "height": null,
            "min_height": null,
            "padding": null,
            "grid_auto_rows": null,
            "grid_gap": null,
            "max_width": null,
            "order": null,
            "_view_module_version": "1.2.0",
            "grid_template_areas": null,
            "object_position": null,
            "object_fit": null,
            "grid_auto_columns": null,
            "margin": null,
            "display": null,
            "left": null
          }
        },
        "9ce11001abfe4a4dad18637cd07f32fa": {
          "model_module": "@jupyter-widgets/controls",
          "model_name": "FloatProgressModel",
          "model_module_version": "1.5.0",
          "state": {
            "_view_name": "ProgressView",
            "style": "IPY_MODEL_c9435f7f72d640c18f18fb804512e4f3",
            "_dom_classes": [],
            "description": "Downloading: 100%",
            "_model_name": "FloatProgressModel",
            "bar_style": "success",
            "max": 482,
            "_view_module": "@jupyter-widgets/controls",
            "_model_module_version": "1.5.0",
            "value": 482,
            "_view_count": null,
            "_view_module_version": "1.5.0",
            "orientation": "horizontal",
            "min": 0,
            "description_tooltip": null,
            "_model_module": "@jupyter-widgets/controls",
            "layout": "IPY_MODEL_7b8edf8ee52b454b8f2b06be0693f7f1"
          }
        },
        "920cb52de6fb4e2e8c92841e2c6fe7f0": {
          "model_module": "@jupyter-widgets/controls",
          "model_name": "HTMLModel",
          "model_module_version": "1.5.0",
          "state": {
            "_view_name": "HTMLView",
            "style": "IPY_MODEL_10dc2c3ef724425eb985175186649e37",
            "_dom_classes": [],
            "description": "",
            "_model_name": "HTMLModel",
            "placeholder": "​",
            "_view_module": "@jupyter-widgets/controls",
            "_model_module_version": "1.5.0",
            "value": " 482/482 [00:00&lt;00:00, 2.01kB/s]",
            "_view_count": null,
            "_view_module_version": "1.5.0",
            "description_tooltip": null,
            "_model_module": "@jupyter-widgets/controls",
            "layout": "IPY_MODEL_e4e979c398d340d99562812a2ef6eb6f"
          }
        },
        "c9435f7f72d640c18f18fb804512e4f3": {
          "model_module": "@jupyter-widgets/controls",
          "model_name": "ProgressStyleModel",
          "model_module_version": "1.5.0",
          "state": {
            "_view_name": "StyleView",
            "_model_name": "ProgressStyleModel",
            "description_width": "initial",
            "_view_module": "@jupyter-widgets/base",
            "_model_module_version": "1.5.0",
            "_view_count": null,
            "_view_module_version": "1.2.0",
            "bar_color": null,
            "_model_module": "@jupyter-widgets/controls"
          }
        },
        "7b8edf8ee52b454b8f2b06be0693f7f1": {
          "model_module": "@jupyter-widgets/base",
          "model_name": "LayoutModel",
          "model_module_version": "1.2.0",
          "state": {
            "_view_name": "LayoutView",
            "grid_template_rows": null,
            "right": null,
            "justify_content": null,
            "_view_module": "@jupyter-widgets/base",
            "overflow": null,
            "_model_module_version": "1.2.0",
            "_view_count": null,
            "flex_flow": null,
            "width": null,
            "min_width": null,
            "border": null,
            "align_items": null,
            "bottom": null,
            "_model_module": "@jupyter-widgets/base",
            "top": null,
            "grid_column": null,
            "overflow_y": null,
            "overflow_x": null,
            "grid_auto_flow": null,
            "grid_area": null,
            "grid_template_columns": null,
            "flex": null,
            "_model_name": "LayoutModel",
            "justify_items": null,
            "grid_row": null,
            "max_height": null,
            "align_content": null,
            "visibility": null,
            "align_self": null,
            "height": null,
            "min_height": null,
            "padding": null,
            "grid_auto_rows": null,
            "grid_gap": null,
            "max_width": null,
            "order": null,
            "_view_module_version": "1.2.0",
            "grid_template_areas": null,
            "object_position": null,
            "object_fit": null,
            "grid_auto_columns": null,
            "margin": null,
            "display": null,
            "left": null
          }
        },
        "10dc2c3ef724425eb985175186649e37": {
          "model_module": "@jupyter-widgets/controls",
          "model_name": "DescriptionStyleModel",
          "model_module_version": "1.5.0",
          "state": {
            "_view_name": "StyleView",
            "_model_name": "DescriptionStyleModel",
            "description_width": "",
            "_view_module": "@jupyter-widgets/base",
            "_model_module_version": "1.5.0",
            "_view_count": null,
            "_view_module_version": "1.2.0",
            "_model_module": "@jupyter-widgets/controls"
          }
        },
        "e4e979c398d340d99562812a2ef6eb6f": {
          "model_module": "@jupyter-widgets/base",
          "model_name": "LayoutModel",
          "model_module_version": "1.2.0",
          "state": {
            "_view_name": "LayoutView",
            "grid_template_rows": null,
            "right": null,
            "justify_content": null,
            "_view_module": "@jupyter-widgets/base",
            "overflow": null,
            "_model_module_version": "1.2.0",
            "_view_count": null,
            "flex_flow": null,
            "width": null,
            "min_width": null,
            "border": null,
            "align_items": null,
            "bottom": null,
            "_model_module": "@jupyter-widgets/base",
            "top": null,
            "grid_column": null,
            "overflow_y": null,
            "overflow_x": null,
            "grid_auto_flow": null,
            "grid_area": null,
            "grid_template_columns": null,
            "flex": null,
            "_model_name": "LayoutModel",
            "justify_items": null,
            "grid_row": null,
            "max_height": null,
            "align_content": null,
            "visibility": null,
            "align_self": null,
            "height": null,
            "min_height": null,
            "padding": null,
            "grid_auto_rows": null,
            "grid_gap": null,
            "max_width": null,
            "order": null,
            "_view_module_version": "1.2.0",
            "grid_template_areas": null,
            "object_position": null,
            "object_fit": null,
            "grid_auto_columns": null,
            "margin": null,
            "display": null,
            "left": null
          }
        },
        "b659ca4fb4d74790b7ecdbba40a7a956": {
          "model_module": "@jupyter-widgets/controls",
          "model_name": "HBoxModel",
          "model_module_version": "1.5.0",
          "state": {
            "_view_name": "HBoxView",
            "_dom_classes": [],
            "_model_name": "HBoxModel",
            "_view_module": "@jupyter-widgets/controls",
            "_model_module_version": "1.5.0",
            "_view_count": null,
            "_view_module_version": "1.5.0",
            "box_style": "",
            "layout": "IPY_MODEL_0c30309c2c3d4f48ade727a396b9e376",
            "_model_module": "@jupyter-widgets/controls",
            "children": [
              "IPY_MODEL_5751e0eae46f4f61bb78d27b2675716e",
              "IPY_MODEL_a26b31a0a28f41ce825db683b956a49f"
            ]
          }
        },
        "0c30309c2c3d4f48ade727a396b9e376": {
          "model_module": "@jupyter-widgets/base",
          "model_name": "LayoutModel",
          "model_module_version": "1.2.0",
          "state": {
            "_view_name": "LayoutView",
            "grid_template_rows": null,
            "right": null,
            "justify_content": null,
            "_view_module": "@jupyter-widgets/base",
            "overflow": null,
            "_model_module_version": "1.2.0",
            "_view_count": null,
            "flex_flow": null,
            "width": null,
            "min_width": null,
            "border": null,
            "align_items": null,
            "bottom": null,
            "_model_module": "@jupyter-widgets/base",
            "top": null,
            "grid_column": null,
            "overflow_y": null,
            "overflow_x": null,
            "grid_auto_flow": null,
            "grid_area": null,
            "grid_template_columns": null,
            "flex": null,
            "_model_name": "LayoutModel",
            "justify_items": null,
            "grid_row": null,
            "max_height": null,
            "align_content": null,
            "visibility": null,
            "align_self": null,
            "height": null,
            "min_height": null,
            "padding": null,
            "grid_auto_rows": null,
            "grid_gap": null,
            "max_width": null,
            "order": null,
            "_view_module_version": "1.2.0",
            "grid_template_areas": null,
            "object_position": null,
            "object_fit": null,
            "grid_auto_columns": null,
            "margin": null,
            "display": null,
            "left": null
          }
        },
        "5751e0eae46f4f61bb78d27b2675716e": {
          "model_module": "@jupyter-widgets/controls",
          "model_name": "FloatProgressModel",
          "model_module_version": "1.5.0",
          "state": {
            "_view_name": "ProgressView",
            "style": "IPY_MODEL_3850ca1b3f554fc7869c59ee7402b92f",
            "_dom_classes": [],
            "description": "Downloading: 100%",
            "_model_name": "FloatProgressModel",
            "bar_style": "success",
            "max": 213450,
            "_view_module": "@jupyter-widgets/controls",
            "_model_module_version": "1.5.0",
            "value": 213450,
            "_view_count": null,
            "_view_module_version": "1.5.0",
            "orientation": "horizontal",
            "min": 0,
            "description_tooltip": null,
            "_model_module": "@jupyter-widgets/controls",
            "layout": "IPY_MODEL_064c80007cf042ef9796e0c7a89e3913"
          }
        },
        "a26b31a0a28f41ce825db683b956a49f": {
          "model_module": "@jupyter-widgets/controls",
          "model_name": "HTMLModel",
          "model_module_version": "1.5.0",
          "state": {
            "_view_name": "HTMLView",
            "style": "IPY_MODEL_4c3412d8780f49c28d5db3ed5c6741b3",
            "_dom_classes": [],
            "description": "",
            "_model_name": "HTMLModel",
            "placeholder": "​",
            "_view_module": "@jupyter-widgets/controls",
            "_model_module_version": "1.5.0",
            "value": " 213k/213k [00:01&lt;00:00, 118kB/s]",
            "_view_count": null,
            "_view_module_version": "1.5.0",
            "description_tooltip": null,
            "_model_module": "@jupyter-widgets/controls",
            "layout": "IPY_MODEL_8868e5c2ef9942bdae44505cb3221f5d"
          }
        },
        "3850ca1b3f554fc7869c59ee7402b92f": {
          "model_module": "@jupyter-widgets/controls",
          "model_name": "ProgressStyleModel",
          "model_module_version": "1.5.0",
          "state": {
            "_view_name": "StyleView",
            "_model_name": "ProgressStyleModel",
            "description_width": "initial",
            "_view_module": "@jupyter-widgets/base",
            "_model_module_version": "1.5.0",
            "_view_count": null,
            "_view_module_version": "1.2.0",
            "bar_color": null,
            "_model_module": "@jupyter-widgets/controls"
          }
        },
        "064c80007cf042ef9796e0c7a89e3913": {
          "model_module": "@jupyter-widgets/base",
          "model_name": "LayoutModel",
          "model_module_version": "1.2.0",
          "state": {
            "_view_name": "LayoutView",
            "grid_template_rows": null,
            "right": null,
            "justify_content": null,
            "_view_module": "@jupyter-widgets/base",
            "overflow": null,
            "_model_module_version": "1.2.0",
            "_view_count": null,
            "flex_flow": null,
            "width": null,
            "min_width": null,
            "border": null,
            "align_items": null,
            "bottom": null,
            "_model_module": "@jupyter-widgets/base",
            "top": null,
            "grid_column": null,
            "overflow_y": null,
            "overflow_x": null,
            "grid_auto_flow": null,
            "grid_area": null,
            "grid_template_columns": null,
            "flex": null,
            "_model_name": "LayoutModel",
            "justify_items": null,
            "grid_row": null,
            "max_height": null,
            "align_content": null,
            "visibility": null,
            "align_self": null,
            "height": null,
            "min_height": null,
            "padding": null,
            "grid_auto_rows": null,
            "grid_gap": null,
            "max_width": null,
            "order": null,
            "_view_module_version": "1.2.0",
            "grid_template_areas": null,
            "object_position": null,
            "object_fit": null,
            "grid_auto_columns": null,
            "margin": null,
            "display": null,
            "left": null
          }
        },
        "4c3412d8780f49c28d5db3ed5c6741b3": {
          "model_module": "@jupyter-widgets/controls",
          "model_name": "DescriptionStyleModel",
          "model_module_version": "1.5.0",
          "state": {
            "_view_name": "StyleView",
            "_model_name": "DescriptionStyleModel",
            "description_width": "",
            "_view_module": "@jupyter-widgets/base",
            "_model_module_version": "1.5.0",
            "_view_count": null,
            "_view_module_version": "1.2.0",
            "_model_module": "@jupyter-widgets/controls"
          }
        },
        "8868e5c2ef9942bdae44505cb3221f5d": {
          "model_module": "@jupyter-widgets/base",
          "model_name": "LayoutModel",
          "model_module_version": "1.2.0",
          "state": {
            "_view_name": "LayoutView",
            "grid_template_rows": null,
            "right": null,
            "justify_content": null,
            "_view_module": "@jupyter-widgets/base",
            "overflow": null,
            "_model_module_version": "1.2.0",
            "_view_count": null,
            "flex_flow": null,
            "width": null,
            "min_width": null,
            "border": null,
            "align_items": null,
            "bottom": null,
            "_model_module": "@jupyter-widgets/base",
            "top": null,
            "grid_column": null,
            "overflow_y": null,
            "overflow_x": null,
            "grid_auto_flow": null,
            "grid_area": null,
            "grid_template_columns": null,
            "flex": null,
            "_model_name": "LayoutModel",
            "justify_items": null,
            "grid_row": null,
            "max_height": null,
            "align_content": null,
            "visibility": null,
            "align_self": null,
            "height": null,
            "min_height": null,
            "padding": null,
            "grid_auto_rows": null,
            "grid_gap": null,
            "max_width": null,
            "order": null,
            "_view_module_version": "1.2.0",
            "grid_template_areas": null,
            "object_position": null,
            "object_fit": null,
            "grid_auto_columns": null,
            "margin": null,
            "display": null,
            "left": null
          }
        },
        "bac91ae9bfe74d96a597a909ba29f24a": {
          "model_module": "@jupyter-widgets/controls",
          "model_name": "HBoxModel",
          "model_module_version": "1.5.0",
          "state": {
            "_view_name": "HBoxView",
            "_dom_classes": [],
            "_model_name": "HBoxModel",
            "_view_module": "@jupyter-widgets/controls",
            "_model_module_version": "1.5.0",
            "_view_count": null,
            "_view_module_version": "1.5.0",
            "box_style": "",
            "layout": "IPY_MODEL_a2f88aa601c048d0a7afaeda495d766a",
            "_model_module": "@jupyter-widgets/controls",
            "children": [
              "IPY_MODEL_d0c1f8a48c044368a7d1b75740ca9ae5",
              "IPY_MODEL_7dbfc20d23a847e084c4ed53c793f3a5"
            ]
          }
        },
        "a2f88aa601c048d0a7afaeda495d766a": {
          "model_module": "@jupyter-widgets/base",
          "model_name": "LayoutModel",
          "model_module_version": "1.2.0",
          "state": {
            "_view_name": "LayoutView",
            "grid_template_rows": null,
            "right": null,
            "justify_content": null,
            "_view_module": "@jupyter-widgets/base",
            "overflow": null,
            "_model_module_version": "1.2.0",
            "_view_count": null,
            "flex_flow": null,
            "width": null,
            "min_width": null,
            "border": null,
            "align_items": null,
            "bottom": null,
            "_model_module": "@jupyter-widgets/base",
            "top": null,
            "grid_column": null,
            "overflow_y": null,
            "overflow_x": null,
            "grid_auto_flow": null,
            "grid_area": null,
            "grid_template_columns": null,
            "flex": null,
            "_model_name": "LayoutModel",
            "justify_items": null,
            "grid_row": null,
            "max_height": null,
            "align_content": null,
            "visibility": null,
            "align_self": null,
            "height": null,
            "min_height": null,
            "padding": null,
            "grid_auto_rows": null,
            "grid_gap": null,
            "max_width": null,
            "order": null,
            "_view_module_version": "1.2.0",
            "grid_template_areas": null,
            "object_position": null,
            "object_fit": null,
            "grid_auto_columns": null,
            "margin": null,
            "display": null,
            "left": null
          }
        },
        "d0c1f8a48c044368a7d1b75740ca9ae5": {
          "model_module": "@jupyter-widgets/controls",
          "model_name": "FloatProgressModel",
          "model_module_version": "1.5.0",
          "state": {
            "_view_name": "ProgressView",
            "style": "IPY_MODEL_adaea16e87994a3dafeaa48def7ab35a",
            "_dom_classes": [],
            "description": "Downloading: 100%",
            "_model_name": "FloatProgressModel",
            "bar_style": "success",
            "max": 112,
            "_view_module": "@jupyter-widgets/controls",
            "_model_module_version": "1.5.0",
            "value": 112,
            "_view_count": null,
            "_view_module_version": "1.5.0",
            "orientation": "horizontal",
            "min": 0,
            "description_tooltip": null,
            "_model_module": "@jupyter-widgets/controls",
            "layout": "IPY_MODEL_14c23014db054a739319b9f071b59c52"
          }
        },
        "7dbfc20d23a847e084c4ed53c793f3a5": {
          "model_module": "@jupyter-widgets/controls",
          "model_name": "HTMLModel",
          "model_module_version": "1.5.0",
          "state": {
            "_view_name": "HTMLView",
            "style": "IPY_MODEL_ccd73b68477c4d959474857b96e758e5",
            "_dom_classes": [],
            "description": "",
            "_model_name": "HTMLModel",
            "placeholder": "​",
            "_view_module": "@jupyter-widgets/controls",
            "_model_module_version": "1.5.0",
            "value": " 112/112 [00:00&lt;00:00, 181B/s]",
            "_view_count": null,
            "_view_module_version": "1.5.0",
            "description_tooltip": null,
            "_model_module": "@jupyter-widgets/controls",
            "layout": "IPY_MODEL_326a6d5e374e4930abf6136fe0e83989"
          }
        },
        "adaea16e87994a3dafeaa48def7ab35a": {
          "model_module": "@jupyter-widgets/controls",
          "model_name": "ProgressStyleModel",
          "model_module_version": "1.5.0",
          "state": {
            "_view_name": "StyleView",
            "_model_name": "ProgressStyleModel",
            "description_width": "initial",
            "_view_module": "@jupyter-widgets/base",
            "_model_module_version": "1.5.0",
            "_view_count": null,
            "_view_module_version": "1.2.0",
            "bar_color": null,
            "_model_module": "@jupyter-widgets/controls"
          }
        },
        "14c23014db054a739319b9f071b59c52": {
          "model_module": "@jupyter-widgets/base",
          "model_name": "LayoutModel",
          "model_module_version": "1.2.0",
          "state": {
            "_view_name": "LayoutView",
            "grid_template_rows": null,
            "right": null,
            "justify_content": null,
            "_view_module": "@jupyter-widgets/base",
            "overflow": null,
            "_model_module_version": "1.2.0",
            "_view_count": null,
            "flex_flow": null,
            "width": null,
            "min_width": null,
            "border": null,
            "align_items": null,
            "bottom": null,
            "_model_module": "@jupyter-widgets/base",
            "top": null,
            "grid_column": null,
            "overflow_y": null,
            "overflow_x": null,
            "grid_auto_flow": null,
            "grid_area": null,
            "grid_template_columns": null,
            "flex": null,
            "_model_name": "LayoutModel",
            "justify_items": null,
            "grid_row": null,
            "max_height": null,
            "align_content": null,
            "visibility": null,
            "align_self": null,
            "height": null,
            "min_height": null,
            "padding": null,
            "grid_auto_rows": null,
            "grid_gap": null,
            "max_width": null,
            "order": null,
            "_view_module_version": "1.2.0",
            "grid_template_areas": null,
            "object_position": null,
            "object_fit": null,
            "grid_auto_columns": null,
            "margin": null,
            "display": null,
            "left": null
          }
        },
        "ccd73b68477c4d959474857b96e758e5": {
          "model_module": "@jupyter-widgets/controls",
          "model_name": "DescriptionStyleModel",
          "model_module_version": "1.5.0",
          "state": {
            "_view_name": "StyleView",
            "_model_name": "DescriptionStyleModel",
            "description_width": "",
            "_view_module": "@jupyter-widgets/base",
            "_model_module_version": "1.5.0",
            "_view_count": null,
            "_view_module_version": "1.2.0",
            "_model_module": "@jupyter-widgets/controls"
          }
        },
        "326a6d5e374e4930abf6136fe0e83989": {
          "model_module": "@jupyter-widgets/base",
          "model_name": "LayoutModel",
          "model_module_version": "1.2.0",
          "state": {
            "_view_name": "LayoutView",
            "grid_template_rows": null,
            "right": null,
            "justify_content": null,
            "_view_module": "@jupyter-widgets/base",
            "overflow": null,
            "_model_module_version": "1.2.0",
            "_view_count": null,
            "flex_flow": null,
            "width": null,
            "min_width": null,
            "border": null,
            "align_items": null,
            "bottom": null,
            "_model_module": "@jupyter-widgets/base",
            "top": null,
            "grid_column": null,
            "overflow_y": null,
            "overflow_x": null,
            "grid_auto_flow": null,
            "grid_area": null,
            "grid_template_columns": null,
            "flex": null,
            "_model_name": "LayoutModel",
            "justify_items": null,
            "grid_row": null,
            "max_height": null,
            "align_content": null,
            "visibility": null,
            "align_self": null,
            "height": null,
            "min_height": null,
            "padding": null,
            "grid_auto_rows": null,
            "grid_gap": null,
            "max_width": null,
            "order": null,
            "_view_module_version": "1.2.0",
            "grid_template_areas": null,
            "object_position": null,
            "object_fit": null,
            "grid_auto_columns": null,
            "margin": null,
            "display": null,
            "left": null
          }
        },
        "50e88ae90c9b473dadbe1e2d4abd128c": {
          "model_module": "@jupyter-widgets/controls",
          "model_name": "HBoxModel",
          "model_module_version": "1.5.0",
          "state": {
            "_view_name": "HBoxView",
            "_dom_classes": [],
            "_model_name": "HBoxModel",
            "_view_module": "@jupyter-widgets/controls",
            "_model_module_version": "1.5.0",
            "_view_count": null,
            "_view_module_version": "1.5.0",
            "box_style": "",
            "layout": "IPY_MODEL_a93cbcca39324fe2b9afcfc102e286ac",
            "_model_module": "@jupyter-widgets/controls",
            "children": [
              "IPY_MODEL_9b3b9d8ce1a94dbf86808890c2415a24",
              "IPY_MODEL_ba4100eb349641daa6798f03d847891c"
            ]
          }
        },
        "a93cbcca39324fe2b9afcfc102e286ac": {
          "model_module": "@jupyter-widgets/base",
          "model_name": "LayoutModel",
          "model_module_version": "1.2.0",
          "state": {
            "_view_name": "LayoutView",
            "grid_template_rows": null,
            "right": null,
            "justify_content": null,
            "_view_module": "@jupyter-widgets/base",
            "overflow": null,
            "_model_module_version": "1.2.0",
            "_view_count": null,
            "flex_flow": null,
            "width": null,
            "min_width": null,
            "border": null,
            "align_items": null,
            "bottom": null,
            "_model_module": "@jupyter-widgets/base",
            "top": null,
            "grid_column": null,
            "overflow_y": null,
            "overflow_x": null,
            "grid_auto_flow": null,
            "grid_area": null,
            "grid_template_columns": null,
            "flex": null,
            "_model_name": "LayoutModel",
            "justify_items": null,
            "grid_row": null,
            "max_height": null,
            "align_content": null,
            "visibility": null,
            "align_self": null,
            "height": null,
            "min_height": null,
            "padding": null,
            "grid_auto_rows": null,
            "grid_gap": null,
            "max_width": null,
            "order": null,
            "_view_module_version": "1.2.0",
            "grid_template_areas": null,
            "object_position": null,
            "object_fit": null,
            "grid_auto_columns": null,
            "margin": null,
            "display": null,
            "left": null
          }
        },
        "9b3b9d8ce1a94dbf86808890c2415a24": {
          "model_module": "@jupyter-widgets/controls",
          "model_name": "FloatProgressModel",
          "model_module_version": "1.5.0",
          "state": {
            "_view_name": "ProgressView",
            "style": "IPY_MODEL_ecf0dfb0968a4969a7a2a69060bbc062",
            "_dom_classes": [],
            "description": "Downloading: 100%",
            "_model_name": "FloatProgressModel",
            "bar_style": "success",
            "max": 433295505,
            "_view_module": "@jupyter-widgets/controls",
            "_model_module_version": "1.5.0",
            "value": 433295505,
            "_view_count": null,
            "_view_module_version": "1.5.0",
            "orientation": "horizontal",
            "min": 0,
            "description_tooltip": null,
            "_model_module": "@jupyter-widgets/controls",
            "layout": "IPY_MODEL_92fdddcd309348d98445134f89b1495c"
          }
        },
        "ba4100eb349641daa6798f03d847891c": {
          "model_module": "@jupyter-widgets/controls",
          "model_name": "HTMLModel",
          "model_module_version": "1.5.0",
          "state": {
            "_view_name": "HTMLView",
            "style": "IPY_MODEL_6c59ebd24b2c4b4db9e54a63c17fac2c",
            "_dom_classes": [],
            "description": "",
            "_model_name": "HTMLModel",
            "placeholder": "​",
            "_view_module": "@jupyter-widgets/controls",
            "_model_module_version": "1.5.0",
            "value": " 433M/433M [00:08&lt;00:00, 50.1MB/s]",
            "_view_count": null,
            "_view_module_version": "1.5.0",
            "description_tooltip": null,
            "_model_module": "@jupyter-widgets/controls",
            "layout": "IPY_MODEL_c1caa02f501f43b59697841155cdabd5"
          }
        },
        "ecf0dfb0968a4969a7a2a69060bbc062": {
          "model_module": "@jupyter-widgets/controls",
          "model_name": "ProgressStyleModel",
          "model_module_version": "1.5.0",
          "state": {
            "_view_name": "StyleView",
            "_model_name": "ProgressStyleModel",
            "description_width": "initial",
            "_view_module": "@jupyter-widgets/base",
            "_model_module_version": "1.5.0",
            "_view_count": null,
            "_view_module_version": "1.2.0",
            "bar_color": null,
            "_model_module": "@jupyter-widgets/controls"
          }
        },
        "92fdddcd309348d98445134f89b1495c": {
          "model_module": "@jupyter-widgets/base",
          "model_name": "LayoutModel",
          "model_module_version": "1.2.0",
          "state": {
            "_view_name": "LayoutView",
            "grid_template_rows": null,
            "right": null,
            "justify_content": null,
            "_view_module": "@jupyter-widgets/base",
            "overflow": null,
            "_model_module_version": "1.2.0",
            "_view_count": null,
            "flex_flow": null,
            "width": null,
            "min_width": null,
            "border": null,
            "align_items": null,
            "bottom": null,
            "_model_module": "@jupyter-widgets/base",
            "top": null,
            "grid_column": null,
            "overflow_y": null,
            "overflow_x": null,
            "grid_auto_flow": null,
            "grid_area": null,
            "grid_template_columns": null,
            "flex": null,
            "_model_name": "LayoutModel",
            "justify_items": null,
            "grid_row": null,
            "max_height": null,
            "align_content": null,
            "visibility": null,
            "align_self": null,
            "height": null,
            "min_height": null,
            "padding": null,
            "grid_auto_rows": null,
            "grid_gap": null,
            "max_width": null,
            "order": null,
            "_view_module_version": "1.2.0",
            "grid_template_areas": null,
            "object_position": null,
            "object_fit": null,
            "grid_auto_columns": null,
            "margin": null,
            "display": null,
            "left": null
          }
        },
        "6c59ebd24b2c4b4db9e54a63c17fac2c": {
          "model_module": "@jupyter-widgets/controls",
          "model_name": "DescriptionStyleModel",
          "model_module_version": "1.5.0",
          "state": {
            "_view_name": "StyleView",
            "_model_name": "DescriptionStyleModel",
            "description_width": "",
            "_view_module": "@jupyter-widgets/base",
            "_model_module_version": "1.5.0",
            "_view_count": null,
            "_view_module_version": "1.2.0",
            "_model_module": "@jupyter-widgets/controls"
          }
        },
        "c1caa02f501f43b59697841155cdabd5": {
          "model_module": "@jupyter-widgets/base",
          "model_name": "LayoutModel",
          "model_module_version": "1.2.0",
          "state": {
            "_view_name": "LayoutView",
            "grid_template_rows": null,
            "right": null,
            "justify_content": null,
            "_view_module": "@jupyter-widgets/base",
            "overflow": null,
            "_model_module_version": "1.2.0",
            "_view_count": null,
            "flex_flow": null,
            "width": null,
            "min_width": null,
            "border": null,
            "align_items": null,
            "bottom": null,
            "_model_module": "@jupyter-widgets/base",
            "top": null,
            "grid_column": null,
            "overflow_y": null,
            "overflow_x": null,
            "grid_auto_flow": null,
            "grid_area": null,
            "grid_template_columns": null,
            "flex": null,
            "_model_name": "LayoutModel",
            "justify_items": null,
            "grid_row": null,
            "max_height": null,
            "align_content": null,
            "visibility": null,
            "align_self": null,
            "height": null,
            "min_height": null,
            "padding": null,
            "grid_auto_rows": null,
            "grid_gap": null,
            "max_width": null,
            "order": null,
            "_view_module_version": "1.2.0",
            "grid_template_areas": null,
            "object_position": null,
            "object_fit": null,
            "grid_auto_columns": null,
            "margin": null,
            "display": null,
            "left": null
          }
        }
      }
    }
  },
  "cells": [
    {
      "cell_type": "markdown",
      "metadata": {
        "id": "VuKccNZ1fse4"
      },
      "source": [
        "# Importing the Libraries"
      ]
    },
    {
      "cell_type": "code",
      "metadata": {
        "colab": {
          "base_uri": "https://localhost:8080/"
        },
        "id": "gctB_wTQgIl2",
        "outputId": "f5eaf052-2e90-4d0d-edba-bf211a0a571c"
      },
      "source": [
        "import os\n",
        "import sys\n",
        "import math\n",
        "import numpy as np\n",
        "import re\n",
        "import random\n",
        "import json\n",
        "import en_core_web_sm\n",
        "import pandas as pd\n",
        "import torch\n",
        "import spacy\n",
        "!pip install sentencepiece \n",
        "!pip install transformers\n",
        "import sentencepiece\n",
        "from transformers import (\n",
        "    AutoTokenizer,\n",
        "    AutoModelForSeq2SeqLM,\n",
        "    AutoModelForSequenceClassification,\n",
        ")"
      ],
      "execution_count": null,
      "outputs": [
        {
          "output_type": "stream",
          "text": [
            "Collecting sentencepiece\n",
            "  Downloading sentencepiece-0.1.96-cp37-cp37m-manylinux_2_17_x86_64.manylinux2014_x86_64.whl (1.2 MB)\n",
            "\u001b[?25l\r\u001b[K     |▎                               | 10 kB 28.4 MB/s eta 0:00:01\r\u001b[K     |▌                               | 20 kB 20.8 MB/s eta 0:00:01\r\u001b[K     |▉                               | 30 kB 16.3 MB/s eta 0:00:01\r\u001b[K     |█                               | 40 kB 14.5 MB/s eta 0:00:01\r\u001b[K     |█▍                              | 51 kB 7.3 MB/s eta 0:00:01\r\u001b[K     |█▋                              | 61 kB 7.1 MB/s eta 0:00:01\r\u001b[K     |██                              | 71 kB 7.5 MB/s eta 0:00:01\r\u001b[K     |██▏                             | 81 kB 8.4 MB/s eta 0:00:01\r\u001b[K     |██▍                             | 92 kB 8.9 MB/s eta 0:00:01\r\u001b[K     |██▊                             | 102 kB 7.0 MB/s eta 0:00:01\r\u001b[K     |███                             | 112 kB 7.0 MB/s eta 0:00:01\r\u001b[K     |███▎                            | 122 kB 7.0 MB/s eta 0:00:01\r\u001b[K     |███▌                            | 133 kB 7.0 MB/s eta 0:00:01\r\u001b[K     |███▉                            | 143 kB 7.0 MB/s eta 0:00:01\r\u001b[K     |████                            | 153 kB 7.0 MB/s eta 0:00:01\r\u001b[K     |████▎                           | 163 kB 7.0 MB/s eta 0:00:01\r\u001b[K     |████▋                           | 174 kB 7.0 MB/s eta 0:00:01\r\u001b[K     |████▉                           | 184 kB 7.0 MB/s eta 0:00:01\r\u001b[K     |█████▏                          | 194 kB 7.0 MB/s eta 0:00:01\r\u001b[K     |█████▍                          | 204 kB 7.0 MB/s eta 0:00:01\r\u001b[K     |█████▊                          | 215 kB 7.0 MB/s eta 0:00:01\r\u001b[K     |██████                          | 225 kB 7.0 MB/s eta 0:00:01\r\u001b[K     |██████▏                         | 235 kB 7.0 MB/s eta 0:00:01\r\u001b[K     |██████▌                         | 245 kB 7.0 MB/s eta 0:00:01\r\u001b[K     |██████▊                         | 256 kB 7.0 MB/s eta 0:00:01\r\u001b[K     |███████                         | 266 kB 7.0 MB/s eta 0:00:01\r\u001b[K     |███████▎                        | 276 kB 7.0 MB/s eta 0:00:01\r\u001b[K     |███████▋                        | 286 kB 7.0 MB/s eta 0:00:01\r\u001b[K     |███████▉                        | 296 kB 7.0 MB/s eta 0:00:01\r\u001b[K     |████████                        | 307 kB 7.0 MB/s eta 0:00:01\r\u001b[K     |████████▍                       | 317 kB 7.0 MB/s eta 0:00:01\r\u001b[K     |████████▋                       | 327 kB 7.0 MB/s eta 0:00:01\r\u001b[K     |█████████                       | 337 kB 7.0 MB/s eta 0:00:01\r\u001b[K     |█████████▏                      | 348 kB 7.0 MB/s eta 0:00:01\r\u001b[K     |█████████▌                      | 358 kB 7.0 MB/s eta 0:00:01\r\u001b[K     |█████████▊                      | 368 kB 7.0 MB/s eta 0:00:01\r\u001b[K     |██████████                      | 378 kB 7.0 MB/s eta 0:00:01\r\u001b[K     |██████████▎                     | 389 kB 7.0 MB/s eta 0:00:01\r\u001b[K     |██████████▌                     | 399 kB 7.0 MB/s eta 0:00:01\r\u001b[K     |██████████▉                     | 409 kB 7.0 MB/s eta 0:00:01\r\u001b[K     |███████████                     | 419 kB 7.0 MB/s eta 0:00:01\r\u001b[K     |███████████▍                    | 430 kB 7.0 MB/s eta 0:00:01\r\u001b[K     |███████████▋                    | 440 kB 7.0 MB/s eta 0:00:01\r\u001b[K     |███████████▉                    | 450 kB 7.0 MB/s eta 0:00:01\r\u001b[K     |████████████▏                   | 460 kB 7.0 MB/s eta 0:00:01\r\u001b[K     |████████████▍                   | 471 kB 7.0 MB/s eta 0:00:01\r\u001b[K     |████████████▊                   | 481 kB 7.0 MB/s eta 0:00:01\r\u001b[K     |█████████████                   | 491 kB 7.0 MB/s eta 0:00:01\r\u001b[K     |█████████████▎                  | 501 kB 7.0 MB/s eta 0:00:01\r\u001b[K     |█████████████▌                  | 512 kB 7.0 MB/s eta 0:00:01\r\u001b[K     |█████████████▊                  | 522 kB 7.0 MB/s eta 0:00:01\r\u001b[K     |██████████████                  | 532 kB 7.0 MB/s eta 0:00:01\r\u001b[K     |██████████████▎                 | 542 kB 7.0 MB/s eta 0:00:01\r\u001b[K     |██████████████▋                 | 552 kB 7.0 MB/s eta 0:00:01\r\u001b[K     |██████████████▉                 | 563 kB 7.0 MB/s eta 0:00:01\r\u001b[K     |███████████████▏                | 573 kB 7.0 MB/s eta 0:00:01\r\u001b[K     |███████████████▍                | 583 kB 7.0 MB/s eta 0:00:01\r\u001b[K     |███████████████▋                | 593 kB 7.0 MB/s eta 0:00:01\r\u001b[K     |████████████████                | 604 kB 7.0 MB/s eta 0:00:01\r\u001b[K     |████████████████▏               | 614 kB 7.0 MB/s eta 0:00:01\r\u001b[K     |████████████████▌               | 624 kB 7.0 MB/s eta 0:00:01\r\u001b[K     |████████████████▊               | 634 kB 7.0 MB/s eta 0:00:01\r\u001b[K     |█████████████████               | 645 kB 7.0 MB/s eta 0:00:01\r\u001b[K     |█████████████████▎              | 655 kB 7.0 MB/s eta 0:00:01\r\u001b[K     |█████████████████▌              | 665 kB 7.0 MB/s eta 0:00:01\r\u001b[K     |█████████████████▉              | 675 kB 7.0 MB/s eta 0:00:01\r\u001b[K     |██████████████████              | 686 kB 7.0 MB/s eta 0:00:01\r\u001b[K     |██████████████████▍             | 696 kB 7.0 MB/s eta 0:00:01\r\u001b[K     |██████████████████▋             | 706 kB 7.0 MB/s eta 0:00:01\r\u001b[K     |███████████████████             | 716 kB 7.0 MB/s eta 0:00:01\r\u001b[K     |███████████████████▏            | 727 kB 7.0 MB/s eta 0:00:01\r\u001b[K     |███████████████████▍            | 737 kB 7.0 MB/s eta 0:00:01\r\u001b[K     |███████████████████▊            | 747 kB 7.0 MB/s eta 0:00:01\r\u001b[K     |████████████████████            | 757 kB 7.0 MB/s eta 0:00:01\r\u001b[K     |████████████████████▎           | 768 kB 7.0 MB/s eta 0:00:01\r\u001b[K     |████████████████████▌           | 778 kB 7.0 MB/s eta 0:00:01\r\u001b[K     |████████████████████▉           | 788 kB 7.0 MB/s eta 0:00:01\r\u001b[K     |█████████████████████           | 798 kB 7.0 MB/s eta 0:00:01\r\u001b[K     |█████████████████████▎          | 808 kB 7.0 MB/s eta 0:00:01\r\u001b[K     |█████████████████████▋          | 819 kB 7.0 MB/s eta 0:00:01\r\u001b[K     |█████████████████████▉          | 829 kB 7.0 MB/s eta 0:00:01\r\u001b[K     |██████████████████████▏         | 839 kB 7.0 MB/s eta 0:00:01\r\u001b[K     |██████████████████████▍         | 849 kB 7.0 MB/s eta 0:00:01\r\u001b[K     |██████████████████████▊         | 860 kB 7.0 MB/s eta 0:00:01\r\u001b[K     |███████████████████████         | 870 kB 7.0 MB/s eta 0:00:01\r\u001b[K     |███████████████████████▏        | 880 kB 7.0 MB/s eta 0:00:01\r\u001b[K     |███████████████████████▌        | 890 kB 7.0 MB/s eta 0:00:01\r\u001b[K     |███████████████████████▊        | 901 kB 7.0 MB/s eta 0:00:01\r\u001b[K     |████████████████████████        | 911 kB 7.0 MB/s eta 0:00:01\r\u001b[K     |████████████████████████▎       | 921 kB 7.0 MB/s eta 0:00:01\r\u001b[K     |████████████████████████▋       | 931 kB 7.0 MB/s eta 0:00:01\r\u001b[K     |████████████████████████▉       | 942 kB 7.0 MB/s eta 0:00:01\r\u001b[K     |█████████████████████████       | 952 kB 7.0 MB/s eta 0:00:01\r\u001b[K     |█████████████████████████▍      | 962 kB 7.0 MB/s eta 0:00:01\r\u001b[K     |█████████████████████████▋      | 972 kB 7.0 MB/s eta 0:00:01\r\u001b[K     |██████████████████████████      | 983 kB 7.0 MB/s eta 0:00:01\r\u001b[K     |██████████████████████████▏     | 993 kB 7.0 MB/s eta 0:00:01\r\u001b[K     |██████████████████████████▌     | 1.0 MB 7.0 MB/s eta 0:00:01\r\u001b[K     |██████████████████████████▊     | 1.0 MB 7.0 MB/s eta 0:00:01\r\u001b[K     |███████████████████████████     | 1.0 MB 7.0 MB/s eta 0:00:01\r\u001b[K     |███████████████████████████▎    | 1.0 MB 7.0 MB/s eta 0:00:01\r\u001b[K     |███████████████████████████▌    | 1.0 MB 7.0 MB/s eta 0:00:01\r\u001b[K     |███████████████████████████▉    | 1.1 MB 7.0 MB/s eta 0:00:01\r\u001b[K     |████████████████████████████    | 1.1 MB 7.0 MB/s eta 0:00:01\r\u001b[K     |████████████████████████████▍   | 1.1 MB 7.0 MB/s eta 0:00:01\r\u001b[K     |████████████████████████████▋   | 1.1 MB 7.0 MB/s eta 0:00:01\r\u001b[K     |████████████████████████████▉   | 1.1 MB 7.0 MB/s eta 0:00:01\r\u001b[K     |█████████████████████████████▏  | 1.1 MB 7.0 MB/s eta 0:00:01\r\u001b[K     |█████████████████████████████▍  | 1.1 MB 7.0 MB/s eta 0:00:01\r\u001b[K     |█████████████████████████████▊  | 1.1 MB 7.0 MB/s eta 0:00:01\r\u001b[K     |██████████████████████████████  | 1.1 MB 7.0 MB/s eta 0:00:01\r\u001b[K     |██████████████████████████████▎ | 1.1 MB 7.0 MB/s eta 0:00:01\r\u001b[K     |██████████████████████████████▌ | 1.2 MB 7.0 MB/s eta 0:00:01\r\u001b[K     |██████████████████████████████▊ | 1.2 MB 7.0 MB/s eta 0:00:01\r\u001b[K     |███████████████████████████████ | 1.2 MB 7.0 MB/s eta 0:00:01\r\u001b[K     |███████████████████████████████▎| 1.2 MB 7.0 MB/s eta 0:00:01\r\u001b[K     |███████████████████████████████▋| 1.2 MB 7.0 MB/s eta 0:00:01\r\u001b[K     |███████████████████████████████▉| 1.2 MB 7.0 MB/s eta 0:00:01\r\u001b[K     |████████████████████████████████| 1.2 MB 7.0 MB/s \n",
            "\u001b[?25hInstalling collected packages: sentencepiece\n",
            "Successfully installed sentencepiece-0.1.96\n",
            "Collecting transformers\n",
            "  Downloading transformers-4.9.1-py3-none-any.whl (2.6 MB)\n",
            "\u001b[K     |████████████████████████████████| 2.6 MB 8.0 MB/s \n",
            "\u001b[?25hRequirement already satisfied: tqdm>=4.27 in /usr/local/lib/python3.7/dist-packages (from transformers) (4.41.1)\n",
            "Collecting pyyaml>=5.1\n",
            "  Downloading PyYAML-5.4.1-cp37-cp37m-manylinux1_x86_64.whl (636 kB)\n",
            "\u001b[K     |████████████████████████████████| 636 kB 48.6 MB/s \n",
            "\u001b[?25hRequirement already satisfied: numpy>=1.17 in /usr/local/lib/python3.7/dist-packages (from transformers) (1.19.5)\n",
            "Requirement already satisfied: regex!=2019.12.17 in /usr/local/lib/python3.7/dist-packages (from transformers) (2019.12.20)\n",
            "Collecting huggingface-hub==0.0.12\n",
            "  Downloading huggingface_hub-0.0.12-py3-none-any.whl (37 kB)\n",
            "Collecting sacremoses\n",
            "  Downloading sacremoses-0.0.45-py3-none-any.whl (895 kB)\n",
            "\u001b[K     |████████████████████████████████| 895 kB 57.6 MB/s \n",
            "\u001b[?25hRequirement already satisfied: filelock in /usr/local/lib/python3.7/dist-packages (from transformers) (3.0.12)\n",
            "Requirement already satisfied: packaging in /usr/local/lib/python3.7/dist-packages (from transformers) (21.0)\n",
            "Collecting tokenizers<0.11,>=0.10.1\n",
            "  Downloading tokenizers-0.10.3-cp37-cp37m-manylinux_2_5_x86_64.manylinux1_x86_64.manylinux_2_12_x86_64.manylinux2010_x86_64.whl (3.3 MB)\n",
            "\u001b[K     |████████████████████████████████| 3.3 MB 52.1 MB/s \n",
            "\u001b[?25hRequirement already satisfied: importlib-metadata in /usr/local/lib/python3.7/dist-packages (from transformers) (4.6.1)\n",
            "Requirement already satisfied: requests in /usr/local/lib/python3.7/dist-packages (from transformers) (2.23.0)\n",
            "Requirement already satisfied: typing-extensions in /usr/local/lib/python3.7/dist-packages (from huggingface-hub==0.0.12->transformers) (3.7.4.3)\n",
            "Requirement already satisfied: pyparsing>=2.0.2 in /usr/local/lib/python3.7/dist-packages (from packaging->transformers) (2.4.7)\n",
            "Requirement already satisfied: zipp>=0.5 in /usr/local/lib/python3.7/dist-packages (from importlib-metadata->transformers) (3.5.0)\n",
            "Requirement already satisfied: certifi>=2017.4.17 in /usr/local/lib/python3.7/dist-packages (from requests->transformers) (2021.5.30)\n",
            "Requirement already satisfied: urllib3!=1.25.0,!=1.25.1,<1.26,>=1.21.1 in /usr/local/lib/python3.7/dist-packages (from requests->transformers) (1.24.3)\n",
            "Requirement already satisfied: chardet<4,>=3.0.2 in /usr/local/lib/python3.7/dist-packages (from requests->transformers) (3.0.4)\n",
            "Requirement already satisfied: idna<3,>=2.5 in /usr/local/lib/python3.7/dist-packages (from requests->transformers) (2.10)\n",
            "Requirement already satisfied: click in /usr/local/lib/python3.7/dist-packages (from sacremoses->transformers) (7.1.2)\n",
            "Requirement already satisfied: six in /usr/local/lib/python3.7/dist-packages (from sacremoses->transformers) (1.15.0)\n",
            "Requirement already satisfied: joblib in /usr/local/lib/python3.7/dist-packages (from sacremoses->transformers) (1.0.1)\n",
            "Installing collected packages: tokenizers, sacremoses, pyyaml, huggingface-hub, transformers\n",
            "  Attempting uninstall: pyyaml\n",
            "    Found existing installation: PyYAML 3.13\n",
            "    Uninstalling PyYAML-3.13:\n",
            "      Successfully uninstalled PyYAML-3.13\n",
            "Successfully installed huggingface-hub-0.0.12 pyyaml-5.4.1 sacremoses-0.0.45 tokenizers-0.10.3 transformers-4.9.1\n"
          ],
          "name": "stdout"
        }
      ]
    },
    {
      "cell_type": "markdown",
      "metadata": {
        "id": "AmrYmjWvfiM5"
      },
      "source": [
        "# Question Generator class definition using the T5 pretrained model"
      ]
    },
    {
      "cell_type": "code",
      "metadata": {
        "id": "dYuU1vJmgOi0"
      },
      "source": [
        "class QG:\n",
        "    def __init__(self):\n",
        "        self.SeqLength= 512\n",
        "        self.qa_evaluator = QAEvaluator()\n",
        "        self.device = torch.device(\"cuda\" if torch.cuda.is_available() else \"cpu\")\n",
        "        self.AnswerToken = \"<answer>\"\n",
        "        self.ContentToken = \"<context>\"\n",
        "        QG_Pretrained = \"QG_Pretrained_t5_model_trained.pth\"\n",
        "        self.qg_tokenizer = AutoTokenizer.from_pretrained(QG_Pretrained, use_fast = False)\n",
        "        self.qg_model = AutoModelForSeq2SeqLM.from_pretrained(QG_Pretrained)\n",
        "        self.qg_model.to(self.device)\n",
        "\n",
        "    def generator(self, article, useEvaluator = True, numQuestions = None):\n",
        "        print(\"Creating the questions using T-5 \\n\")\n",
        "        qgInputs, qgAnswers = self.generateInputs(article)\n",
        "        generatedQuestions = self.generateQuesFromInputs(qgInputs)\n",
        "        if useEvaluator:\n",
        "            print(\"Evaluating the QA pairs using BERT \\n\")\n",
        "            encoded_qa_pairs = self.qa_evaluator.encodeQApairs(generatedQuestions, qgAnswers)\n",
        "            scores = self.qa_evaluator.getScores(encoded_qa_pairs)\n",
        "            if numQuestions:\n",
        "                qaList = self.getRankedPairs(generatedQuestions, qgAnswers, scores, numQuestions)\n",
        "            else:\n",
        "                qaList = self.getRankedPairs(generatedQuestions, qgAnswers, scores)\n",
        "        else:\n",
        "            print(\"Skipping the evaluation step \\n\")\n",
        "            qaList = self.getAllPairs(generatedQuestions, qgAnswers)\n",
        "        return qaList\n",
        "\n",
        "    def generateInputs(self, text):\n",
        "        inputs = []\n",
        "        answers = []\n",
        "        segments = self.splitToSegments(text)\n",
        "        for segment in segments:\n",
        "            sentences = self.splitText(segment)\n",
        "            prepped_inputs, prepped_answers = self.prepareInputs(sentences, segment)\n",
        "            inputs.extend(prepped_inputs)\n",
        "            answers.extend(prepped_answers)\n",
        "        return inputs, answers\n",
        "\n",
        "    def splitToSegments(self, text):\n",
        "        MaxTokens = 490\n",
        "        paragraphs = text.split(\"\\n\")\n",
        "        tokenizedParagraphs = [self.qg_tokenizer(p)[\"input_ids\"] for p in paragraphs if len(p) > 0]\n",
        "        segments = []\n",
        "        while len(tokenizedParagraphs) > 0:\n",
        "            segment = []\n",
        "            while len(segment) < MaxTokens and len(tokenizedParagraphs) > 0:\n",
        "                paragraph = tokenizedParagraphs.pop(0)\n",
        "                segment.extend(paragraph)\n",
        "            segments.append(segment)\n",
        "        return [self.qg_tokenizer.decode(s) for s in segments]\n",
        "\n",
        "    def generateQuesFromInputs(self, qgInputs):\n",
        "        generatedQuestions = []\n",
        "        for qg_input in qgInputs:\n",
        "            question = self.generateQuestion(qg_input)\n",
        "            generatedQuestions.append(question)\n",
        "        return generatedQuestions\n",
        "\n",
        "    def splitText(self, text):\n",
        "        MaxSentenceLen = 128\n",
        "        sentences = re.findall(\".*?[.!\\?]\", text)\n",
        "        cut_sentences = []\n",
        "        for sentence in sentences:\n",
        "            if len(sentence) > MaxSentenceLen:\n",
        "                cut_sentences.extend(re.split(\"[,;:)]\", sentence))\n",
        "        cut_sentences = [s for s in sentences if len(s.split(\" \")) > 5]\n",
        "        sentences = sentences + cut_sentences\n",
        "        return list(set([s.strip(\" \") for s in sentences]))\n",
        "      \n",
        "    def getRankedPairs(self, generatedQuestions, qgAnswers, scores, numQuestions=10):\n",
        "        if numQuestions > len(scores):\n",
        "            numQuestions = len(scores)\n",
        "            print(\"\\nWas only able to generate {} questions. For more questions, please input a longer text.\".format(numQuestions))\n",
        "        qaList = []\n",
        "        for i in range(numQuestions):\n",
        "            index = scores[i]\n",
        "            qa = self.makeDict(generatedQuestions[index].split(\"?\")[0] + \"?\", qgAnswers[index])\n",
        "            qaList.append(qa)\n",
        "        return qaList\n",
        "\n",
        "    def prepareInputs(self, sentences, text):\n",
        "        inputs = []\n",
        "        answers = []\n",
        "        for sentence in sentences:\n",
        "            qg_input = \"{} {} {} {}\".format(self.AnswerToken, sentence, self.ContentToken, text)\n",
        "            inputs.append(qg_input)\n",
        "            answers.append(sentence)\n",
        "        return inputs, answers\n",
        "\n",
        "    def generateQuestion(self, qg_input):\n",
        "        self.qg_model.eval()\n",
        "        encoded_input = self.encodeQG(qg_input)\n",
        "        with torch.no_grad():\n",
        "            output = self.qg_model.generator(input_ids=encoded_input[\"input_ids\"])\n",
        "        question = self.qg_tokenizer.decode(output[0], skip_special_tokens=True)\n",
        "        return question\n",
        "\n",
        "    def encodeQG(self, qg_input):\n",
        "        return self.qg_tokenizer(\n",
        "            qg_input,\n",
        "            padding='max_length',\n",
        "            max_length=self.SeqLength,\n",
        "            truncation=True,\n",
        "            return_tensors=\"pt\",\n",
        "        ).to(self.device)\n",
        "\n",
        "    def makeDict(self, question, answer):\n",
        "        qa = {}\n",
        "        qa[\"question\"] = question\n",
        "        qa[\"answer\"] = answer\n",
        "        return qa\n",
        "\n",
        "    def getAllPairs(self, generatedQuestions, qgAnswers):\n",
        "        qaList = []\n",
        "        for i in range(len(generatedQuestions)):\n",
        "            qa = self.makeDict(generatedQuestions[i].split(\"?\")[0] + \"?\", qgAnswers[i])\n",
        "            qaList.append(qa)\n",
        "        return qaList\n"
      ],
      "execution_count": null,
      "outputs": []
    },
    {
      "cell_type": "markdown",
      "metadata": {
        "id": "YmK3EF_HfKex"
      },
      "source": [
        "# QA Evaluator class definition using the BERT pretrained model"
      ]
    },
    {
      "cell_type": "code",
      "metadata": {
        "id": "FOEVc2noiZ6x"
      },
      "source": [
        "class QAEvaluator:\n",
        "    def __init__(self):\n",
        "        self.device = torch.device(\"cuda\" if torch.cuda.is_available() else \"cpu\")\n",
        "        evalPretrained = \"qa_eval_model_trained_bert_large.pt\"\n",
        "        self.SeqLength = 512\n",
        "        self.evalTokenizer = AutoTokenizer.from_pretrained(evalPretrained)\n",
        "        self.qae_model = AutoModelForSequenceClassification.from_pretrained(evalPretrained)\n",
        "        self.qae_model.to(self.device)\n",
        "\n",
        "    def encodeQApairs(self, questions, answers):\n",
        "        encoded_pairs = []\n",
        "        for i in range(len(questions)):\n",
        "            encoded_qa = self.encodeQA(questions[i], answers[i])\n",
        "            encoded_pairs.append(encoded_qa.to(self.device))\n",
        "        return encoded_pairs\n",
        "\n",
        "    def getScores(self, encoded_qa_pairs):\n",
        "        scores = {}\n",
        "        self.qae_model.eval()\n",
        "        with torch.no_grad():\n",
        "            for i in range(len(encoded_qa_pairs)):\n",
        "                scores[i] = self.evaluateQA(encoded_qa_pairs[i])\n",
        "        return [k for k, v in sorted(scores.items(), key = lambda item: item[1], reverse = True)]\n",
        "\n",
        "    def encodeQA(self, question, answer):\n",
        "        if type(answer) is list:\n",
        "            for a in answer:\n",
        "                if a[\"correct\"]:\n",
        "                    correct_answer = a[\"answer\"]\n",
        "        else:\n",
        "            correct_answer = answer\n",
        "        return self.evalTokenizer(\n",
        "            text = question,\n",
        "            text_pair = correct_answer,\n",
        "            padding = \"max_length\",\n",
        "            max_length = self.SeqLength,\n",
        "            truncation = True,\n",
        "            return_tensors = \"pt\",\n",
        "        )\n",
        "\n",
        "    def evaluateQA(self, encoded_qa_pair):\n",
        "        output = self.qae_model(**encoded_qa_pair)\n",
        "        return output[0][0][1]\n"
      ],
      "execution_count": null,
      "outputs": []
    },
    {
      "cell_type": "markdown",
      "metadata": {
        "id": "pH-gu8rmevi_"
      },
      "source": [
        "# Evaluation"
      ]
    },
    {
      "cell_type": "markdown",
      "metadata": {
        "id": "Ro0z7oAzKmEp"
      },
      "source": [
        "## Making an object of QG class"
      ]
    },
    {
      "cell_type": "code",
      "metadata": {
        "id": "sKrgX7haj_YV",
        "colab": {
          "base_uri": "https://localhost:8080/",
          "height": 554,
          "referenced_widgets": [
            "f233deb2dd7d42d491e3bd2086ca21bb",
            "242e698c3b714669be7e00e9834bacba",
            "5b51b84b99a04bdaac2f6abb74122f80",
            "35d226c5f75041ad9aeb4b6a2197fdd7",
            "e8a100a10dd44fb49bbeebdf2b569511",
            "3d7f9a30d19b4dea88e8e247ba59b7a3",
            "75bb36d482604180bdc6e688707452dd",
            "5397b0ff5fff4fd0904f1289b2852850",
            "acbe1b0f027e4316a30c59082c1f2568",
            "89e66fbebd394e5fb58d5d3f82872333",
            "3381f66234f84e4781c69eb0d3938930",
            "8e7fef6433144eda843a7b98a8a42ee3",
            "4b223c720460447890eab858c41eca4e",
            "bbb5262d1d004197a13cd06b84fb844f",
            "32972b5257a341f28d585d44fb7a32b6",
            "77ce712483ae4851b814751ad7172112",
            "b35cea4c5f7b473fa667b64ed727a4b0",
            "ce3a5653ce3f45cc849db2138f0484bf",
            "73fa3d0035e944f89a4b7c92d317e34f",
            "36d2901d6db042bea54ea2562a195ed9",
            "6cc2d837142445bd8ef72f2201bd1403",
            "7f326f300180403da860fbaf44faf6ea",
            "21097ef218694819ba0c9db4e09f2559",
            "a4246491234b4344a6ed923be222b890",
            "c2a30b3baece478782bec0126a073c46",
            "76e11415af3d48d3947708cca36e363a",
            "a6f1e68c51454236b35f5beb13e21ed7",
            "73b580aaf52041b7b6a5b7beadc9c14a",
            "e5c1fc344a91488093305251fd4083ca",
            "21f304061173499c8e9f14f1a0d4dfdb",
            "713362985c8748b1b9b0c9714562b71e",
            "e1683db887a440cbab1b61a1a6d490d2",
            "0c34fcf7c16b4f32a58d1ee999ac7fb6",
            "080cc67b3d254ac2919b6d142390b6e7",
            "28548ce34b004f0ab8e422b04a0086f7",
            "03c37b574ad24aaa94c29be50410350e",
            "570f02738fdf4f2cb09f9a9539d3beae",
            "14ec6d5fe76145aeac31da210a287503",
            "f2a62bc6df884e48914b75260b5626e8",
            "60207700b5a7442c98d7a56e435738f4",
            "c00014415cac405998c6d869572aea0e",
            "8b1bd82c0b264cbaa055b9a78d35ebfe",
            "5072c546b24f4af79c375e618b07aace",
            "ae8033b0c9c5495584ce0dea7316406d",
            "b1d52e0028eb4f4e896514324e8c46cc",
            "3fbc9744aacc47169e0fe752c50ef974",
            "c2c11fe10ac94aa38033c54e7956e6f7",
            "e99c57985edd4dccb180f43ab5ed6455",
            "d22864e97c97461c81aac04b7c89df04",
            "0e30df6ef08d458d9a0f51d0df3acca7",
            "97531109caf24ab48aced8b363dcf9c1",
            "bad71abcd56745d2bf0facb54680b4d3",
            "ac7cb149f50f4dbe900f8eee16c69d0d",
            "3fb4456cfb464206be4c35f51a62eb47",
            "1a81428aaf3d497c8a7cba81f42ec158",
            "5ae29450eeaf4e488285bd74724f8233",
            "93632c1d1c654e68b0e0fc0fa8e944c3",
            "4b0a8ac7b4104d81b67217015db2b8ea",
            "9ce11001abfe4a4dad18637cd07f32fa",
            "920cb52de6fb4e2e8c92841e2c6fe7f0",
            "c9435f7f72d640c18f18fb804512e4f3",
            "7b8edf8ee52b454b8f2b06be0693f7f1",
            "10dc2c3ef724425eb985175186649e37",
            "e4e979c398d340d99562812a2ef6eb6f",
            "b659ca4fb4d74790b7ecdbba40a7a956",
            "0c30309c2c3d4f48ade727a396b9e376",
            "5751e0eae46f4f61bb78d27b2675716e",
            "a26b31a0a28f41ce825db683b956a49f",
            "3850ca1b3f554fc7869c59ee7402b92f",
            "064c80007cf042ef9796e0c7a89e3913",
            "4c3412d8780f49c28d5db3ed5c6741b3",
            "8868e5c2ef9942bdae44505cb3221f5d",
            "bac91ae9bfe74d96a597a909ba29f24a",
            "a2f88aa601c048d0a7afaeda495d766a",
            "d0c1f8a48c044368a7d1b75740ca9ae5",
            "7dbfc20d23a847e084c4ed53c793f3a5",
            "adaea16e87994a3dafeaa48def7ab35a",
            "14c23014db054a739319b9f071b59c52",
            "ccd73b68477c4d959474857b96e758e5",
            "326a6d5e374e4930abf6136fe0e83989",
            "50e88ae90c9b473dadbe1e2d4abd128c",
            "a93cbcca39324fe2b9afcfc102e286ac",
            "9b3b9d8ce1a94dbf86808890c2415a24",
            "ba4100eb349641daa6798f03d847891c",
            "ecf0dfb0968a4969a7a2a69060bbc062",
            "92fdddcd309348d98445134f89b1495c",
            "6c59ebd24b2c4b4db9e54a63c17fac2c",
            "c1caa02f501f43b59697841155cdabd5"
          ]
        },
        "outputId": "99696218-120a-4f20-d240-73c53fb2e418"
      },
      "source": [
        "qg = QG()"
      ],
      "execution_count": null,
      "outputs": [
        {
          "output_type": "display_data",
          "data": {
            "application/vnd.jupyter.widget-view+json": {
              "model_id": "f233deb2dd7d42d491e3bd2086ca21bb",
              "version_minor": 0,
              "version_major": 2
            },
            "text/plain": [
              "HBox(children=(FloatProgress(value=0.0, description='Downloading', max=25.0, style=ProgressStyle(description_w…"
            ]
          },
          "metadata": {
            "tags": []
          }
        },
        {
          "output_type": "stream",
          "text": [
            "\n"
          ],
          "name": "stdout"
        },
        {
          "output_type": "display_data",
          "data": {
            "application/vnd.jupyter.widget-view+json": {
              "model_id": "acbe1b0f027e4316a30c59082c1f2568",
              "version_minor": 0,
              "version_major": 2
            },
            "text/plain": [
              "HBox(children=(FloatProgress(value=0.0, description='Downloading', max=1208.0, style=ProgressStyle(description…"
            ]
          },
          "metadata": {
            "tags": []
          }
        },
        {
          "output_type": "stream",
          "text": [
            "\n"
          ],
          "name": "stdout"
        },
        {
          "output_type": "display_data",
          "data": {
            "application/vnd.jupyter.widget-view+json": {
              "model_id": "b35cea4c5f7b473fa667b64ed727a4b0",
              "version_minor": 0,
              "version_major": 2
            },
            "text/plain": [
              "HBox(children=(FloatProgress(value=0.0, description='Downloading', max=791656.0, style=ProgressStyle(descripti…"
            ]
          },
          "metadata": {
            "tags": []
          }
        },
        {
          "output_type": "stream",
          "text": [
            "\n"
          ],
          "name": "stdout"
        },
        {
          "output_type": "display_data",
          "data": {
            "application/vnd.jupyter.widget-view+json": {
              "model_id": "c2a30b3baece478782bec0126a073c46",
              "version_minor": 0,
              "version_major": 2
            },
            "text/plain": [
              "HBox(children=(FloatProgress(value=0.0, description='Downloading', max=39.0, style=ProgressStyle(description_w…"
            ]
          },
          "metadata": {
            "tags": []
          }
        },
        {
          "output_type": "stream",
          "text": [
            "\n"
          ],
          "name": "stdout"
        },
        {
          "output_type": "display_data",
          "data": {
            "application/vnd.jupyter.widget-view+json": {
              "model_id": "0c34fcf7c16b4f32a58d1ee999ac7fb6",
              "version_minor": 0,
              "version_major": 2
            },
            "text/plain": [
              "HBox(children=(FloatProgress(value=0.0, description='Downloading', max=121.0, style=ProgressStyle(description_…"
            ]
          },
          "metadata": {
            "tags": []
          }
        },
        {
          "output_type": "stream",
          "text": [
            "\n"
          ],
          "name": "stdout"
        },
        {
          "output_type": "display_data",
          "data": {
            "application/vnd.jupyter.widget-view+json": {
              "model_id": "c00014415cac405998c6d869572aea0e",
              "version_minor": 0,
              "version_major": 2
            },
            "text/plain": [
              "HBox(children=(FloatProgress(value=0.0, description='Downloading', max=891612736.0, style=ProgressStyle(descri…"
            ]
          },
          "metadata": {
            "tags": []
          }
        },
        {
          "output_type": "stream",
          "text": [
            "\n"
          ],
          "name": "stdout"
        },
        {
          "output_type": "display_data",
          "data": {
            "application/vnd.jupyter.widget-view+json": {
              "model_id": "d22864e97c97461c81aac04b7c89df04",
              "version_minor": 0,
              "version_major": 2
            },
            "text/plain": [
              "HBox(children=(FloatProgress(value=0.0, description='Downloading', max=49.0, style=ProgressStyle(description_w…"
            ]
          },
          "metadata": {
            "tags": []
          }
        },
        {
          "output_type": "stream",
          "text": [
            "\n"
          ],
          "name": "stdout"
        },
        {
          "output_type": "display_data",
          "data": {
            "application/vnd.jupyter.widget-view+json": {
              "model_id": "93632c1d1c654e68b0e0fc0fa8e944c3",
              "version_minor": 0,
              "version_major": 2
            },
            "text/plain": [
              "HBox(children=(FloatProgress(value=0.0, description='Downloading', max=482.0, style=ProgressStyle(description_…"
            ]
          },
          "metadata": {
            "tags": []
          }
        },
        {
          "output_type": "stream",
          "text": [
            "\n"
          ],
          "name": "stdout"
        },
        {
          "output_type": "display_data",
          "data": {
            "application/vnd.jupyter.widget-view+json": {
              "model_id": "b659ca4fb4d74790b7ecdbba40a7a956",
              "version_minor": 0,
              "version_major": 2
            },
            "text/plain": [
              "HBox(children=(FloatProgress(value=0.0, description='Downloading', max=213450.0, style=ProgressStyle(descripti…"
            ]
          },
          "metadata": {
            "tags": []
          }
        },
        {
          "output_type": "stream",
          "text": [
            "\n"
          ],
          "name": "stdout"
        },
        {
          "output_type": "display_data",
          "data": {
            "application/vnd.jupyter.widget-view+json": {
              "model_id": "bac91ae9bfe74d96a597a909ba29f24a",
              "version_minor": 0,
              "version_major": 2
            },
            "text/plain": [
              "HBox(children=(FloatProgress(value=0.0, description='Downloading', max=112.0, style=ProgressStyle(description_…"
            ]
          },
          "metadata": {
            "tags": []
          }
        },
        {
          "output_type": "stream",
          "text": [
            "\n"
          ],
          "name": "stdout"
        },
        {
          "output_type": "display_data",
          "data": {
            "application/vnd.jupyter.widget-view+json": {
              "model_id": "50e88ae90c9b473dadbe1e2d4abd128c",
              "version_minor": 0,
              "version_major": 2
            },
            "text/plain": [
              "HBox(children=(FloatProgress(value=0.0, description='Downloading', max=433295505.0, style=ProgressStyle(descri…"
            ]
          },
          "metadata": {
            "tags": []
          }
        },
        {
          "output_type": "stream",
          "text": [
            "\n"
          ],
          "name": "stdout"
        }
      ]
    },
    {
      "cell_type": "markdown",
      "metadata": {
        "id": "qylfcC1aKvMz"
      },
      "source": [
        "## Testing the Question Generation on Sample Passages"
      ]
    },
    {
      "cell_type": "code",
      "metadata": {
        "colab": {
          "base_uri": "https://localhost:8080/"
        },
        "id": "wwqks39dFjGu",
        "outputId": "89e4e052-9f6b-4cfe-a557-56f81e7bcd67"
      },
      "source": [
        "passage1 = '''\n",
        "The COVID-19 (coronavirus) outbreak has significantly affected the global economy. First identified in Wuhan, China, the coronavirus has spread globally, with Ireland no exception. This article examines the impact of the coronavirus outbreak on the Irish economy.\n",
        "\n",
        "The Irish government has reported 15,251 cases and 610 fatalities as of 19 April, significantly lower than over 103,000 confirmed cases across the United Kingdom. The daily rise in the number of cases has prompted a number of measures aimed at stemming the spread of the virus and easing the pressure on the Health Service Executive. In mid-March, less than a month after the first confirmed case in the country, the Irish government announced the closure of schools and non-essential businesses including pubs, bars and hotels. At the end of the month, measures became more stringent with all individuals told to stay at home unless for essential trips, such as food purchases and working for essential services. These containment measures implemented to limit the spread of the virus have led to severe economic shocks.\n",
        "\n",
        "The halt to a large proportion of economic activity has led to a sharp increase in the national unemployment rate, to 5% in March according to the Central Statistics Office (CSO). The same body also stated that the COVID-19 adjusted unemployment rate was as high as 16.5%. Some of the most-exposed sectors, including retail, hospitality and construction, are expected to report up to 500,000 job losses before the end of April. Restaurants and takeaways have been particularly affected. However, a large proportion of workers in the financial services sector have been able to switch to remote working, placing employees in this sector at a lower risk of losing their jobs. This is crucial for the Irish economy, with professional, financial and support services accounting for approximately 42% of Irish GDP, according to the CSO. On 24 March, the Irish government announced the introduction of the Income Support Scheme, which provides a temporary subsidy of up to 70% of wages, a COVID-19 unemployment payment of €350 per week for employees and the self-employed to help relieve the strain on both businesses and consumers.\n",
        "'''\n",
        "\n",
        "qa_pairs_1 = qg.generator(passage1, numQuestions = 10)\n",
        "qa_pairs_1"
      ],
      "execution_count": null,
      "outputs": [
        {
          "output_type": "stream",
          "text": [
            "Generating questions...\n",
            "\n"
          ],
          "name": "stdout"
        },
        {
          "output_type": "stream",
          "text": [
            "/usr/local/lib/python3.7/dist-packages/transformers/models/t5/tokenization_t5.py:191: UserWarning: This sequence already has </s>. In future versions this behavior may lead to duplicated eos tokens being added.\n",
            "  f\"This sequence already has {self.eos_token}. In future versions this behavior may lead to duplicated eos tokens being added.\"\n"
          ],
          "name": "stderr"
        },
        {
          "output_type": "stream",
          "text": [
            "Evaluating QA pairs...\n",
            "\n"
          ],
          "name": "stdout"
        },
        {
          "output_type": "execute_result",
          "data": {
            "text/plain": [
              "[{'answer': 'Some of the most-exposed sectors, including retail, hospitality and construction, are expected to report up to 500,000 job losses before the end of April.',\n",
              "  'question': 'What sectors are expected to report the most job losses before the end of April?'},\n",
              " {'answer': '</s> The Irish government has reported 15,251 cases and 610 fatalities as of 19 April, significantly lower than over 103,000 confirmed cases across the United Kingdom.',\n",
              "  'question': 'How many deaths have been reported in Ireland as of 19 April?'},\n",
              " {'answer': 'The COVID-19 (coronavirus) outbreak has significantly affected the global economy.',\n",
              "  'question': 'What is the impact of the outbreak on the economy?'},\n",
              " {'answer': 'The daily rise in the number of cases has prompted a number of measures aimed at stemming the spread of the virus and easing the pressure on the Health Service Executive.',\n",
              "  'question': 'What is the impact of the coronavirus on the Irish economy?'},\n",
              " {'answer': 'This is crucial for the Irish economy, with professional, financial and support services accounting for approximately 42% of Irish GDP, according to the CSO.',\n",
              "  'question': 'How much of the GDP of Ireland is affected by the COVID-19?'},\n",
              " {'answer': 'Restaurants and takeaways have been particularly affected.',\n",
              "  'question': 'What sectors have been particularly affected by the outbreak?'},\n",
              " {'answer': '</s> The halt to a large proportion of economic activity has led to a sharp increase in the national unemployment rate, to 5% in March according to the Central Statistics Office (CSO).',\n",
              "  'question': 'What is the impact of the COVID-19 on the Irish economy?'},\n",
              " {'answer': 'These containment measures implemented to limit the spread of the virus have led to severe economic shocks.',\n",
              "  'question': 'What are the effects of the COVID-19 on the Irish economy?'},\n",
              " {'answer': 'First identified in Wuhan, China, the coronavirus has spread globally, with Ireland no exception.',\n",
              "  'question': 'Where did the outbreak occur?'},\n",
              " {'answer': '5%.',\n",
              "  'question': 'How much unemployment did the government expect to see in March?'}]"
            ]
          },
          "metadata": {
            "tags": []
          },
          "execution_count": 9
        }
      ]
    },
    {
      "cell_type": "code",
      "metadata": {
        "colab": {
          "base_uri": "https://localhost:8080/"
        },
        "id": "RAXTsaJUGXRS",
        "outputId": "e1f17d06-4c5d-4635-ec03-8395c3d2c570"
      },
      "source": [
        "passage2 = '''\n",
        "The Irish automotive sector has been profoundly affected by the lockdown measures. Prior to the crisis, sales were exhibiting a downward trend in the Motor Vehicle Dealers industry. The outbreak has decimated demand, with new vehicle registrations falling by 63.1% in March 2020 as just 6,150 vehicles were registered, down from 16,600 in the same month in the previous year, according to the Society of the Irish Motor Industry. As private consumption and consumer confidence decline sharply, expenditure on non-essential items such as new vehicles is anticipated to remain low in the short term.\n",
        "\n",
        "Food supply in Ireland has been unaffected mainly because it is self-sufficient for much produce, and Irish supermarkets have reported a sharp uptick in demand as coronavirus case numbers have risen, leading to major players in the industry launching recruitment drives. Tesco and Musgrave have employed thousands of people to meet higher in-store and online demand. IBISWorld expects higher online retail sales to represent a fundamental change in the way customers shop for groceries, with a higher proportion of customers projected to spend more online after the measures are eased.\n",
        "\n",
        "Major commercial flight operators Ryanair and Aer Lingus have grounded majority of their fleets as many countries have closed their borders, leading to a significant short-term decline in revenue for the Passenger Air Transport industry. Evidencing this, on Easter Monday just 900 passengers passed through Dublin Airport, compared with over 100,000 in the previous year.\n",
        "'''\n",
        "\n",
        "qa_pairs_2 = qg.generator(passage2, numQuestions = 10)\n",
        "qa_pairs_2"
      ],
      "execution_count": null,
      "outputs": [
        {
          "output_type": "stream",
          "text": [
            "Generating questions...\n",
            "\n"
          ],
          "name": "stdout"
        },
        {
          "output_type": "stream",
          "text": [
            "/usr/local/lib/python3.7/dist-packages/transformers/models/t5/tokenization_t5.py:191: UserWarning: This sequence already has </s>. In future versions this behavior may lead to duplicated eos tokens being added.\n",
            "  f\"This sequence already has {self.eos_token}. In future versions this behavior may lead to duplicated eos tokens being added.\"\n"
          ],
          "name": "stderr"
        },
        {
          "output_type": "stream",
          "text": [
            "Evaluating QA pairs...\n",
            "\n"
          ],
          "name": "stdout"
        },
        {
          "output_type": "execute_result",
          "data": {
            "text/plain": [
              "[{'answer': '</s> Major commercial flight operators Ryanair and Aer Lingus have grounded majority of their fleets as many countries have closed their borders, leading to a significant short-term decline in revenue for the Passenger Air Transport industry.',\n",
              "  'question': 'What is the impact of the closures on the Irish passenger transport industry?'},\n",
              " {'answer': '1% in March 2020 as just 6,150 vehicles were registered, down from 16,600 in the same month in the previous year, according to the Society of the Irish Motor Industry.',\n",
              "  'question': 'How many vehicles were registered in March 2020?'},\n",
              " {'answer': 'Prior to the crisis, sales were exhibiting a downward trend in the Motor Vehicle Dealers industry.',\n",
              "  'question': 'What is the impact of the crisis on the Irish automotive industry?'},\n",
              " {'answer': 'The outbreak has decimated demand, with new vehicle registrations falling by 63.',\n",
              "  'question': 'How many people have been affected by the outbreak?'},\n",
              " {'answer': '</s> Food supply in Ireland has been unaffected mainly because it is self-sufficient for much produce, and Irish supermarkets have reported a sharp uptick in demand as coronavirus case numbers have risen, leading to major players in the industry launching recruitment drives.',\n",
              "  'question': 'Why is the food supply in Ireland so low?'},\n",
              " {'answer': 'Evidencing this, on Easter Monday just 900 passengers passed through Dublin Airport, compared with over 100,000 in the previous year.',\n",
              "  'question': 'How many passengers passed through Dublin Airport on Easter Monday?'},\n",
              " {'answer': 'Tesco and Musgrave have employed thousands of people to meet higher in-store and online demand.',\n",
              "  'question': 'How many people have been employed by the two major players?'},\n",
              " {'answer': 'As private consumption and consumer confidence decline sharply, expenditure on non-essential items such as new vehicles is anticipated to remain low in the short term.',\n",
              "  'question': 'What is the impact of the lockdown on the Irish automotive industry?'},\n",
              " {'answer': 'The Irish automotive sector has been profoundly affected by the lockdown measures.',\n",
              "  'question': 'What is the impact of the lockdown measures on the Irish automotive sector?'},\n",
              " {'answer': 'IBISWorld expects higher online retail sales to represent a fundamental change in the way customers shop for groceries, with a higher proportion of customers projected to spend more online after the measures are eased.',\n",
              "  'question': 'What is the impact of the lockdown on the Irish economy?'}]"
            ]
          },
          "metadata": {
            "tags": []
          },
          "execution_count": 5
        }
      ]
    },
    {
      "cell_type": "markdown",
      "metadata": {
        "id": "cvBLKQeuK6oR"
      },
      "source": [
        "## Checking for the part of results by skipping the BERT evaluation of QA pairs generated from T5"
      ]
    },
    {
      "cell_type": "code",
      "metadata": {
        "colab": {
          "base_uri": "https://localhost:8080/"
        },
        "id": "ijuu9xsGO894",
        "outputId": "d5edd6a9-f210-4c2a-9dd4-0f1b4c6ef658"
      },
      "source": [
        "qa_pairs_1_without_BERT = qg.generator(passage1, useEvaluator = False, numQuestions = 10)\n",
        "qa_pairs_1_without_BERT"
      ],
      "execution_count": null,
      "outputs": [
        {
          "output_type": "stream",
          "text": [
            "Generating questions...\n",
            "\n"
          ],
          "name": "stdout"
        },
        {
          "output_type": "stream",
          "text": [
            "/usr/local/lib/python3.7/dist-packages/transformers/models/t5/tokenization_t5.py:191: UserWarning: This sequence already has </s>. In future versions this behavior may lead to duplicated eos tokens being added.\n",
            "  f\"This sequence already has {self.eos_token}. In future versions this behavior may lead to duplicated eos tokens being added.\"\n"
          ],
          "name": "stderr"
        },
        {
          "output_type": "stream",
          "text": [
            "Skipping evaluation step.\n",
            "\n"
          ],
          "name": "stdout"
        },
        {
          "output_type": "execute_result",
          "data": {
            "text/plain": [
              "[{'answer': '</s> The Irish government has reported 15,251 cases and 610 fatalities as of 19 April, significantly lower than over 103,000 confirmed cases across the United Kingdom.',\n",
              "  'question': 'How many deaths have been reported in Ireland as of 19 April?'},\n",
              " {'answer': '</s> The halt to a large proportion of economic activity has led to a sharp increase in the national unemployment rate, to 5% in March according to the Central Statistics Office (CSO).',\n",
              "  'question': 'What is the impact of the COVID-19 on the Irish economy?'},\n",
              " {'answer': 'However, a large proportion of workers in the financial services sector have been able to switch to remote working, placing employees in this sector at a lower risk of losing their jobs.',\n",
              "  'question': 'What is the impact of the outbreak on the Irish economy?'},\n",
              " {'answer': 'These containment measures implemented to limit the spread of the virus have led to severe economic shocks.',\n",
              "  'question': 'What are the effects of the COVID-19 on the Irish economy?'},\n",
              " {'answer': 'In mid-March, less than a month after the first confirmed case in the country, the Irish government announced the closure of schools and non-essential businesses including pubs, bars and hotels.',\n",
              "  'question': 'How many people have died from the virus?'},\n",
              " {'answer': 'This is crucial for the Irish economy, with professional, financial and support services accounting for approximately 42% of Irish GDP, according to the CSO.',\n",
              "  'question': 'How much of the GDP of Ireland is affected by the COVID-19?'},\n",
              " {'answer': 'First identified in Wuhan, China, the coronavirus has spread globally, with Ireland no exception.',\n",
              "  'question': 'Where did the outbreak occur?'},\n",
              " {'answer': 'The COVID-19 (coronavirus) outbreak has significantly affected the global economy.',\n",
              "  'question': 'What is the impact of the outbreak on the economy?'},\n",
              " {'answer': 'On 24 March, the Irish government announced the introduction of the Income Support Scheme, which provides a temporary subsidy of up to 70% of wages, a COVID-19 unemployment payment of €350 per week for employees and the self-employed to help relieve the strain on both businesses and consumers.',\n",
              "  'question': 'How many people have died from the virus?'},\n",
              " {'answer': 'The daily rise in the number of cases has prompted a number of measures aimed at stemming the spread of the virus and easing the pressure on the Health Service Executive.',\n",
              "  'question': 'What is the impact of the coronavirus on the Irish economy?'},\n",
              " {'answer': 'Some of the most-exposed sectors, including retail, hospitality and construction, are expected to report up to 500,000 job losses before the end of April.',\n",
              "  'question': 'What sectors are expected to report the most job losses before the end of April?'},\n",
              " {'answer': 'The same body also stated that the COVID-19 adjusted unemployment rate was as high as 16.',\n",
              "  'question': 'How many cases of the virus have been confirmed in Ireland?'},\n",
              " {'answer': 'At the end of the month, measures became more stringent with all individuals told to stay at home unless for essential trips, such as food purchases and working for essential services.',\n",
              "  'question': 'What are the main effects of the outbreak?'},\n",
              " {'answer': '5%.',\n",
              "  'question': 'How much unemployment did the government expect to see in March?'},\n",
              " {'answer': 'This article examines the impact of the coronavirus outbreak on the Irish economy.',\n",
              "  'question': 'What is the impact of the coronavirus outbreak on the Irish economy?'},\n",
              " {'answer': 'Restaurants and takeaways have been particularly affected.',\n",
              "  'question': 'What sectors have been particularly affected by the outbreak?'}]"
            ]
          },
          "metadata": {
            "tags": []
          },
          "execution_count": 10
        }
      ]
    },
    {
      "cell_type": "code",
      "metadata": {
        "colab": {
          "base_uri": "https://localhost:8080/"
        },
        "id": "eM7l7iQN4HZ8",
        "outputId": "a068a0bd-bd48-40b5-d510-7dc24d46aee4"
      },
      "source": [
        "qa_pairs_2_without_BERT = qg.generator(passage2, useEvaluator = False)\n",
        "qa_pairs_2_without_BERT"
      ],
      "execution_count": null,
      "outputs": [
        {
          "output_type": "stream",
          "text": [
            "Generating questions...\n",
            "\n"
          ],
          "name": "stdout"
        },
        {
          "output_type": "stream",
          "text": [
            "/usr/local/lib/python3.7/dist-packages/transformers/models/t5/tokenization_t5.py:191: UserWarning: This sequence already has </s>. In future versions this behavior may lead to duplicated eos tokens being added.\n",
            "  f\"This sequence already has {self.eos_token}. In future versions this behavior may lead to duplicated eos tokens being added.\"\n"
          ],
          "name": "stderr"
        },
        {
          "output_type": "stream",
          "text": [
            "Skipping evaluation step.\n",
            "\n"
          ],
          "name": "stdout"
        },
        {
          "output_type": "execute_result",
          "data": {
            "text/plain": [
              "[{'answer': 'As private consumption and consumer confidence decline sharply, expenditure on non-essential items such as new vehicles is anticipated to remain low in the short term.',\n",
              "  'question': 'What is the impact of the lockdown on the Irish automotive industry?'},\n",
              " {'answer': 'The outbreak has decimated demand, with new vehicle registrations falling by 63.',\n",
              "  'question': 'How many people have been affected by the outbreak?'},\n",
              " {'answer': 'Prior to the crisis, sales were exhibiting a downward trend in the Motor Vehicle Dealers industry.',\n",
              "  'question': 'What is the impact of the crisis on the Irish automotive industry?'},\n",
              " {'answer': 'Evidencing this, on Easter Monday just 900 passengers passed through Dublin Airport, compared with over 100,000 in the previous year.',\n",
              "  'question': 'How many passengers passed through Dublin Airport on Easter Monday?'},\n",
              " {'answer': 'Tesco and Musgrave have employed thousands of people to meet higher in-store and online demand.',\n",
              "  'question': 'How many people have been employed by the two major players?'},\n",
              " {'answer': 'IBISWorld expects higher online retail sales to represent a fundamental change in the way customers shop for groceries, with a higher proportion of customers projected to spend more online after the measures are eased.',\n",
              "  'question': 'What is the impact of the lockdown on the Irish economy?'},\n",
              " {'answer': '</s> Major commercial flight operators Ryanair and Aer Lingus have grounded majority of their fleets as many countries have closed their borders, leading to a significant short-term decline in revenue for the Passenger Air Transport industry.',\n",
              "  'question': 'What is the impact of the closures on the Irish passenger transport industry?'},\n",
              " {'answer': 'The Irish automotive sector has been profoundly affected by the lockdown measures.',\n",
              "  'question': 'What is the impact of the lockdown measures on the Irish automotive sector?'},\n",
              " {'answer': '</s> Food supply in Ireland has been unaffected mainly because it is self-sufficient for much produce, and Irish supermarkets have reported a sharp uptick in demand as coronavirus case numbers have risen, leading to major players in the industry launching recruitment drives.',\n",
              "  'question': 'Why is the food supply in Ireland so low?'},\n",
              " {'answer': '1% in March 2020 as just 6,150 vehicles were registered, down from 16,600 in the same month in the previous year, according to the Society of the Irish Motor Industry.',\n",
              "  'question': 'How many vehicles were registered in March 2020?'}]"
            ]
          },
          "metadata": {
            "tags": []
          },
          "execution_count": 7
        }
      ]
    },
    {
      "cell_type": "markdown",
      "metadata": {
        "id": "V_jV9Jb8LK7g"
      },
      "source": [
        "## Creating the QA pairs samples for Extrinsic Evaluation\n"
      ]
    },
    {
      "cell_type": "code",
      "metadata": {
        "id": "fOfVlMK4H3gl"
      },
      "source": [
        "# Setting up the random sample qa pair size from single passage\n",
        "random_sample_size = 5\n",
        "\n",
        "# Creating the QA pairs list to store the 10 random pairs to be used\n",
        "qa_pairs_1_list = []\n",
        "qa_pairs_2_list = []\n",
        "for i in range(10):\n",
        "  qa_pairs_1_list.append(random.sample(qa_pairs_1, random_sample_size))\n",
        "  qa_pairs_2_list.append(random.sample(qa_pairs_2, random_sample_size))"
      ],
      "execution_count": null,
      "outputs": []
    },
    {
      "cell_type": "code",
      "metadata": {
        "id": "oiU0tB1-XAij"
      },
      "source": [
        "evaluation_set_1 = pd.DataFrame(qa_pairs_1_list)\n",
        "evaluation_set_2 = pd.DataFrame(qa_pairs_2_list)"
      ],
      "execution_count": null,
      "outputs": []
    },
    {
      "cell_type": "code",
      "metadata": {
        "id": "6vn237ySXbDN"
      },
      "source": [
        "evaluation_set = pd.concat([evaluation_set_1, evaluation_set_2], axis = 1)"
      ],
      "execution_count": null,
      "outputs": []
    },
    {
      "cell_type": "code",
      "metadata": {
        "colab": {
          "base_uri": "https://localhost:8080/",
          "height": 710
        },
        "id": "Z8CkT1Gmb1ov",
        "outputId": "ffa348b0-56a2-4b0b-8e28-7926522c6b1e"
      },
      "source": [
        "evaluation_set"
      ],
      "execution_count": null,
      "outputs": [
        {
          "output_type": "execute_result",
          "data": {
            "text/html": [
              "<div>\n",
              "<style scoped>\n",
              "    .dataframe tbody tr th:only-of-type {\n",
              "        vertical-align: middle;\n",
              "    }\n",
              "\n",
              "    .dataframe tbody tr th {\n",
              "        vertical-align: top;\n",
              "    }\n",
              "\n",
              "    .dataframe thead th {\n",
              "        text-align: right;\n",
              "    }\n",
              "</style>\n",
              "<table border=\"1\" class=\"dataframe\">\n",
              "  <thead>\n",
              "    <tr style=\"text-align: right;\">\n",
              "      <th></th>\n",
              "      <th>0</th>\n",
              "      <th>1</th>\n",
              "      <th>2</th>\n",
              "      <th>3</th>\n",
              "      <th>4</th>\n",
              "      <th>0</th>\n",
              "      <th>1</th>\n",
              "      <th>2</th>\n",
              "      <th>3</th>\n",
              "      <th>4</th>\n",
              "    </tr>\n",
              "  </thead>\n",
              "  <tbody>\n",
              "    <tr>\n",
              "      <th>0</th>\n",
              "      <td>{'question': 'What are the effects of the COVI...</td>\n",
              "      <td>{'question': 'What is the impact of the outbre...</td>\n",
              "      <td>{'question': 'How much of the GDP of Ireland i...</td>\n",
              "      <td>{'question': 'How much unemployment did the go...</td>\n",
              "      <td>{'question': 'What is the impact of the COVID-...</td>\n",
              "      <td>{'question': 'What is the impact of the lockdo...</td>\n",
              "      <td>{'question': 'Why is the food supply in Irelan...</td>\n",
              "      <td>{'question': 'How many vehicles were registere...</td>\n",
              "      <td>{'question': 'What is the impact of the closur...</td>\n",
              "      <td>{'question': 'How many passengers passed throu...</td>\n",
              "    </tr>\n",
              "    <tr>\n",
              "      <th>1</th>\n",
              "      <td>{'question': 'How much unemployment did the go...</td>\n",
              "      <td>{'question': 'What sectors have been particula...</td>\n",
              "      <td>{'question': 'What sectors are expected to rep...</td>\n",
              "      <td>{'question': 'What is the impact of the outbre...</td>\n",
              "      <td>{'question': 'How much of the GDP of Ireland i...</td>\n",
              "      <td>{'question': 'How many vehicles were registere...</td>\n",
              "      <td>{'question': 'What is the impact of the lockdo...</td>\n",
              "      <td>{'question': 'Why is the food supply in Irelan...</td>\n",
              "      <td>{'question': 'How many passengers passed throu...</td>\n",
              "      <td>{'question': 'What is the impact of the lockdo...</td>\n",
              "    </tr>\n",
              "    <tr>\n",
              "      <th>2</th>\n",
              "      <td>{'question': 'Where did the outbreak occur?', ...</td>\n",
              "      <td>{'question': 'What sectors are expected to rep...</td>\n",
              "      <td>{'question': 'How much of the GDP of Ireland i...</td>\n",
              "      <td>{'question': 'How much unemployment did the go...</td>\n",
              "      <td>{'question': 'What are the effects of the COVI...</td>\n",
              "      <td>{'question': 'Why is the food supply in Irelan...</td>\n",
              "      <td>{'question': 'What is the impact of the crisis...</td>\n",
              "      <td>{'question': 'How many people have been employ...</td>\n",
              "      <td>{'question': 'How many passengers passed throu...</td>\n",
              "      <td>{'question': 'What is the impact of the lockdo...</td>\n",
              "    </tr>\n",
              "    <tr>\n",
              "      <th>3</th>\n",
              "      <td>{'question': 'What sectors are expected to rep...</td>\n",
              "      <td>{'question': 'Where did the outbreak occur?', ...</td>\n",
              "      <td>{'question': 'How much unemployment did the go...</td>\n",
              "      <td>{'question': 'How many deaths have been report...</td>\n",
              "      <td>{'question': 'What sectors have been particula...</td>\n",
              "      <td>{'question': 'How many vehicles were registere...</td>\n",
              "      <td>{'question': 'What is the impact of the crisis...</td>\n",
              "      <td>{'question': 'How many people have been affect...</td>\n",
              "      <td>{'question': 'Why is the food supply in Irelan...</td>\n",
              "      <td>{'question': 'How many passengers passed throu...</td>\n",
              "    </tr>\n",
              "    <tr>\n",
              "      <th>4</th>\n",
              "      <td>{'question': 'What is the impact of the outbre...</td>\n",
              "      <td>{'question': 'How much unemployment did the go...</td>\n",
              "      <td>{'question': 'Where did the outbreak occur?', ...</td>\n",
              "      <td>{'question': 'What is the impact of the corona...</td>\n",
              "      <td>{'question': 'How much of the GDP of Ireland i...</td>\n",
              "      <td>{'question': 'Why is the food supply in Irelan...</td>\n",
              "      <td>{'question': 'What is the impact of the crisis...</td>\n",
              "      <td>{'question': 'How many passengers passed throu...</td>\n",
              "      <td>{'question': 'What is the impact of the closur...</td>\n",
              "      <td>{'question': 'What is the impact of the lockdo...</td>\n",
              "    </tr>\n",
              "    <tr>\n",
              "      <th>5</th>\n",
              "      <td>{'question': 'How many deaths have been report...</td>\n",
              "      <td>{'question': 'What sectors have been particula...</td>\n",
              "      <td>{'question': 'What is the impact of the corona...</td>\n",
              "      <td>{'question': 'What is the impact of the outbre...</td>\n",
              "      <td>{'question': 'Where did the outbreak occur?', ...</td>\n",
              "      <td>{'question': 'What is the impact of the lockdo...</td>\n",
              "      <td>{'question': 'What is the impact of the lockdo...</td>\n",
              "      <td>{'question': 'How many people have been employ...</td>\n",
              "      <td>{'question': 'Why is the food supply in Irelan...</td>\n",
              "      <td>{'question': 'What is the impact of the closur...</td>\n",
              "    </tr>\n",
              "    <tr>\n",
              "      <th>6</th>\n",
              "      <td>{'question': 'How much of the GDP of Ireland i...</td>\n",
              "      <td>{'question': 'How many deaths have been report...</td>\n",
              "      <td>{'question': 'What is the impact of the COVID-...</td>\n",
              "      <td>{'question': 'Where did the outbreak occur?', ...</td>\n",
              "      <td>{'question': 'What sectors are expected to rep...</td>\n",
              "      <td>{'question': 'Why is the food supply in Irelan...</td>\n",
              "      <td>{'question': 'How many passengers passed throu...</td>\n",
              "      <td>{'question': 'What is the impact of the crisis...</td>\n",
              "      <td>{'question': 'What is the impact of the lockdo...</td>\n",
              "      <td>{'question': 'How many people have been employ...</td>\n",
              "    </tr>\n",
              "    <tr>\n",
              "      <th>7</th>\n",
              "      <td>{'question': 'What is the impact of the COVID-...</td>\n",
              "      <td>{'question': 'What are the effects of the COVI...</td>\n",
              "      <td>{'question': 'What is the impact of the outbre...</td>\n",
              "      <td>{'question': 'What sectors are expected to rep...</td>\n",
              "      <td>{'question': 'How much of the GDP of Ireland i...</td>\n",
              "      <td>{'question': 'What is the impact of the crisis...</td>\n",
              "      <td>{'question': 'How many people have been employ...</td>\n",
              "      <td>{'question': 'What is the impact of the closur...</td>\n",
              "      <td>{'question': 'How many people have been affect...</td>\n",
              "      <td>{'question': 'What is the impact of the lockdo...</td>\n",
              "    </tr>\n",
              "    <tr>\n",
              "      <th>8</th>\n",
              "      <td>{'question': 'What is the impact of the COVID-...</td>\n",
              "      <td>{'question': 'How many deaths have been report...</td>\n",
              "      <td>{'question': 'What is the impact of the corona...</td>\n",
              "      <td>{'question': 'What sectors are expected to rep...</td>\n",
              "      <td>{'question': 'How much unemployment did the go...</td>\n",
              "      <td>{'question': 'How many people have been affect...</td>\n",
              "      <td>{'question': 'What is the impact of the crisis...</td>\n",
              "      <td>{'question': 'How many vehicles were registere...</td>\n",
              "      <td>{'question': 'How many people have been employ...</td>\n",
              "      <td>{'question': 'What is the impact of the closur...</td>\n",
              "    </tr>\n",
              "    <tr>\n",
              "      <th>9</th>\n",
              "      <td>{'question': 'What is the impact of the corona...</td>\n",
              "      <td>{'question': 'Where did the outbreak occur?', ...</td>\n",
              "      <td>{'question': 'What is the impact of the COVID-...</td>\n",
              "      <td>{'question': 'How much of the GDP of Ireland i...</td>\n",
              "      <td>{'question': 'What is the impact of the outbre...</td>\n",
              "      <td>{'question': 'How many vehicles were registere...</td>\n",
              "      <td>{'question': 'Why is the food supply in Irelan...</td>\n",
              "      <td>{'question': 'What is the impact of the crisis...</td>\n",
              "      <td>{'question': 'How many people have been affect...</td>\n",
              "      <td>{'question': 'How many passengers passed throu...</td>\n",
              "    </tr>\n",
              "  </tbody>\n",
              "</table>\n",
              "</div>"
            ],
            "text/plain": [
              "                                                   0  ...                                                  4\n",
              "0  {'question': 'What are the effects of the COVI...  ...  {'question': 'How many passengers passed throu...\n",
              "1  {'question': 'How much unemployment did the go...  ...  {'question': 'What is the impact of the lockdo...\n",
              "2  {'question': 'Where did the outbreak occur?', ...  ...  {'question': 'What is the impact of the lockdo...\n",
              "3  {'question': 'What sectors are expected to rep...  ...  {'question': 'How many passengers passed throu...\n",
              "4  {'question': 'What is the impact of the outbre...  ...  {'question': 'What is the impact of the lockdo...\n",
              "5  {'question': 'How many deaths have been report...  ...  {'question': 'What is the impact of the closur...\n",
              "6  {'question': 'How much of the GDP of Ireland i...  ...  {'question': 'How many people have been employ...\n",
              "7  {'question': 'What is the impact of the COVID-...  ...  {'question': 'What is the impact of the lockdo...\n",
              "8  {'question': 'What is the impact of the COVID-...  ...  {'question': 'What is the impact of the closur...\n",
              "9  {'question': 'What is the impact of the corona...  ...  {'question': 'How many passengers passed throu...\n",
              "\n",
              "[10 rows x 10 columns]"
            ]
          },
          "metadata": {
            "tags": []
          },
          "execution_count": 105
        }
      ]
    },
    {
      "cell_type": "code",
      "metadata": {
        "id": "x-P6UQXUcM4W"
      },
      "source": [
        "DIR = os.path.expanduser('/content/gdrive/MyDrive/QG_dataset/')\n",
        "evaluation_set.to_csv(os.path.join(DIR, 'Human_Evaluation_QA_set.csv')) "
      ],
      "execution_count": null,
      "outputs": []
    },
    {
      "cell_type": "markdown",
      "metadata": {
        "id": "c_UZqCukLi2c"
      },
      "source": [
        "## Entire set of QA pairs generated from both the passages"
      ]
    },
    {
      "cell_type": "code",
      "metadata": {
        "colab": {
          "base_uri": "https://localhost:8080/"
        },
        "id": "7iOfc3pppzGh",
        "outputId": "7d56a35b-8b52-4d91-9b7b-d5a4a45c86e2"
      },
      "source": [
        "qa_pairs = qa_pairs_1 + qa_pairs_2\n",
        "qa_pairs"
      ],
      "execution_count": null,
      "outputs": [
        {
          "output_type": "execute_result",
          "data": {
            "text/plain": [
              "[[{'answer': 'Some of the most-exposed sectors, including retail, hospitality and construction, are expected to report up to 500,000 job losses before the end of April.',\n",
              "   'question': 'What sectors are expected to see the most job losses?'},\n",
              "  {'answer': '</s> The Irish government has reported 15,251 cases and 610 fatalities as of 19 April, significantly lower than over 103,000 confirmed cases across the United Kingdom.',\n",
              "   'question': 'How many deaths have been reported in Ireland as of 19 April?'},\n",
              "  {'answer': 'The COVID-19 (coronavirus) outbreak has significantly affected the global economy.',\n",
              "   'question': 'What is the impact of the outbreak on the economy?'},\n",
              "  {'answer': 'The daily rise in the number of cases has prompted a number of measures aimed at stemming the spread of the virus and easing the pressure on the Health Service Executive.',\n",
              "   'question': 'What is the impact of the coronavirus on the Irish economy?'},\n",
              "  {'answer': 'This is crucial for the Irish economy, with professional, financial and support services accounting for approximately 42% of Irish GDP, according to the CSO.',\n",
              "   'question': 'How much of the GDP of Ireland is affected by the COVID-19?'},\n",
              "  {'answer': 'Restaurants and takeaways have been particularly affected.',\n",
              "   'question': 'What sectors have been particularly affected by the outbreak?'},\n",
              "  {'answer': 'These containment measures implemented to limit the spread of the virus have led to severe economic shocks.',\n",
              "   'question': 'What are the effects of the COVID-19 on the Irish economy?'},\n",
              "  {'answer': 'First identified in Wuhan, China, the coronavirus has spread globally, with Ireland no exception.',\n",
              "   'question': 'Where did the outbreak occur?'}]]"
            ]
          },
          "metadata": {
            "tags": []
          },
          "execution_count": 10
        }
      ]
    },
    {
      "cell_type": "code",
      "metadata": {
        "id": "RpMgRAbzen_p"
      },
      "source": [
        "A = []\n",
        "Q = []\n",
        "QA = pd.DataFrame()\n",
        "for i in range(len(qa_pairs)):\n",
        "  Q.append(qa_pairs[i]['question'])\n",
        "  A.append(qa_pairs[i]['answer'])\n",
        "QA['Question'] = Q\n",
        "QA['Answer'] = A"
      ],
      "execution_count": null,
      "outputs": []
    },
    {
      "cell_type": "code",
      "metadata": {
        "colab": {
          "base_uri": "https://localhost:8080/",
          "height": 665
        },
        "id": "lvAaam_0iF4m",
        "outputId": "2bd330ac-431d-4fd3-8253-f45a038068c2"
      },
      "source": [
        "QA"
      ],
      "execution_count": null,
      "outputs": [
        {
          "output_type": "execute_result",
          "data": {
            "text/html": [
              "<div>\n",
              "<style scoped>\n",
              "    .dataframe tbody tr th:only-of-type {\n",
              "        vertical-align: middle;\n",
              "    }\n",
              "\n",
              "    .dataframe tbody tr th {\n",
              "        vertical-align: top;\n",
              "    }\n",
              "\n",
              "    .dataframe thead th {\n",
              "        text-align: right;\n",
              "    }\n",
              "</style>\n",
              "<table border=\"1\" class=\"dataframe\">\n",
              "  <thead>\n",
              "    <tr style=\"text-align: right;\">\n",
              "      <th></th>\n",
              "      <th>Question</th>\n",
              "      <th>Answer</th>\n",
              "    </tr>\n",
              "  </thead>\n",
              "  <tbody>\n",
              "    <tr>\n",
              "      <th>0</th>\n",
              "      <td>What sectors are expected to report the most j...</td>\n",
              "      <td>Some of the most-exposed sectors, including re...</td>\n",
              "    </tr>\n",
              "    <tr>\n",
              "      <th>1</th>\n",
              "      <td>How many deaths have been reported in Ireland ...</td>\n",
              "      <td>&lt;/s&gt; The Irish government has reported 15,251 ...</td>\n",
              "    </tr>\n",
              "    <tr>\n",
              "      <th>2</th>\n",
              "      <td>What is the impact of the outbreak on the econ...</td>\n",
              "      <td>The COVID-19 (coronavirus) outbreak has signif...</td>\n",
              "    </tr>\n",
              "    <tr>\n",
              "      <th>3</th>\n",
              "      <td>What is the impact of the coronavirus on the I...</td>\n",
              "      <td>The daily rise in the number of cases has prom...</td>\n",
              "    </tr>\n",
              "    <tr>\n",
              "      <th>4</th>\n",
              "      <td>How much of the GDP of Ireland is affected by ...</td>\n",
              "      <td>This is crucial for the Irish economy, with pr...</td>\n",
              "    </tr>\n",
              "    <tr>\n",
              "      <th>5</th>\n",
              "      <td>What sectors have been particularly affected b...</td>\n",
              "      <td>Restaurants and takeaways have been particular...</td>\n",
              "    </tr>\n",
              "    <tr>\n",
              "      <th>6</th>\n",
              "      <td>What is the impact of the COVID-19 on the Iris...</td>\n",
              "      <td>&lt;/s&gt; The halt to a large proportion of economi...</td>\n",
              "    </tr>\n",
              "    <tr>\n",
              "      <th>7</th>\n",
              "      <td>What are the effects of the COVID-19 on the Ir...</td>\n",
              "      <td>These containment measures implemented to limi...</td>\n",
              "    </tr>\n",
              "    <tr>\n",
              "      <th>8</th>\n",
              "      <td>Where did the outbreak occur?</td>\n",
              "      <td>First identified in Wuhan, China, the coronavi...</td>\n",
              "    </tr>\n",
              "    <tr>\n",
              "      <th>9</th>\n",
              "      <td>How much unemployment did the government expec...</td>\n",
              "      <td>5%.</td>\n",
              "    </tr>\n",
              "    <tr>\n",
              "      <th>10</th>\n",
              "      <td>What is the impact of the closures on the Iris...</td>\n",
              "      <td>&lt;/s&gt; Major commercial flight operators Ryanair...</td>\n",
              "    </tr>\n",
              "    <tr>\n",
              "      <th>11</th>\n",
              "      <td>How many vehicles were registered in March 2020?</td>\n",
              "      <td>1% in March 2020 as just 6,150 vehicles were r...</td>\n",
              "    </tr>\n",
              "    <tr>\n",
              "      <th>12</th>\n",
              "      <td>What is the impact of the crisis on the Irish ...</td>\n",
              "      <td>Prior to the crisis, sales were exhibiting a d...</td>\n",
              "    </tr>\n",
              "    <tr>\n",
              "      <th>13</th>\n",
              "      <td>How many people have been affected by the outb...</td>\n",
              "      <td>The outbreak has decimated demand, with new ve...</td>\n",
              "    </tr>\n",
              "    <tr>\n",
              "      <th>14</th>\n",
              "      <td>Why is the food supply in Ireland so low?</td>\n",
              "      <td>&lt;/s&gt; Food supply in Ireland has been unaffecte...</td>\n",
              "    </tr>\n",
              "    <tr>\n",
              "      <th>15</th>\n",
              "      <td>How many passengers passed through Dublin Airp...</td>\n",
              "      <td>Evidencing this, on Easter Monday just 900 pas...</td>\n",
              "    </tr>\n",
              "    <tr>\n",
              "      <th>16</th>\n",
              "      <td>How many people have been employed by the two ...</td>\n",
              "      <td>Tesco and Musgrave have employed thousands of ...</td>\n",
              "    </tr>\n",
              "    <tr>\n",
              "      <th>17</th>\n",
              "      <td>What is the impact of the lockdown on the Iris...</td>\n",
              "      <td>As private consumption and consumer confidence...</td>\n",
              "    </tr>\n",
              "    <tr>\n",
              "      <th>18</th>\n",
              "      <td>What is the impact of the lockdown measures on...</td>\n",
              "      <td>The Irish automotive sector has been profoundl...</td>\n",
              "    </tr>\n",
              "    <tr>\n",
              "      <th>19</th>\n",
              "      <td>What is the impact of the lockdown on the Iris...</td>\n",
              "      <td>IBISWorld expects higher online retail sales t...</td>\n",
              "    </tr>\n",
              "  </tbody>\n",
              "</table>\n",
              "</div>"
            ],
            "text/plain": [
              "                                             Question                                             Answer\n",
              "0   What sectors are expected to report the most j...  Some of the most-exposed sectors, including re...\n",
              "1   How many deaths have been reported in Ireland ...  </s> The Irish government has reported 15,251 ...\n",
              "2   What is the impact of the outbreak on the econ...  The COVID-19 (coronavirus) outbreak has signif...\n",
              "3   What is the impact of the coronavirus on the I...  The daily rise in the number of cases has prom...\n",
              "4   How much of the GDP of Ireland is affected by ...  This is crucial for the Irish economy, with pr...\n",
              "5   What sectors have been particularly affected b...  Restaurants and takeaways have been particular...\n",
              "6   What is the impact of the COVID-19 on the Iris...  </s> The halt to a large proportion of economi...\n",
              "7   What are the effects of the COVID-19 on the Ir...  These containment measures implemented to limi...\n",
              "8                       Where did the outbreak occur?  First identified in Wuhan, China, the coronavi...\n",
              "9   How much unemployment did the government expec...                                                5%.\n",
              "10  What is the impact of the closures on the Iris...  </s> Major commercial flight operators Ryanair...\n",
              "11   How many vehicles were registered in March 2020?  1% in March 2020 as just 6,150 vehicles were r...\n",
              "12  What is the impact of the crisis on the Irish ...  Prior to the crisis, sales were exhibiting a d...\n",
              "13  How many people have been affected by the outb...  The outbreak has decimated demand, with new ve...\n",
              "14          Why is the food supply in Ireland so low?  </s> Food supply in Ireland has been unaffecte...\n",
              "15  How many passengers passed through Dublin Airp...  Evidencing this, on Easter Monday just 900 pas...\n",
              "16  How many people have been employed by the two ...  Tesco and Musgrave have employed thousands of ...\n",
              "17  What is the impact of the lockdown on the Iris...  As private consumption and consumer confidence...\n",
              "18  What is the impact of the lockdown measures on...  The Irish automotive sector has been profoundl...\n",
              "19  What is the impact of the lockdown on the Iris...  IBISWorld expects higher online retail sales t..."
            ]
          },
          "metadata": {
            "tags": []
          },
          "execution_count": 66
        }
      ]
    },
    {
      "cell_type": "markdown",
      "metadata": {
        "id": "fwFpNQD6tovB"
      },
      "source": [
        "## Intrinsic/Automatic Evaluation Metrics"
      ]
    },
    {
      "cell_type": "markdown",
      "metadata": {
        "id": "9xCjYmNSL2mR"
      },
      "source": [
        "### BLEU score"
      ]
    },
    {
      "cell_type": "code",
      "metadata": {
        "id": "eCZYxPg03doi"
      },
      "source": [
        "# Importing the packages required for the BLEU score\n",
        "import nltk\n",
        "from nltk.translate import bleu\n",
        "from nltk.translate.bleu_score import SmoothingFunction\n",
        "smoothie = SmoothingFunction().method4"
      ],
      "execution_count": null,
      "outputs": []
    },
    {
      "cell_type": "code",
      "metadata": {
        "id": "gmEP4n0bt6FY"
      },
      "source": [
        "# Applying the bleu score metric to the QA pairs list \n",
        "Bleu_Score = []\n",
        "for i in range(len(QA['Question'])):\n",
        "  score = bleu([QA['Question'][i]], QA['Answer'][i], smoothing_function=smoothie)\n",
        "  Bleu_Score.append(round(score*100,2))"
      ],
      "execution_count": null,
      "outputs": []
    },
    {
      "cell_type": "code",
      "metadata": {
        "colab": {
          "base_uri": "https://localhost:8080/"
        },
        "id": "X4vQFRlrzHiB",
        "outputId": "a3ca500d-15e7-476f-dc96-18003b5541d3"
      },
      "source": [
        "# Bleu Score Matrix for the QA pairs generated\n",
        "Bleu_Score"
      ],
      "execution_count": null,
      "outputs": [
        {
          "output_type": "execute_result",
          "data": {
            "text/plain": [
              "[46.11,\n",
              " 19.95,\n",
              " 28.62,\n",
              " 17.1,\n",
              " 15.33,\n",
              " 59.54,\n",
              " 13.36,\n",
              " 20.27,\n",
              " 6.95,\n",
              " 0,\n",
              " 19.74,\n",
              " 23.07,\n",
              " 29.26,\n",
              " 26.2,\n",
              " 10.72,\n",
              " 43.38,\n",
              " 29.93,\n",
              " 11.4,\n",
              " 61.81,\n",
              " 9.02]"
            ]
          },
          "metadata": {
            "tags": []
          },
          "execution_count": 69
        }
      ]
    },
    {
      "cell_type": "markdown",
      "metadata": {
        "id": "W1RUUDuNL9-D"
      },
      "source": [
        "### ROGUE score"
      ]
    },
    {
      "cell_type": "code",
      "metadata": {
        "colab": {
          "base_uri": "https://localhost:8080/"
        },
        "id": "v3-dFDxsP-aQ",
        "outputId": "c1e2f7b9-bddf-44b5-ada4-d15eb2421a39"
      },
      "source": [
        "!pip install rouge\n",
        "from rouge import Rouge\n",
        "rouge = Rouge()"
      ],
      "execution_count": null,
      "outputs": [
        {
          "output_type": "stream",
          "text": [
            "Requirement already satisfied: rouge in /usr/local/lib/python3.7/dist-packages (1.0.1)\n",
            "Requirement already satisfied: six in /usr/local/lib/python3.7/dist-packages (from rouge) (1.15.0)\n"
          ],
          "name": "stdout"
        }
      ]
    },
    {
      "cell_type": "code",
      "metadata": {
        "colab": {
          "base_uri": "https://localhost:8080/"
        },
        "id": "nlOTqoIpQeqM",
        "outputId": "4a248803-a0c2-48a7-dcee-f3be6c1da88d"
      },
      "source": [
        "rouge.getScores(QA['Question'], QA['Answer'], avg=True)"
      ],
      "execution_count": null,
      "outputs": [
        {
          "output_type": "execute_result",
          "data": {
            "text/plain": [
              "{'rouge-1': {'f': 0.21703264418708773,\n",
              "  'p': 0.3158910533910534,\n",
              "  'r': 0.17882853910795088},\n",
              " 'rouge-2': {'f': 0.09470521661014109,\n",
              "  'p': 0.1329202741702742,\n",
              "  'r': 0.08313771259740485},\n",
              " 'rouge-l': {'f': 0.18439040634078263,\n",
              "  'p': 0.26489357864357865,\n",
              "  'r': 0.15297872225813408}}"
            ]
          },
          "metadata": {
            "tags": []
          },
          "execution_count": 71
        }
      ]
    },
    {
      "cell_type": "code",
      "metadata": {
        "colab": {
          "base_uri": "https://localhost:8080/"
        },
        "id": "n2SW7mwDecOD",
        "outputId": "d1278e33-4a5f-42e9-9fa3-3d1a3246d24d"
      },
      "source": [
        "# Rogue results for passage 1\n",
        "rouge.getScores(QA['Question'][:10], QA['Answer'][:10], avg=True)"
      ],
      "execution_count": null,
      "outputs": [
        {
          "output_type": "execute_result",
          "data": {
            "text/plain": [
              "{'rouge-1': {'f': 0.2271449077862763,\n",
              "  'p': 0.301984126984127,\n",
              "  'r': 0.1957161172161172},\n",
              " 'rouge-2': {'f': 0.11516021292091938,\n",
              "  'p': 0.14282467532467533,\n",
              "  'r': 0.1059291604197901},\n",
              " 'rouge-l': {'f': 0.2206932948830505,\n",
              "  'p': 0.291984126984127,\n",
              "  'r': 0.19095421245421246}}"
            ]
          },
          "metadata": {
            "tags": []
          },
          "execution_count": 72
        }
      ]
    },
    {
      "cell_type": "code",
      "metadata": {
        "colab": {
          "base_uri": "https://localhost:8080/"
        },
        "id": "fc3hKh_gedQc",
        "outputId": "05843c8f-889b-49c1-8f47-989ff5d933df"
      },
      "source": [
        "# Rogue results for passage 2\n",
        "rouge.getScores(QA['Question'][10:], QA['Answer'][10:], avg=True)"
      ],
      "execution_count": null,
      "outputs": [
        {
          "output_type": "execute_result",
          "data": {
            "text/plain": [
              "{'rouge-1': {'f': 0.2069203805878992,\n",
              "  'p': 0.3297979797979798,\n",
              "  'r': 0.16194096099978453},\n",
              " 'rouge-2': {'f': 0.07425022029936282,\n",
              "  'p': 0.12301587301587302,\n",
              "  'r': 0.06034626477501959},\n",
              " 'rouge-l': {'f': 0.1480875177985147,\n",
              "  'p': 0.2378030303030303,\n",
              "  'r': 0.11500323206205557}}"
            ]
          },
          "metadata": {
            "tags": []
          },
          "execution_count": 73
        }
      ]
    },
    {
      "cell_type": "markdown",
      "metadata": {
        "id": "vxL82CpdMDx5"
      },
      "source": [
        "### METEOR score"
      ]
    },
    {
      "cell_type": "code",
      "metadata": {
        "colab": {
          "base_uri": "https://localhost:8080/"
        },
        "id": "OK1zxIbwRMbj",
        "outputId": "1c8643ce-73e9-4676-8d62-ca1341ce3ecf"
      },
      "source": [
        "!pip install -U nltk\n",
        "import nltk.translate.meteor_score as meteor\n",
        "import nltk\n",
        "nltk.download('wordnet')"
      ],
      "execution_count": null,
      "outputs": [
        {
          "output_type": "stream",
          "text": [
            "Requirement already satisfied: nltk in /usr/local/lib/python3.7/dist-packages (3.6.2)\n",
            "Requirement already satisfied: tqdm in /usr/local/lib/python3.7/dist-packages (from nltk) (4.41.1)\n",
            "Requirement already satisfied: joblib in /usr/local/lib/python3.7/dist-packages (from nltk) (1.0.1)\n",
            "Requirement already satisfied: regex in /usr/local/lib/python3.7/dist-packages (from nltk) (2019.12.20)\n",
            "Requirement already satisfied: click in /usr/local/lib/python3.7/dist-packages (from nltk) (7.1.2)\n",
            "[nltk_data] Downloading package wordnet to /root/nltk_data...\n",
            "[nltk_data]   Package wordnet is already up-to-date!\n"
          ],
          "name": "stdout"
        },
        {
          "output_type": "execute_result",
          "data": {
            "text/plain": [
              "True"
            ]
          },
          "metadata": {
            "tags": []
          },
          "execution_count": 74
        }
      ]
    },
    {
      "cell_type": "code",
      "metadata": {
        "id": "vr3X8yzkUVZA"
      },
      "source": [
        "# Applying the meteor score metric to the QA pairs list \n",
        "Meteor_Score = []\n",
        "for i in range(len(QA['Question'])):\n",
        "  score = meteor.single_meteor_score(QA['Answer'][i], QA['Question'][i])\n",
        "  Meteor_Score.append(round(score*100,2))"
      ],
      "execution_count": null,
      "outputs": []
    },
    {
      "cell_type": "code",
      "metadata": {
        "colab": {
          "base_uri": "https://localhost:8080/"
        },
        "id": "bL0wLUBKY8qg",
        "outputId": "518cf540-9526-4721-e893-6a97e7266b4b"
      },
      "source": [
        "Meteor_Score"
      ],
      "execution_count": null,
      "outputs": [
        {
          "output_type": "execute_result",
          "data": {
            "text/plain": [
              "[45.38,\n",
              " 15.24,\n",
              " 15.0,\n",
              " 12.83,\n",
              " 8.77,\n",
              " 40.9,\n",
              " 6.69,\n",
              " 9.15,\n",
              " 3.82,\n",
              " 0.0,\n",
              " 5.93,\n",
              " 11.35,\n",
              " 6.41,\n",
              " 8.55,\n",
              " 11.02,\n",
              " 30.99,\n",
              " 10.27,\n",
              " 6.33,\n",
              " 30.74,\n",
              " 6.31]"
            ]
          },
          "metadata": {
            "tags": []
          },
          "execution_count": 76
        }
      ]
    },
    {
      "cell_type": "markdown",
      "metadata": {
        "id": "vv5B-wedMIyW"
      },
      "source": [
        "### Jaccard Similarity"
      ]
    },
    {
      "cell_type": "code",
      "metadata": {
        "id": "MMQx7lxj5oid"
      },
      "source": [
        "# Importing the packages required for the Jaccard Similarity\n",
        "from nltk.metrics.distance import jaccard_distance\n",
        "from nltk.util import ngrams"
      ],
      "execution_count": null,
      "outputs": []
    },
    {
      "cell_type": "code",
      "metadata": {
        "id": "oyxcldPO6ZF4"
      },
      "source": [
        "# Applying the jaccard similarity metric to the QA pairs list \n",
        "Jaccard_Similarity = []\n",
        "for i in range(len(QA['Question'])):\n",
        "  JS = 1-jaccard_distance(set(ngrams(QA['Question'][i], 1)), set(ngrams(QA['Answer'][i], 1)))\n",
        "  Jaccard_Similarity.append(round(JS*100,2))"
      ],
      "execution_count": null,
      "outputs": []
    },
    {
      "cell_type": "code",
      "metadata": {
        "colab": {
          "base_uri": "https://localhost:8080/"
        },
        "id": "26TCZOpa6r60",
        "outputId": "e8e408d3-0ac3-42e8-908d-888702949fe5"
      },
      "source": [
        "# Jaccard Similarity Matrix for the QA pairs generated\n",
        "Jaccard_Similarity"
      ],
      "execution_count": null,
      "outputs": [
        {
          "output_type": "execute_result",
          "data": {
            "text/plain": [
              "[64.52,\n",
              " 55.0,\n",
              " 47.22,\n",
              " 56.67,\n",
              " 57.14,\n",
              " 76.0,\n",
              " 40.48,\n",
              " 40.62,\n",
              " 43.33,\n",
              " 0.0,\n",
              " 51.35,\n",
              " 60.0,\n",
              " 43.75,\n",
              " 63.33,\n",
              " 50.0,\n",
              " 69.7,\n",
              " 51.72,\n",
              " 68.97,\n",
              " 77.78,\n",
              " 66.67]"
            ]
          },
          "metadata": {
            "tags": []
          },
          "execution_count": 79
        }
      ]
    },
    {
      "cell_type": "markdown",
      "metadata": {
        "id": "xbwi6XdSMQoZ"
      },
      "source": [
        "### Cosine Similarity"
      ]
    },
    {
      "cell_type": "code",
      "metadata": {
        "colab": {
          "base_uri": "https://localhost:8080/"
        },
        "id": "Gey-50Hg7DZX",
        "outputId": "62b2f798-0121-4b64-e64d-80a33d74dcd5"
      },
      "source": [
        "!pip install textdistance\n",
        "import textdistance"
      ],
      "execution_count": null,
      "outputs": [
        {
          "output_type": "stream",
          "text": [
            "Requirement already satisfied: textdistance in /usr/local/lib/python3.7/dist-packages (4.2.1)\n"
          ],
          "name": "stdout"
        }
      ]
    },
    {
      "cell_type": "code",
      "metadata": {
        "id": "cZD3ieFj7P7N"
      },
      "source": [
        "# Applying the cosine similarity metric to the QA pairs list \n",
        "Cosine_Similarity = []\n",
        "for i in range(len(QA['Question'])):\n",
        "  CS = 1-textdistance.Cosine(qval=1).distance(QA['Question'][i], QA['Answer'][i])\n",
        "  Cosine_Similarity.append(round(CS*100,2))"
      ],
      "execution_count": null,
      "outputs": []
    },
    {
      "cell_type": "code",
      "metadata": {
        "colab": {
          "base_uri": "https://localhost:8080/"
        },
        "id": "UP-Is_828Isy",
        "outputId": "1d2ba8cc-1aa5-40fe-9e76-7caeb39195b4"
      },
      "source": [
        "# Cosine Similarity Matrix for the QA pairs generated\n",
        "Cosine_Similarity"
      ],
      "execution_count": null,
      "outputs": [
        {
          "output_type": "execute_result",
          "data": {
            "text/plain": [
              "[70.27,\n",
              " 57.47,\n",
              " 67.15,\n",
              " 54.92,\n",
              " 52.99,\n",
              " 79.02,\n",
              " 46.3,\n",
              " 55.85,\n",
              " 50.91,\n",
              " 0.0,\n",
              " 53.48,\n",
              " 51.38,\n",
              " 68.39,\n",
              " 67.32,\n",
              " 35.79,\n",
              " 68.86,\n",
              " 64.9,\n",
              " 60.06,\n",
              " 82.88,\n",
              " 48.87]"
            ]
          },
          "metadata": {
            "tags": []
          },
          "execution_count": 82
        }
      ]
    },
    {
      "cell_type": "markdown",
      "metadata": {
        "id": "dTjQ3Ay0MZ03"
      },
      "source": [
        "## Creating the evaluation matrix by joining the individual matrix "
      ]
    },
    {
      "cell_type": "code",
      "metadata": {
        "id": "HeIjtyCM9Kfw"
      },
      "source": [
        "Evaluations = pd.DataFrame()\n",
        "Evaluations['Question'] = QA['Question']\n",
        "Evaluations['Answer'] = QA['Answer']\n",
        "Evaluations['Bleu_Score'] = Bleu_Score\n",
        "Evaluations['Meteor_Score'] = Meteor_Score\n",
        "Evaluations['Jaccard_Similarity'] = Jaccard_Similarity\n",
        "Evaluations['Cosine_Similarity'] = Cosine_Similarity"
      ],
      "execution_count": null,
      "outputs": []
    },
    {
      "cell_type": "code",
      "metadata": {
        "colab": {
          "base_uri": "https://localhost:8080/",
          "height": 665
        },
        "id": "S3hvQAufRlXr",
        "outputId": "beeed573-d5ed-4c3a-a55a-876eeefb9f24"
      },
      "source": [
        "Evaluations"
      ],
      "execution_count": null,
      "outputs": [
        {
          "output_type": "execute_result",
          "data": {
            "text/html": [
              "<div>\n",
              "<style scoped>\n",
              "    .dataframe tbody tr th:only-of-type {\n",
              "        vertical-align: middle;\n",
              "    }\n",
              "\n",
              "    .dataframe tbody tr th {\n",
              "        vertical-align: top;\n",
              "    }\n",
              "\n",
              "    .dataframe thead th {\n",
              "        text-align: right;\n",
              "    }\n",
              "</style>\n",
              "<table border=\"1\" class=\"dataframe\">\n",
              "  <thead>\n",
              "    <tr style=\"text-align: right;\">\n",
              "      <th></th>\n",
              "      <th>Question</th>\n",
              "      <th>Answer</th>\n",
              "      <th>Bleu_Score</th>\n",
              "      <th>Meteor_Score</th>\n",
              "      <th>Jaccard_Similarity</th>\n",
              "      <th>Cosine_Similarity</th>\n",
              "    </tr>\n",
              "  </thead>\n",
              "  <tbody>\n",
              "    <tr>\n",
              "      <th>0</th>\n",
              "      <td>What sectors are expected to report the most j...</td>\n",
              "      <td>Some of the most-exposed sectors, including re...</td>\n",
              "      <td>46.11</td>\n",
              "      <td>45.38</td>\n",
              "      <td>64.52</td>\n",
              "      <td>70.27</td>\n",
              "    </tr>\n",
              "    <tr>\n",
              "      <th>1</th>\n",
              "      <td>How many deaths have been reported in Ireland ...</td>\n",
              "      <td>&lt;/s&gt; The Irish government has reported 15,251 ...</td>\n",
              "      <td>19.95</td>\n",
              "      <td>15.24</td>\n",
              "      <td>55.00</td>\n",
              "      <td>57.47</td>\n",
              "    </tr>\n",
              "    <tr>\n",
              "      <th>2</th>\n",
              "      <td>What is the impact of the outbreak on the econ...</td>\n",
              "      <td>The COVID-19 (coronavirus) outbreak has signif...</td>\n",
              "      <td>28.62</td>\n",
              "      <td>15.00</td>\n",
              "      <td>47.22</td>\n",
              "      <td>67.15</td>\n",
              "    </tr>\n",
              "    <tr>\n",
              "      <th>3</th>\n",
              "      <td>What is the impact of the coronavirus on the I...</td>\n",
              "      <td>The daily rise in the number of cases has prom...</td>\n",
              "      <td>17.10</td>\n",
              "      <td>12.83</td>\n",
              "      <td>56.67</td>\n",
              "      <td>54.92</td>\n",
              "    </tr>\n",
              "    <tr>\n",
              "      <th>4</th>\n",
              "      <td>How much of the GDP of Ireland is affected by ...</td>\n",
              "      <td>This is crucial for the Irish economy, with pr...</td>\n",
              "      <td>15.33</td>\n",
              "      <td>8.77</td>\n",
              "      <td>57.14</td>\n",
              "      <td>52.99</td>\n",
              "    </tr>\n",
              "    <tr>\n",
              "      <th>5</th>\n",
              "      <td>What sectors have been particularly affected b...</td>\n",
              "      <td>Restaurants and takeaways have been particular...</td>\n",
              "      <td>59.54</td>\n",
              "      <td>40.90</td>\n",
              "      <td>76.00</td>\n",
              "      <td>79.02</td>\n",
              "    </tr>\n",
              "    <tr>\n",
              "      <th>6</th>\n",
              "      <td>What is the impact of the COVID-19 on the Iris...</td>\n",
              "      <td>&lt;/s&gt; The halt to a large proportion of economi...</td>\n",
              "      <td>13.36</td>\n",
              "      <td>6.69</td>\n",
              "      <td>40.48</td>\n",
              "      <td>46.30</td>\n",
              "    </tr>\n",
              "    <tr>\n",
              "      <th>7</th>\n",
              "      <td>What are the effects of the COVID-19 on the Ir...</td>\n",
              "      <td>These containment measures implemented to limi...</td>\n",
              "      <td>20.27</td>\n",
              "      <td>9.15</td>\n",
              "      <td>40.62</td>\n",
              "      <td>55.85</td>\n",
              "    </tr>\n",
              "    <tr>\n",
              "      <th>8</th>\n",
              "      <td>Where did the outbreak occur?</td>\n",
              "      <td>First identified in Wuhan, China, the coronavi...</td>\n",
              "      <td>6.95</td>\n",
              "      <td>3.82</td>\n",
              "      <td>43.33</td>\n",
              "      <td>50.91</td>\n",
              "    </tr>\n",
              "    <tr>\n",
              "      <th>9</th>\n",
              "      <td>How much unemployment did the government expec...</td>\n",
              "      <td>5%.</td>\n",
              "      <td>0.00</td>\n",
              "      <td>0.00</td>\n",
              "      <td>0.00</td>\n",
              "      <td>0.00</td>\n",
              "    </tr>\n",
              "    <tr>\n",
              "      <th>10</th>\n",
              "      <td>What is the impact of the closures on the Iris...</td>\n",
              "      <td>&lt;/s&gt; Major commercial flight operators Ryanair...</td>\n",
              "      <td>19.74</td>\n",
              "      <td>5.93</td>\n",
              "      <td>51.35</td>\n",
              "      <td>53.48</td>\n",
              "    </tr>\n",
              "    <tr>\n",
              "      <th>11</th>\n",
              "      <td>How many vehicles were registered in March 2020?</td>\n",
              "      <td>1% in March 2020 as just 6,150 vehicles were r...</td>\n",
              "      <td>23.07</td>\n",
              "      <td>11.35</td>\n",
              "      <td>60.00</td>\n",
              "      <td>51.38</td>\n",
              "    </tr>\n",
              "    <tr>\n",
              "      <th>12</th>\n",
              "      <td>What is the impact of the crisis on the Irish ...</td>\n",
              "      <td>Prior to the crisis, sales were exhibiting a d...</td>\n",
              "      <td>29.26</td>\n",
              "      <td>6.41</td>\n",
              "      <td>43.75</td>\n",
              "      <td>68.39</td>\n",
              "    </tr>\n",
              "    <tr>\n",
              "      <th>13</th>\n",
              "      <td>How many people have been affected by the outb...</td>\n",
              "      <td>The outbreak has decimated demand, with new ve...</td>\n",
              "      <td>26.20</td>\n",
              "      <td>8.55</td>\n",
              "      <td>63.33</td>\n",
              "      <td>67.32</td>\n",
              "    </tr>\n",
              "    <tr>\n",
              "      <th>14</th>\n",
              "      <td>Why is the food supply in Ireland so low?</td>\n",
              "      <td>&lt;/s&gt; Food supply in Ireland has been unaffecte...</td>\n",
              "      <td>10.72</td>\n",
              "      <td>11.02</td>\n",
              "      <td>50.00</td>\n",
              "      <td>35.79</td>\n",
              "    </tr>\n",
              "    <tr>\n",
              "      <th>15</th>\n",
              "      <td>How many passengers passed through Dublin Airp...</td>\n",
              "      <td>Evidencing this, on Easter Monday just 900 pas...</td>\n",
              "      <td>43.38</td>\n",
              "      <td>30.99</td>\n",
              "      <td>69.70</td>\n",
              "      <td>68.86</td>\n",
              "    </tr>\n",
              "    <tr>\n",
              "      <th>16</th>\n",
              "      <td>How many people have been employed by the two ...</td>\n",
              "      <td>Tesco and Musgrave have employed thousands of ...</td>\n",
              "      <td>29.93</td>\n",
              "      <td>10.27</td>\n",
              "      <td>51.72</td>\n",
              "      <td>64.90</td>\n",
              "    </tr>\n",
              "    <tr>\n",
              "      <th>17</th>\n",
              "      <td>What is the impact of the lockdown on the Iris...</td>\n",
              "      <td>As private consumption and consumer confidence...</td>\n",
              "      <td>11.40</td>\n",
              "      <td>6.33</td>\n",
              "      <td>68.97</td>\n",
              "      <td>60.06</td>\n",
              "    </tr>\n",
              "    <tr>\n",
              "      <th>18</th>\n",
              "      <td>What is the impact of the lockdown measures on...</td>\n",
              "      <td>The Irish automotive sector has been profoundl...</td>\n",
              "      <td>61.81</td>\n",
              "      <td>30.74</td>\n",
              "      <td>77.78</td>\n",
              "      <td>82.88</td>\n",
              "    </tr>\n",
              "    <tr>\n",
              "      <th>19</th>\n",
              "      <td>What is the impact of the lockdown on the Iris...</td>\n",
              "      <td>IBISWorld expects higher online retail sales t...</td>\n",
              "      <td>9.02</td>\n",
              "      <td>6.31</td>\n",
              "      <td>66.67</td>\n",
              "      <td>48.87</td>\n",
              "    </tr>\n",
              "  </tbody>\n",
              "</table>\n",
              "</div>"
            ],
            "text/plain": [
              "                                             Question  ... Cosine_Similarity\n",
              "0   What sectors are expected to report the most j...  ...             70.27\n",
              "1   How many deaths have been reported in Ireland ...  ...             57.47\n",
              "2   What is the impact of the outbreak on the econ...  ...             67.15\n",
              "3   What is the impact of the coronavirus on the I...  ...             54.92\n",
              "4   How much of the GDP of Ireland is affected by ...  ...             52.99\n",
              "5   What sectors have been particularly affected b...  ...             79.02\n",
              "6   What is the impact of the COVID-19 on the Iris...  ...             46.30\n",
              "7   What are the effects of the COVID-19 on the Ir...  ...             55.85\n",
              "8                       Where did the outbreak occur?  ...             50.91\n",
              "9   How much unemployment did the government expec...  ...              0.00\n",
              "10  What is the impact of the closures on the Iris...  ...             53.48\n",
              "11   How many vehicles were registered in March 2020?  ...             51.38\n",
              "12  What is the impact of the crisis on the Irish ...  ...             68.39\n",
              "13  How many people have been affected by the outb...  ...             67.32\n",
              "14          Why is the food supply in Ireland so low?  ...             35.79\n",
              "15  How many passengers passed through Dublin Airp...  ...             68.86\n",
              "16  How many people have been employed by the two ...  ...             64.90\n",
              "17  What is the impact of the lockdown on the Iris...  ...             60.06\n",
              "18  What is the impact of the lockdown measures on...  ...             82.88\n",
              "19  What is the impact of the lockdown on the Iris...  ...             48.87\n",
              "\n",
              "[20 rows x 6 columns]"
            ]
          },
          "metadata": {
            "tags": []
          },
          "execution_count": 84
        }
      ]
    },
    {
      "cell_type": "markdown",
      "metadata": {
        "id": "h_JK5-NXOb_b"
      },
      "source": [
        "### Mount colab notebook to google drive"
      ]
    },
    {
      "cell_type": "code",
      "metadata": {
        "colab": {
          "base_uri": "https://localhost:8080/"
        },
        "id": "GkEixsGU0afT",
        "outputId": "cae79251-c276-4f2b-fa24-a3a9ec652a73"
      },
      "source": [
        "from google.colab import drive\n",
        "drive.mount('/content/gdrive')"
      ],
      "execution_count": null,
      "outputs": [
        {
          "output_type": "stream",
          "text": [
            "Mounted at /content/gdrive\n"
          ],
          "name": "stdout"
        }
      ]
    },
    {
      "cell_type": "code",
      "metadata": {
        "id": "iH8eHvqubdn9"
      },
      "source": [
        "DIR = os.path.expanduser('/content/gdrive/MyDrive/QG_dataset/')\n",
        "Evaluations.to_csv(os.path.join(DIR, 'Evaluation_Matrix.csv')) "
      ],
      "execution_count": null,
      "outputs": []
    }
  ]
}